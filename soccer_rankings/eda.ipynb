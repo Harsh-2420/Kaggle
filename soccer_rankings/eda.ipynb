{
 "cells": [
  {
   "cell_type": "code",
   "execution_count": 1,
   "metadata": {},
   "outputs": [],
   "source": [
    "import pandas as pd"
   ]
  },
  {
   "cell_type": "code",
   "execution_count": 4,
   "metadata": {},
   "outputs": [],
   "source": [
    "global_ranking = pd.read_csv('./data/spi_global_rankings.csv')\n",
    "global_ranking_int = pd.read_csv('./data/spi_global_rankings_intl.csv')\n",
    "matches = pd.read_csv('./data/spi_matches.csv')\n",
    "matches_lat = pd.read_csv('./data/spi_matches_latest.csv')"
   ]
  },
  {
   "cell_type": "code",
   "execution_count": 54,
   "metadata": {},
   "outputs": [
    {
     "data": {
      "text/plain": [
       "season                            2018\n",
       "date                        2018-08-12\n",
       "league_id                         2411\n",
       "league         Barclays Premier League\n",
       "team1                        Liverpool\n",
       "team2                  West Ham United\n",
       "spi1                             88.86\n",
       "spi2                             64.54\n",
       "prob1                           0.8203\n",
       "prob2                           0.0505\n",
       "probtie                         0.1292\n",
       "proj_score1                       2.75\n",
       "proj_score2                       0.55\n",
       "importance1                       54.8\n",
       "importance2                       20.7\n",
       "score1                             4.0\n",
       "score2                             0.0\n",
       "xg1                               3.86\n",
       "xg2                               0.38\n",
       "nsxg1                             2.42\n",
       "nsxg2                             0.66\n",
       "adj_score1                        3.75\n",
       "adj_score2                         0.0\n",
       "Name: 11918, dtype: object"
      ]
     },
     "execution_count": 54,
     "metadata": {},
     "output_type": "execute_result"
    }
   ],
   "source": [
    "prem = matches[(matches['league'] == 'Barclays Premier League') & (matches['season'] == 2018) & (matches['team1'] == 'Liverpool')]\n",
    "prem.iloc[0]\n",
    "# matches['league'].unique()"
   ]
  },
  {
   "cell_type": "code",
   "execution_count": 61,
   "metadata": {},
   "outputs": [
    {
     "data": {
      "text/html": [
       "<div>\n",
       "<style scoped>\n",
       "    .dataframe tbody tr th:only-of-type {\n",
       "        vertical-align: middle;\n",
       "    }\n",
       "\n",
       "    .dataframe tbody tr th {\n",
       "        vertical-align: top;\n",
       "    }\n",
       "\n",
       "    .dataframe thead th {\n",
       "        text-align: right;\n",
       "    }\n",
       "</style>\n",
       "<table border=\"1\" class=\"dataframe\">\n",
       "  <thead>\n",
       "    <tr style=\"text-align: right;\">\n",
       "      <th></th>\n",
       "      <th>rank</th>\n",
       "      <th>prev_rank</th>\n",
       "      <th>name</th>\n",
       "      <th>league</th>\n",
       "      <th>off</th>\n",
       "      <th>def</th>\n",
       "      <th>spi</th>\n",
       "    </tr>\n",
       "  </thead>\n",
       "  <tbody>\n",
       "    <tr>\n",
       "      <th>78</th>\n",
       "      <td>79</td>\n",
       "      <td>77</td>\n",
       "      <td>Shakhtar Donetsk</td>\n",
       "      <td>UEFA Champions League</td>\n",
       "      <td>1.96</td>\n",
       "      <td>1.14</td>\n",
       "      <td>63.71</td>\n",
       "    </tr>\n",
       "    <tr>\n",
       "      <th>106</th>\n",
       "      <td>107</td>\n",
       "      <td>106</td>\n",
       "      <td>Dynamo Kiev</td>\n",
       "      <td>UEFA Champions League</td>\n",
       "      <td>1.66</td>\n",
       "      <td>1.09</td>\n",
       "      <td>58.89</td>\n",
       "    </tr>\n",
       "  </tbody>\n",
       "</table>\n",
       "</div>"
      ],
      "text/plain": [
       "     rank  prev_rank              name                 league   off   def  \\\n",
       "78     79         77  Shakhtar Donetsk  UEFA Champions League  1.96  1.14   \n",
       "106   107        106       Dynamo Kiev  UEFA Champions League  1.66  1.09   \n",
       "\n",
       "       spi  \n",
       "78   63.71  \n",
       "106  58.89  "
      ]
     },
     "execution_count": 61,
     "metadata": {},
     "output_type": "execute_result"
    }
   ],
   "source": [
    "global_ranking[global_ranking['league']=='UEFA Champions League']"
   ]
  },
  {
   "cell_type": "code",
   "execution_count": 66,
   "metadata": {},
   "outputs": [
    {
     "data": {
      "text/plain": [
       "season                          2021\n",
       "date                      2022-05-04\n",
       "league_id                       1818\n",
       "league         UEFA Champions League\n",
       "team1                    Real Madrid\n",
       "team2                Manchester City\n",
       "spi1                           85.82\n",
       "spi2                           93.69\n",
       "prob1                         0.2964\n",
       "prob2                         0.4737\n",
       "probtie                         0.23\n",
       "proj_score1                     1.34\n",
       "proj_score2                     1.75\n",
       "importance1                    100.0\n",
       "importance2                    100.0\n",
       "score1                           3.0\n",
       "score2                           1.0\n",
       "xg1                              2.6\n",
       "xg2                             1.73\n",
       "nsxg1                            2.4\n",
       "nsxg2                           1.84\n",
       "adj_score1                      3.15\n",
       "adj_score2                      1.05\n",
       "Name: 9388, dtype: object"
      ]
     },
     "execution_count": 66,
     "metadata": {},
     "output_type": "execute_result"
    }
   ],
   "source": [
    "matches_lat[matches_lat['league']=='UEFA Champions League'].iloc[-2]"
   ]
  },
  {
   "cell_type": "code",
   "execution_count": null,
   "metadata": {},
   "outputs": [],
   "source": []
  }
 ],
 "metadata": {
  "interpreter": {
   "hash": "83244fc75ff76f901b23836256937dde79d06975152126052017f413defbe545"
  },
  "kernelspec": {
   "display_name": "Python 3.9.12 ('f1')",
   "language": "python",
   "name": "python3"
  },
  "language_info": {
   "codemirror_mode": {
    "name": "ipython",
    "version": 3
   },
   "file_extension": ".py",
   "mimetype": "text/x-python",
   "name": "python",
   "nbconvert_exporter": "python",
   "pygments_lexer": "ipython3",
   "version": "3.9.12"
  },
  "orig_nbformat": 4
 },
 "nbformat": 4,
 "nbformat_minor": 2
}
