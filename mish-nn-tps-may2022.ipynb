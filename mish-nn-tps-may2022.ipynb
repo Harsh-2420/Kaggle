{
 "cells": [
  {
   "cell_type": "markdown",
   "id": "c67b072f",
   "metadata": {
    "papermill": {
     "duration": 0.018187,
     "end_time": "2022-05-15T11:46:02.446386",
     "exception": false,
     "start_time": "2022-05-15T11:46:02.428199",
     "status": "completed"
    },
    "tags": []
   },
   "source": [
    "### Imports and Function Definitions"
   ]
  },
  {
   "cell_type": "code",
   "execution_count": 1,
   "id": "c3447c83",
   "metadata": {
    "_cell_guid": "b1076dfc-b9ad-4769-8c92-a6c4dae69d19",
    "_uuid": "8f2839f25d086af736a60e9eeb907d3b93b6e0e5",
    "execution": {
     "iopub.execute_input": "2022-05-15T11:46:02.481745Z",
     "iopub.status.busy": "2022-05-15T11:46:02.481169Z",
     "iopub.status.idle": "2022-05-15T11:46:11.191081Z",
     "shell.execute_reply": "2022-05-15T11:46:11.190341Z"
    },
    "papermill": {
     "duration": 8.730363,
     "end_time": "2022-05-15T11:46:11.193540",
     "exception": false,
     "start_time": "2022-05-15T11:46:02.463177",
     "status": "completed"
    },
    "tags": []
   },
   "outputs": [
    {
     "data": {
      "text/html": [
       "<style type='text/css'>\n",
       ".datatable table.frame { margin-bottom: 0; }\n",
       ".datatable table.frame thead { border-bottom: none; }\n",
       ".datatable table.frame tr.coltypes td {  color: #FFFFFF;  line-height: 6px;  padding: 0 0.5em;}\n",
       ".datatable .bool    { background: #DDDD99; }\n",
       ".datatable .object  { background: #565656; }\n",
       ".datatable .int     { background: #5D9E5D; }\n",
       ".datatable .float   { background: #4040CC; }\n",
       ".datatable .str     { background: #CC4040; }\n",
       ".datatable .time    { background: #40CC40; }\n",
       ".datatable .row_index {  background: var(--jp-border-color3);  border-right: 1px solid var(--jp-border-color0);  color: var(--jp-ui-font-color3);  font-size: 9px;}\n",
       ".datatable .frame tbody td { text-align: left; }\n",
       ".datatable .frame tr.coltypes .row_index {  background: var(--jp-border-color0);}\n",
       ".datatable th:nth-child(2) { padding-left: 12px; }\n",
       ".datatable .hellipsis {  color: var(--jp-cell-editor-border-color);}\n",
       ".datatable .vellipsis {  background: var(--jp-layout-color0);  color: var(--jp-cell-editor-border-color);}\n",
       ".datatable .na {  color: var(--jp-cell-editor-border-color);  font-size: 80%;}\n",
       ".datatable .sp {  opacity: 0.25;}\n",
       ".datatable .footer { font-size: 9px; }\n",
       ".datatable .frame_dimensions {  background: var(--jp-border-color3);  border-top: 1px solid var(--jp-border-color0);  color: var(--jp-ui-font-color3);  display: inline-block;  opacity: 0.6;  padding: 1px 10px 1px 5px;}\n",
       "</style>\n"
      ],
      "text/plain": [
       "<IPython.core.display.HTML object>"
      ]
     },
     "metadata": {},
     "output_type": "display_data"
    }
   ],
   "source": [
    "import numpy as np\n",
    "import pandas as pd\n",
    "import matplotlib.pyplot as plt\n",
    "from matplotlib.ticker import MaxNLocator\n",
    "import seaborn as sns\n",
    "from cycler import cycler\n",
    "from IPython.display import display\n",
    "import datetime\n",
    "import scipy.stats\n",
    "from matplotlib.colors import ListedColormap\n",
    "import math\n",
    "import random\n",
    "\n",
    "from sklearn.model_selection import KFold\n",
    "from sklearn.metrics import roc_auc_score, roc_curve\n",
    "from sklearn.ensemble import HistGradientBoostingClassifier\n",
    "from sklearn.calibration import CalibrationDisplay\n",
    "from xgboost import XGBClassifier\n",
    "from lightgbm import LGBMClassifier\n",
    "from sklearn.preprocessing import StandardScaler\n",
    "\n",
    "import tensorflow as tf\n",
    "from keras.models import Sequential\n",
    "from keras.layers import Dense, Dropout\n",
    "from keras.constraints import maxnorm\n",
    "from tensorflow.keras.models import Model\n",
    "from tensorflow.keras.callbacks import ReduceLROnPlateau, LearningRateScheduler, EarlyStopping\n",
    "from tensorflow.keras.layers import Dense, Input, InputLayer, Add, Concatenate, Dropout, AlphaDropout\n",
    "from tensorflow.keras.utils import plot_model\n",
    "# from tensorflow_addons.activations import mish\n",
    "\n",
    "plt.rcParams['axes.prop_cycle'] = cycler(color=['#ffd700'] +\n",
    "                                         plt.rcParams['axes.prop_cycle'].by_key()['color'][1:])\n"
   ]
  },
  {
   "cell_type": "code",
   "execution_count": 2,
   "id": "bef6fa70",
   "metadata": {
    "execution": {
     "iopub.execute_input": "2022-05-15T11:46:11.229768Z",
     "iopub.status.busy": "2022-05-15T11:46:11.229098Z",
     "iopub.status.idle": "2022-05-15T11:46:11.241862Z",
     "shell.execute_reply": "2022-05-15T11:46:11.241211Z"
    },
    "papermill": {
     "duration": 0.032173,
     "end_time": "2022-05-15T11:46:11.243500",
     "exception": false,
     "start_time": "2022-05-15T11:46:11.211327",
     "status": "completed"
    },
    "tags": []
   },
   "outputs": [],
   "source": [
    "def plot_history(history, *, n_epochs=None, plot_lr=False, title=None, bottom=None, top=None):\n",
    "    \"\"\"Plot (the last n_epochs epochs of) the training history\n",
    "    \n",
    "    Plots loss and optionally val_loss and lr.\"\"\"\n",
    "    plt.figure(figsize=(15, 6))\n",
    "    from_epoch = 0 if n_epochs is None else max(len(history['loss']) - n_epochs, 0)\n",
    "    \n",
    "    # Plot training and validation losses\n",
    "    plt.plot(np.arange(from_epoch, len(history['loss'])), history['loss'][from_epoch:], label='Training loss')\n",
    "    try:\n",
    "        plt.plot(np.arange(from_epoch, len(history['loss'])), history['val_loss'][from_epoch:], label='Validation loss')\n",
    "        best_epoch = np.argmin(np.array(history['val_loss']))\n",
    "        best_val_loss = history['val_loss'][best_epoch]\n",
    "        if best_epoch >= from_epoch:\n",
    "            plt.scatter([best_epoch], [best_val_loss], c='r', label=f'Best val_loss = {best_val_loss:.5f}')\n",
    "        if best_epoch > 0:\n",
    "            almost_epoch = np.argmin(np.array(history['val_loss'])[:best_epoch])\n",
    "            almost_val_loss = history['val_loss'][almost_epoch]\n",
    "            if almost_epoch >= from_epoch:\n",
    "                plt.scatter([almost_epoch], [almost_val_loss], c='orange', label='Second best val_loss')\n",
    "    except KeyError:\n",
    "        pass\n",
    "    if bottom is not None: plt.ylim(bottom=bottom)\n",
    "    if top is not None: plt.ylim(top=top)\n",
    "    plt.gca().xaxis.set_major_locator(MaxNLocator(integer=True))\n",
    "    plt.xlabel('Epoch')\n",
    "    plt.ylabel('Loss')\n",
    "    plt.legend(loc='lower left')\n",
    "    if title is not None: plt.title(title)\n",
    "        \n",
    "    # Plot learning rate\n",
    "    if plot_lr and 'lr' in history:\n",
    "        ax2 = plt.gca().twinx()\n",
    "        ax2.plot(np.arange(from_epoch, len(history['lr'])), np.array(history['lr'][from_epoch:]), color='g', label='Learning rate')\n",
    "        ax2.set_ylabel('Learning rate')\n",
    "        ax2.legend(loc='upper right')\n",
    "        \n",
    "    plt.show()"
   ]
  },
  {
   "cell_type": "markdown",
   "id": "98d05fc6",
   "metadata": {
    "papermill": {
     "duration": 0.016382,
     "end_time": "2022-05-15T11:46:11.276677",
     "exception": false,
     "start_time": "2022-05-15T11:46:11.260295",
     "status": "completed"
    },
    "tags": []
   },
   "source": [
    "#### Creating Mish Activation "
   ]
  },
  {
   "cell_type": "code",
   "execution_count": 3,
   "id": "bda1d30f",
   "metadata": {
    "execution": {
     "iopub.execute_input": "2022-05-15T11:46:11.311465Z",
     "iopub.status.busy": "2022-05-15T11:46:11.310966Z",
     "iopub.status.idle": "2022-05-15T11:46:11.318436Z",
     "shell.execute_reply": "2022-05-15T11:46:11.317791Z"
    },
    "papermill": {
     "duration": 0.026881,
     "end_time": "2022-05-15T11:46:11.320247",
     "exception": false,
     "start_time": "2022-05-15T11:46:11.293366",
     "status": "completed"
    },
    "tags": []
   },
   "outputs": [],
   "source": [
    "import keras\n",
    "from keras import backend as K\n",
    "from keras.engine.base_layer import Layer\n",
    "class Mish(Layer):\n",
    "    '''\n",
    "    Mish Activation Function.\n",
    "    .. math::\n",
    "        mish(x) = x * tanh(softplus(x)) = x * tanh(ln(1 + e^{x}))\n",
    "    Shape:\n",
    "        - Input: Arbitrary. Use the keyword argument `input_shape`\n",
    "        (tuple of integers, does not include the samples axis)\n",
    "        when using this layer as the first layer in a model.\n",
    "        - Output: Same shape as the input.\n",
    "    Examples:\n",
    "        >>> X_input = Input(input_shape)\n",
    "        >>> X = Mish()(X_input)\n",
    "    '''\n",
    "\n",
    "    def __init__(self, **kwargs):\n",
    "        super(Mish, self).__init__(**kwargs)\n",
    "        self.supports_masking = True\n",
    "\n",
    "    def call(self, inputs):\n",
    "        return inputs * K.tanh(K.softplus(inputs))\n",
    "\n",
    "    def get_config(self):\n",
    "        base_config = super(Mish, self).get_config()\n",
    "        return dict(list(base_config.items()) + list(config.items()))\n",
    "\n",
    "    def compute_output_shape(self, input_shape):\n",
    "        return input_shape\n",
    "      \n",
    "\n",
    "def mish(x):\n",
    "    return keras.layers.Lambda(lambda x: x*K.tanh(K.softplus(x)))(x)"
   ]
  },
  {
   "cell_type": "markdown",
   "id": "d82e8f4e",
   "metadata": {
    "papermill": {
     "duration": 0.016456,
     "end_time": "2022-05-15T11:46:11.353281",
     "exception": false,
     "start_time": "2022-05-15T11:46:11.336825",
     "status": "completed"
    },
    "tags": []
   },
   "source": [
    "#### Data Import and F.Eng"
   ]
  },
  {
   "cell_type": "code",
   "execution_count": 4,
   "id": "bba0e49e",
   "metadata": {
    "execution": {
     "iopub.execute_input": "2022-05-15T11:46:11.388202Z",
     "iopub.status.busy": "2022-05-15T11:46:11.387653Z",
     "iopub.status.idle": "2022-05-15T11:46:41.023958Z",
     "shell.execute_reply": "2022-05-15T11:46:41.023191Z"
    },
    "papermill": {
     "duration": 29.65561,
     "end_time": "2022-05-15T11:46:41.026019",
     "exception": false,
     "start_time": "2022-05-15T11:46:11.370409",
     "status": "completed"
    },
    "tags": []
   },
   "outputs": [],
   "source": [
    "train = pd.read_csv('../input/tabular-playground-series-may-2022/train.csv')\n",
    "test = pd.read_csv('../input/tabular-playground-series-may-2022/test.csv')\n",
    "\n",
    "for i in range(10):\n",
    "    train[f'ch{i}'] = train.f_27.str.get(i).apply(ord) - ord('A')\n",
    "    test[f'ch{i}'] = test.f_27.str.get(i).apply(ord) - ord('A')\n",
    "features = [f for f in test.columns if f != 'id' and f != 'f_27']"
   ]
  },
  {
   "cell_type": "code",
   "execution_count": 5,
   "id": "572fcdb9",
   "metadata": {
    "execution": {
     "iopub.execute_input": "2022-05-15T11:46:41.064534Z",
     "iopub.status.busy": "2022-05-15T11:46:41.063937Z",
     "iopub.status.idle": "2022-05-15T11:47:02.082170Z",
     "shell.execute_reply": "2022-05-15T11:47:02.081520Z"
    },
    "papermill": {
     "duration": 21.038417,
     "end_time": "2022-05-15T11:47:02.084178",
     "exception": false,
     "start_time": "2022-05-15T11:46:41.045761",
     "status": "completed"
    },
    "tags": []
   },
   "outputs": [
    {
     "data": {
      "text/html": [
       "<div>\n",
       "<style scoped>\n",
       "    .dataframe tbody tr th:only-of-type {\n",
       "        vertical-align: middle;\n",
       "    }\n",
       "\n",
       "    .dataframe tbody tr th {\n",
       "        vertical-align: top;\n",
       "    }\n",
       "\n",
       "    .dataframe thead th {\n",
       "        text-align: right;\n",
       "    }\n",
       "</style>\n",
       "<table border=\"1\" class=\"dataframe\">\n",
       "  <thead>\n",
       "    <tr style=\"text-align: right;\">\n",
       "      <th></th>\n",
       "      <th>f_00</th>\n",
       "      <th>f_01</th>\n",
       "      <th>f_02</th>\n",
       "      <th>f_03</th>\n",
       "      <th>f_04</th>\n",
       "      <th>f_05</th>\n",
       "      <th>f_06</th>\n",
       "      <th>f_07</th>\n",
       "      <th>f_08</th>\n",
       "      <th>f_09</th>\n",
       "      <th>...</th>\n",
       "      <th>ch4</th>\n",
       "      <th>ch5</th>\n",
       "      <th>ch6</th>\n",
       "      <th>ch7</th>\n",
       "      <th>ch8</th>\n",
       "      <th>ch9</th>\n",
       "      <th>unique_characters</th>\n",
       "      <th>i_02_21</th>\n",
       "      <th>i_05_22</th>\n",
       "      <th>i_00_01_26</th>\n",
       "    </tr>\n",
       "  </thead>\n",
       "  <tbody>\n",
       "    <tr>\n",
       "      <th>0</th>\n",
       "      <td>0.442517</td>\n",
       "      <td>0.174380</td>\n",
       "      <td>-0.999816</td>\n",
       "      <td>0.762741</td>\n",
       "      <td>0.186778</td>\n",
       "      <td>-1.074775</td>\n",
       "      <td>0.501888</td>\n",
       "      <td>6</td>\n",
       "      <td>6</td>\n",
       "      <td>0</td>\n",
       "      <td>...</td>\n",
       "      <td>1</td>\n",
       "      <td>0</td>\n",
       "      <td>3</td>\n",
       "      <td>11</td>\n",
       "      <td>0</td>\n",
       "      <td>2</td>\n",
       "      <td>5</td>\n",
       "      <td>0</td>\n",
       "      <td>0</td>\n",
       "      <td>1</td>\n",
       "    </tr>\n",
       "    <tr>\n",
       "      <th>1</th>\n",
       "      <td>-0.605598</td>\n",
       "      <td>-0.305715</td>\n",
       "      <td>0.627667</td>\n",
       "      <td>-0.578898</td>\n",
       "      <td>-1.750931</td>\n",
       "      <td>1.355550</td>\n",
       "      <td>-0.190911</td>\n",
       "      <td>1</td>\n",
       "      <td>3</td>\n",
       "      <td>4</td>\n",
       "      <td>...</td>\n",
       "      <td>1</td>\n",
       "      <td>0</td>\n",
       "      <td>4</td>\n",
       "      <td>6</td>\n",
       "      <td>2</td>\n",
       "      <td>1</td>\n",
       "      <td>6</td>\n",
       "      <td>0</td>\n",
       "      <td>0</td>\n",
       "      <td>0</td>\n",
       "    </tr>\n",
       "  </tbody>\n",
       "</table>\n",
       "<p>2 rows × 44 columns</p>\n",
       "</div>"
      ],
      "text/plain": [
       "       f_00      f_01      f_02      f_03      f_04      f_05      f_06  f_07  \\\n",
       "0  0.442517  0.174380 -0.999816  0.762741  0.186778 -1.074775  0.501888     6   \n",
       "1 -0.605598 -0.305715  0.627667 -0.578898 -1.750931  1.355550 -0.190911     1   \n",
       "\n",
       "   f_08  f_09  ...  ch4  ch5  ch6  ch7  ch8  ch9  unique_characters  i_02_21  \\\n",
       "0     6     0  ...    1    0    3   11    0    2                  5        0   \n",
       "1     3     4  ...    1    0    4    6    2    1                  6        0   \n",
       "\n",
       "   i_05_22  i_00_01_26  \n",
       "0        0           1  \n",
       "1        0           0  \n",
       "\n",
       "[2 rows x 44 columns]"
      ]
     },
     "execution_count": 5,
     "metadata": {},
     "output_type": "execute_result"
    }
   ],
   "source": [
    "features = [f for f in test.columns if f != 'id' and f != 'f_27']\n",
    "float_features = [f for f in features if test[f].dtype == float]\n",
    "for df in [train, test]:\n",
    "    # Extract the 10 letters of f_27 into individual features\n",
    "    for i in range(10):\n",
    "        df[f'ch{i}'] = df.f_27.str.get(i).apply(ord) - ord('A')\n",
    "        \n",
    "    # unique_characters feature is from https://www.kaggle.com/code/cabaxiom/tps-may-22-eda-lgbm-model\n",
    "    df[\"unique_characters\"] = df.f_27.apply(lambda s: len(set(s)))\n",
    "    \n",
    "    # Feature interactions: create three ternary features\n",
    "    # Every ternary feature can have the values -1, 0 and +1\n",
    "    df['i_02_21'] = (df.f_21 + df.f_02 > 5.2).astype(int) - (df.f_21 + df.f_02 < -5.3).astype(int)\n",
    "    df['i_05_22'] = (df.f_22 + df.f_05 > 5.1).astype(int) - (df.f_22 + df.f_05 < -5.4).astype(int)\n",
    "    i_00_01_26 = df.f_00 + df.f_01 + df.f_26\n",
    "    df['i_00_01_26'] = (i_00_01_26 > 5.0).astype(int) - (i_00_01_26 < -5.0).astype(int)\n",
    "    \n",
    "features = [f for f in test.columns if f != 'id' and f != 'f_27']\n",
    "float_features = [f for f in features if test[f].dtype == float]\n",
    "int_features = [f for f in features if test[f].dtype == int and f.startswith('f')]\n",
    "ch_features = [f for f in features if f.startswith('ch')]\n",
    "test[features].head(2)"
   ]
  },
  {
   "cell_type": "markdown",
   "id": "6ed2249c",
   "metadata": {
    "papermill": {
     "duration": 0.018352,
     "end_time": "2022-05-15T11:47:02.120985",
     "exception": false,
     "start_time": "2022-05-15T11:47:02.102633",
     "status": "completed"
    },
    "tags": []
   },
   "source": [
    "#### Data Sampling & Memory Reduction"
   ]
  },
  {
   "cell_type": "code",
   "execution_count": 6,
   "id": "11dd456c",
   "metadata": {
    "execution": {
     "iopub.execute_input": "2022-05-15T11:47:02.158787Z",
     "iopub.status.busy": "2022-05-15T11:47:02.158533Z",
     "iopub.status.idle": "2022-05-15T11:47:04.083452Z",
     "shell.execute_reply": "2022-05-15T11:47:04.082537Z"
    },
    "papermill": {
     "duration": 1.946255,
     "end_time": "2022-05-15T11:47:04.086297",
     "exception": false,
     "start_time": "2022-05-15T11:47:02.140042",
     "status": "completed"
    },
    "tags": []
   },
   "outputs": [
    {
     "name": "stdout",
     "output_type": "stream",
     "text": [
      "Mem. usage decreased to 62.66 Mb (80.6% reduction)\n",
      "Mem. usage decreased to 48.07 Mb (80.4% reduction)\n"
     ]
    },
    {
     "data": {
      "text/plain": [
       "(180000, 47)"
      ]
     },
     "execution_count": 6,
     "metadata": {},
     "output_type": "execute_result"
    }
   ],
   "source": [
    "def reduce_memory_usage(df, verbose=True):\n",
    "    numerics = [\"int8\", \"int16\", \"int32\", \"int64\", \"float16\", \"float32\", \"float64\"]\n",
    "    start_mem = df.memory_usage().sum() / 1024 ** 2\n",
    "    for col in df.columns:\n",
    "        col_type = df[col].dtypes\n",
    "        if col_type in numerics:\n",
    "            c_min = df[col].min()\n",
    "            c_max = df[col].max()\n",
    "            if str(col_type)[:3] == \"int\":\n",
    "                if c_min > np.iinfo(np.int8).min and c_max < np.iinfo(np.int8).max:\n",
    "                    df[col] = df[col].astype(np.int8)\n",
    "                elif c_min > np.iinfo(np.int16).min and c_max < np.iinfo(np.int16).max:\n",
    "                    df[col] = df[col].astype(np.int16)\n",
    "                elif c_min > np.iinfo(np.int32).min and c_max < np.iinfo(np.int32).max:\n",
    "                    df[col] = df[col].astype(np.int32)\n",
    "                elif c_min > np.iinfo(np.int64).min and c_max < np.iinfo(np.int64).max:\n",
    "                    df[col] = df[col].astype(np.int64)\n",
    "            else:\n",
    "                if (\n",
    "                    c_min > np.finfo(np.float16).min\n",
    "                    and c_max < np.finfo(np.float16).max\n",
    "                ):\n",
    "                    df[col] = df[col].astype(np.float16)\n",
    "                elif (\n",
    "                    c_min > np.finfo(np.float32).min\n",
    "                    and c_max < np.finfo(np.float32).max\n",
    "                ):\n",
    "                    df[col] = df[col].astype(np.float32)\n",
    "                else:\n",
    "                    df[col] = df[col].astype(np.float64)\n",
    "    end_mem = df.memory_usage().sum() / 1024 ** 2\n",
    "    if verbose:\n",
    "        print(\n",
    "            \"Mem. usage decreased to {:.2f} Mb ({:.1f}% reduction)\".format(\n",
    "                end_mem, 100 * (start_mem - end_mem) / start_mem\n",
    "            )\n",
    "        )\n",
    "    return df\n",
    "\n",
    "train = reduce_memory_usage(train, verbose=True)\n",
    "test = reduce_memory_usage(test, verbose=True)\n",
    "\n",
    "sample_df = train.sample(int(len(train) * 0.2))\n",
    "sample_df.shape\n"
   ]
  },
  {
   "cell_type": "markdown",
   "id": "50dcb149",
   "metadata": {
    "papermill": {
     "duration": 0.018221,
     "end_time": "2022-05-15T11:47:04.123587",
     "exception": false,
     "start_time": "2022-05-15T11:47:04.105366",
     "status": "completed"
    },
    "tags": []
   },
   "source": [
    "#### EDA\n",
    "\n",
    "plan: \n",
    "- univariate plots for features\n",
    "- use plots and transform data if needed\n",
    "- data projections --> splines? PCA?"
   ]
  },
  {
   "cell_type": "code",
   "execution_count": 7,
   "id": "7e80ac1a",
   "metadata": {
    "execution": {
     "iopub.execute_input": "2022-05-15T11:47:04.162959Z",
     "iopub.status.busy": "2022-05-15T11:47:04.162754Z",
     "iopub.status.idle": "2022-05-15T11:47:04.166079Z",
     "shell.execute_reply": "2022-05-15T11:47:04.165408Z"
    },
    "papermill": {
     "duration": 0.025033,
     "end_time": "2022-05-15T11:47:04.167707",
     "exception": false,
     "start_time": "2022-05-15T11:47:04.142674",
     "status": "completed"
    },
    "tags": []
   },
   "outputs": [],
   "source": [
    "# # If unique value < 10, consider categorical\n",
    "\n",
    "# cat_variables = []\n",
    "\n",
    "# for column in sample_df.columns:\n",
    "#     if len(sample_df[column].unique()) < 10:\n",
    "#         cat_variables.append(column)\n",
    "# print(cat_variables)"
   ]
  },
  {
   "cell_type": "code",
   "execution_count": 8,
   "id": "3e8e8893",
   "metadata": {
    "execution": {
     "iopub.execute_input": "2022-05-15T11:47:04.205703Z",
     "iopub.status.busy": "2022-05-15T11:47:04.205323Z",
     "iopub.status.idle": "2022-05-15T11:47:04.209058Z",
     "shell.execute_reply": "2022-05-15T11:47:04.208242Z"
    },
    "papermill": {
     "duration": 0.024575,
     "end_time": "2022-05-15T11:47:04.210722",
     "exception": false,
     "start_time": "2022-05-15T11:47:04.186147",
     "status": "completed"
    },
    "tags": []
   },
   "outputs": [],
   "source": [
    "# fig = plt.figure(figsize = (18, 30))\n",
    "\n",
    "# for i in range(len(sample_df.columns.tolist()[:47])):\n",
    "# #     if sample_df.columns.tolist()[:241][i] in [cat_variables]: \n",
    "# #         continue\n",
    "#     if sample_df.columns.tolist()[:241][i] == 'f_27': \n",
    "#         continue\n",
    "#     else:\n",
    "#         plt.subplot(10,5,i+1)\n",
    "#         sns.set_style(\"white\")\n",
    "#         plt.title(sample_df.columns.tolist()[:47][i], size = 12, fontname = 'monospace')\n",
    "#         a = sns.kdeplot(sample_df[sample_df.columns.tolist()[:241][i]], color = '#1a5d57', shade = True, alpha = 0.9, linewidth = 1.5, edgecolor = 'black')\n",
    "#         plt.ylabel('')\n",
    "#         plt.xlabel('')\n",
    "#         plt.xticks(fontname = 'monospace')\n",
    "#         plt.yticks([])\n",
    "#         for j in ['right', 'left', 'top']:\n",
    "#             a.spines[j].set_visible(False)\n",
    "#             a.spines['bottom'].set_linewidth(1.2)\n",
    "        \n",
    "# fig.tight_layout(h_pad = 3)\n",
    "\n",
    "# plt.show()"
   ]
  },
  {
   "cell_type": "markdown",
   "id": "07b34d1b",
   "metadata": {
    "papermill": {
     "duration": 0.019333,
     "end_time": "2022-05-15T11:47:04.249078",
     "exception": false,
     "start_time": "2022-05-15T11:47:04.229745",
     "status": "completed"
    },
    "tags": []
   },
   "source": [
    "#### Model Training\n",
    "\n",
    "Next: \n",
    "- Try selu activation\n",
    "- AlphaDropout\n",
    "- SGD Optimizer\n"
   ]
  },
  {
   "cell_type": "code",
   "execution_count": 9,
   "id": "ecdbf3c9",
   "metadata": {
    "execution": {
     "iopub.execute_input": "2022-05-15T11:47:04.287520Z",
     "iopub.status.busy": "2022-05-15T11:47:04.287334Z",
     "iopub.status.idle": "2022-05-15T11:47:04.295604Z",
     "shell.execute_reply": "2022-05-15T11:47:04.294978Z"
    },
    "papermill": {
     "duration": 0.029595,
     "end_time": "2022-05-15T11:47:04.297286",
     "exception": false,
     "start_time": "2022-05-15T11:47:04.267691",
     "status": "completed"
    },
    "tags": []
   },
   "outputs": [],
   "source": [
    "def my_model():\n",
    "    \"\"\"Simple sequential neural network with four hidden layers.\n",
    "    \n",
    "    Returns a (not yet compiled) instance of tensorflow.keras.models.Model.\n",
    "    \"\"\"\n",
    "    activation = 'swish'\n",
    "#     activation = 'selu'\n",
    "#     activation = mish\n",
    "    inputs = Input(shape=(len(features)))\n",
    "    x = Dense(64, kernel_regularizer=tf.keras.regularizers.l2(40e-6),\n",
    "              activation=activation,\n",
    "              kernel_initializer='lecun_normal'\n",
    "             )(inputs)\n",
    "    x = AlphaDropout(0.1)(x)\n",
    "    x = Dense(64, kernel_regularizer=tf.keras.regularizers.l2(40e-6),\n",
    "              activation=activation,\n",
    "              kernel_initializer='lecun_normal'\n",
    "             )(x)\n",
    "#     x = Dropout(0.2)(x)\n",
    "    x = AlphaDropout(0.1)(x)\n",
    "    x = Dense(64, kernel_regularizer=tf.keras.regularizers.l2(40e-6),\n",
    "              activation=activation,\n",
    "              kernel_initializer='lecun_normal'\n",
    "             )(x) \n",
    "    x = Dense(32, kernel_regularizer=tf.keras.regularizers.l2(40e-6),\n",
    "          activation=activation,\n",
    "              kernel_initializer='lecun_normal'\n",
    "             )(x)\n",
    "    x = Dense(16, kernel_regularizer=tf.keras.regularizers.l2(40e-6),\n",
    "              activation=activation,\n",
    "              kernel_initializer='lecun_normal'\n",
    "             )(x)\n",
    "    x = Dense(1, #kernel_regularizer=tf.keras.regularizers.l2(1e-6),\n",
    "              activation='sigmoid',\n",
    "             )(x)\n",
    "    model = Model(inputs, x)\n",
    "    return model"
   ]
  },
  {
   "cell_type": "code",
   "execution_count": 10,
   "id": "24be7035",
   "metadata": {
    "execution": {
     "iopub.execute_input": "2022-05-15T11:47:04.335751Z",
     "iopub.status.busy": "2022-05-15T11:47:04.335539Z",
     "iopub.status.idle": "2022-05-15T12:07:52.690141Z",
     "shell.execute_reply": "2022-05-15T12:07:52.688511Z"
    },
    "papermill": {
     "duration": 1248.399733,
     "end_time": "2022-05-15T12:07:52.715437",
     "exception": false,
     "start_time": "2022-05-15T11:47:04.315704",
     "status": "completed"
    },
    "tags": []
   },
   "outputs": [
    {
     "name": "stdout",
     "output_type": "stream",
     "text": [
      "44 features\n"
     ]
    },
    {
     "name": "stderr",
     "output_type": "stream",
     "text": [
      "2022-05-15 11:47:06.941594: I tensorflow/stream_executor/cuda/cuda_gpu_executor.cc:937] successful NUMA node read from SysFS had negative value (-1), but there must be at least one NUMA node, so returning NUMA node zero\n",
      "2022-05-15 11:47:06.946706: I tensorflow/stream_executor/cuda/cuda_gpu_executor.cc:937] successful NUMA node read from SysFS had negative value (-1), but there must be at least one NUMA node, so returning NUMA node zero\n",
      "2022-05-15 11:47:06.947414: I tensorflow/stream_executor/cuda/cuda_gpu_executor.cc:937] successful NUMA node read from SysFS had negative value (-1), but there must be at least one NUMA node, so returning NUMA node zero\n",
      "2022-05-15 11:47:06.948482: I tensorflow/core/platform/cpu_feature_guard.cc:142] This TensorFlow binary is optimized with oneAPI Deep Neural Network Library (oneDNN) to use the following CPU instructions in performance-critical operations:  AVX2 AVX512F FMA\n",
      "To enable them in other operations, rebuild TensorFlow with the appropriate compiler flags.\n",
      "2022-05-15 11:47:06.948812: I tensorflow/stream_executor/cuda/cuda_gpu_executor.cc:937] successful NUMA node read from SysFS had negative value (-1), but there must be at least one NUMA node, so returning NUMA node zero\n",
      "2022-05-15 11:47:06.949593: I tensorflow/stream_executor/cuda/cuda_gpu_executor.cc:937] successful NUMA node read from SysFS had negative value (-1), but there must be at least one NUMA node, so returning NUMA node zero\n",
      "2022-05-15 11:47:06.950378: I tensorflow/stream_executor/cuda/cuda_gpu_executor.cc:937] successful NUMA node read from SysFS had negative value (-1), but there must be at least one NUMA node, so returning NUMA node zero\n",
      "2022-05-15 11:47:08.999899: I tensorflow/stream_executor/cuda/cuda_gpu_executor.cc:937] successful NUMA node read from SysFS had negative value (-1), but there must be at least one NUMA node, so returning NUMA node zero\n",
      "2022-05-15 11:47:09.000878: I tensorflow/stream_executor/cuda/cuda_gpu_executor.cc:937] successful NUMA node read from SysFS had negative value (-1), but there must be at least one NUMA node, so returning NUMA node zero\n",
      "2022-05-15 11:47:09.001530: I tensorflow/stream_executor/cuda/cuda_gpu_executor.cc:937] successful NUMA node read from SysFS had negative value (-1), but there must be at least one NUMA node, so returning NUMA node zero\n",
      "2022-05-15 11:47:09.002989: I tensorflow/core/common_runtime/gpu/gpu_device.cc:1510] Created device /job:localhost/replica:0/task:0/device:GPU:0 with 15417 MB memory:  -> device: 0, name: Tesla P100-PCIE-16GB, pci bus id: 0000:00:04.0, compute capability: 6.0\n",
      "2022-05-15 11:47:09.826883: I tensorflow/compiler/mlir/mlir_graph_optimization_pass.cc:185] None of the MLIR Optimization Passes are enabled (registered 2)\n"
     ]
    },
    {
     "name": "stdout",
     "output_type": "stream",
     "text": [
      "Fold 0.0 | 04:10 | Training loss: 0.1217 | Val loss: 0.1053 | AUC: 0.99577\n"
     ]
    },
    {
     "data": {
      "image/png": "[encoded data removed]",
      "text/plain": [
       "<Figure size 1080x432 with 2 Axes>"
      ]
     },
     "metadata": {
      "needs_background": "light"
     },
     "output_type": "display_data"
    },
    {
     "data": {
      "image/png": "[encoded data removed]",
      "text/plain": [
       "<Figure size 720x288 with 1 Axes>"
      ]
     },
     "metadata": {
      "needs_background": "light"
     },
     "output_type": "display_data"
    },
    {
     "name": "stdout",
     "output_type": "stream",
     "text": [
      "Fold 0.1 | 04:04 | Training loss: 0.1209 | Val loss: 0.1034 | AUC: 0.99603\n",
      "Fold 0.2 | 04:25 | Training loss: 0.1231 | Val loss: 0.1069 | AUC: 0.99563\n",
      "Fold 0.3 | 04:02 | Training loss: 0.1230 | Val loss: 0.1051 | AUC: 0.99585\n",
      "Fold 0.4 | 04:02 | Training loss: 0.1203 | Val loss: 0.1019 | AUC: 0.99621\n",
      "OOF AUC:                       0.99590\n",
      "CPU times: user 26min 31s, sys: 2min 29s, total: 29min 1s\n",
      "Wall time: 20min 48s\n"
     ]
    }
   ],
   "source": [
    "%%time\n",
    "# Cross-validation of the classifier\n",
    "\n",
    "EPOCHS = 200\n",
    "EPOCHS_COSINEDECAY = 150\n",
    "CYCLES = 1\n",
    "VERBOSE = 0 # set to 0 for less output, or to 2 for more output\n",
    "DIAGRAMS = True\n",
    "USE_PLATEAU = False\n",
    "BATCH_SIZE = 2048\n",
    "ONLY_FIRST_FOLD = False\n",
    "\n",
    "# see https://keras.io/getting_started/faq/#how-can-i-obtain-reproducible-results-using-keras-during-development\n",
    "np.random.seed(1)\n",
    "random.seed(1)\n",
    "tf.random.set_seed(1)\n",
    "\n",
    "def fit_model(X_tr, y_tr, X_va=None, y_va=None, run=0):\n",
    "    \"\"\"Scale the data, fit a model, plot the training history and optionally validate the model\n",
    "    \n",
    "    Returns a trained instance of tensorflow.keras.models.Model.\n",
    "    \n",
    "    As a side effect, updates y_va_pred, history_list and score_list.\n",
    "    \"\"\"\n",
    "    global y_va_pred\n",
    "    start_time = datetime.datetime.now()\n",
    "    \n",
    "    scaler = StandardScaler()\n",
    "    X_tr = scaler.fit_transform(X_tr)\n",
    "    \n",
    "    if X_va is not None:\n",
    "        X_va = scaler.transform(X_va)\n",
    "        validation_data = (X_va, y_va)\n",
    "    else:\n",
    "        validation_data = None\n",
    "\n",
    "    # Define the learning rate schedule and EarlyStopping\n",
    "    lr_start=0.005\n",
    "    if USE_PLATEAU and X_va is not None: # use early stopping\n",
    "        epochs = EPOCHS\n",
    "        lr = ReduceLROnPlateau(monitor=\"val_loss\", factor=0.7, \n",
    "                               patience=4, verbose=VERBOSE)\n",
    "        es = EarlyStopping(monitor=\"val_loss\",\n",
    "                           patience=12, \n",
    "                           verbose=1,\n",
    "                           mode=\"min\", \n",
    "                           restore_best_weights=True)\n",
    "        callbacks = [lr, es, tf.keras.callbacks.TerminateOnNaN()]\n",
    "\n",
    "    else: # use cosine learning rate decay rather than early stopping\n",
    "        epochs = EPOCHS_COSINEDECAY\n",
    "        lr_end = 0.0005\n",
    "        def cosine_decay(epoch):\n",
    "            # w decays from 1 to 0 in every cycle\n",
    "            # epoch == 0                  -> w = 1 (first epoch of cycle)\n",
    "            # epoch == epochs_per_cycle-1 -> w = 0 (last epoch of cycle)\n",
    "            epochs_per_cycle = epochs // CYCLES\n",
    "            epoch_in_cycle = epoch % epochs_per_cycle\n",
    "            if epochs_per_cycle > 1:\n",
    "                w = (1 + math.cos(epoch_in_cycle / (epochs_per_cycle-1) * math.pi)) / 2\n",
    "            else:\n",
    "                w = 1\n",
    "            return w * lr_start + (1 - w) * lr_end\n",
    "\n",
    "        lr = LearningRateScheduler(cosine_decay, verbose=0)\n",
    "        callbacks = [lr, tf.keras.callbacks.TerminateOnNaN()]\n",
    "        \n",
    "    # Construct and compile the model\n",
    "#     auc = tf.keras.metrics.AUC(\n",
    "#             num_thresholds=100,\n",
    "#             curve='ROC',\n",
    "#             summation_method='interpolation',\n",
    "#             name=None,\n",
    "#             dtype=None,\n",
    "#             thresholds=None,\n",
    "#             multi_label=False,\n",
    "#             num_labels=None,\n",
    "#             label_weights=None,\n",
    "#             from_logits=False\n",
    "#         )\n",
    "    model = my_model()\n",
    "    model.compile(optimizer=tf.keras.optimizers.Adam(learning_rate=lr_start), \n",
    "                  metrics='AUC',\n",
    "                  loss=tf.keras.losses.BinaryCrossentropy())\n",
    "\n",
    "    # Train the model\n",
    "    history = model.fit(X_tr, y_tr, \n",
    "                        validation_data=validation_data, \n",
    "                        epochs=epochs,\n",
    "                        verbose=VERBOSE,\n",
    "                        batch_size=BATCH_SIZE,\n",
    "                        shuffle=True,\n",
    "                        callbacks=callbacks)\n",
    "\n",
    "    history_list.append(history.history)\n",
    "    callbacks, es, lr, history = None, None, None, None\n",
    "    \n",
    "    if X_va is None:\n",
    "        print(f\"Training loss: {history_list[-1]['loss'][-1]:.4f}\")\n",
    "    else:\n",
    "        lastloss = f\"Training loss: {history_list[-1]['loss'][-1]:.4f} | Val loss: {history_list[-1]['val_loss'][-1]:.4f}\"\n",
    "        \n",
    "        # Inference for validation\n",
    "        y_va_pred = model.predict(X_va, batch_size=len(X_va), verbose=0)\n",
    "        #oof_list[run][val_idx] = y_va_pred\n",
    "        \n",
    "        # Evaluation: Execution time, loss and AUC\n",
    "        score = roc_auc_score(y_va, y_va_pred)\n",
    "        print(f\"Fold {run}.{fold} | {str(datetime.datetime.now() - start_time)[-12:-7]}\"\n",
    "              f\" | {lastloss} | AUC: {score:.5f}\")\n",
    "        score_list.append(score)\n",
    "        \n",
    "        if DIAGRAMS and fold == 0 and run == 0:\n",
    "#             Plot training history\n",
    "            plot_history(history_list[-1], \n",
    "                         title=f\"Learning curve (validation AUC = {score:.5f})\",\n",
    "                         plot_lr=True)\n",
    "\n",
    "            # Plot y_true vs. y_pred\n",
    "            plt.figure(figsize=(10, 4))\n",
    "            plt.hist(y_va_pred[y_va == 0], bins=np.linspace(0, 1, 21),\n",
    "                     alpha=0.5, density=True)\n",
    "            plt.hist(y_va_pred[y_va == 1], bins=np.linspace(0, 1, 21),\n",
    "                     alpha=0.5, density=True)\n",
    "            plt.xlabel('y_pred')\n",
    "            plt.ylabel('density')\n",
    "            plt.title('OOF Predictions')\n",
    "            plt.show()\n",
    "\n",
    "    return model, scaler\n",
    "\n",
    "\n",
    "print(f\"{len(features)} features\")\n",
    "history_list = []\n",
    "score_list = []\n",
    "kf = KFold(n_splits=5)\n",
    "for fold, (idx_tr, idx_va) in enumerate(kf.split(train)):\n",
    "    X_tr = train.iloc[idx_tr][features]\n",
    "    X_va = train.iloc[idx_va][features]\n",
    "    y_tr = train.iloc[idx_tr].target\n",
    "    y_va = train.iloc[idx_va].target\n",
    "    \n",
    "    fit_model(X_tr, y_tr, X_va, y_va)\n",
    "    if ONLY_FIRST_FOLD: break # we only need the first fold\n",
    "\n",
    "print(f\"OOF AUC:                       {np.mean(score_list):.5f}\")"
   ]
  },
  {
   "cell_type": "markdown",
   "id": "cec6dcd0",
   "metadata": {
    "papermill": {
     "duration": 0.023358,
     "end_time": "2022-05-15T12:07:52.762463",
     "exception": false,
     "start_time": "2022-05-15T12:07:52.739105",
     "status": "completed"
    },
    "tags": []
   },
   "source": [
    "#### Submission"
   ]
  },
  {
   "cell_type": "code",
   "execution_count": 11,
   "id": "465540f2",
   "metadata": {
    "execution": {
     "iopub.execute_input": "2022-05-15T12:07:52.811685Z",
     "iopub.status.busy": "2022-05-15T12:07:52.811420Z",
     "iopub.status.idle": "2022-05-15T12:51:54.554208Z",
     "shell.execute_reply": "2022-05-15T12:51:54.553472Z"
    },
    "papermill": {
     "duration": 2641.769574,
     "end_time": "2022-05-15T12:51:54.555985",
     "exception": false,
     "start_time": "2022-05-15T12:07:52.786411",
     "status": "completed"
    },
    "tags": []
   },
   "outputs": [
    {
     "name": "stdout",
     "output_type": "stream",
     "text": [
      "44 features\n",
      "Training loss: 0.1217\n",
      " 0 [539113.5 513388.5 106072.  ... 318412.  246566.    1831. ]\n",
      "Training loss: 0.1194\n",
      " 1 [440915. 495029. 168582. ... 326480. 252262.  27299.]\n",
      "Training loss: 0.1220\n",
      " 2 [538218.5 558314.5 118640.  ... 328809.  159183.5   5605. ]\n",
      "Training loss: 0.1226\n",
      " 3 [494554.  512758.  195619.5 ... 329625.  140876.   44270. ]\n",
      "Training loss: 0.1230\n",
      " 4 [501008.5 519872.5  81892.  ... 339593.   90389.   17924. ]\n",
      "Training loss: 0.1197\n",
      " 5 [420914.  562250.5 116805.  ... 317561.  210253.   15045. ]\n",
      "Training loss: 0.1196\n",
      " 6 [483400. 492040. 124394. ... 308966. 158419.  26096.]\n",
      "Training loss: 0.1193\n",
      " 7 [431459.  557096.5  61413.  ... 318584.  263423.   33045. ]\n",
      "Training loss: 0.1214\n",
      " 8 [615666.  479136.5  14487.  ... 322022.  132525.   54926. ]\n",
      "Training loss: 0.1203\n",
      " 9 [499215.5 514166.5   7960.  ... 329045.  239478.   17682. ]\n",
      "\n"
     ]
    },
    {
     "data": {
      "text/html": [
       "<div>\n",
       "<style scoped>\n",
       "    .dataframe tbody tr th:only-of-type {\n",
       "        vertical-align: middle;\n",
       "    }\n",
       "\n",
       "    .dataframe tbody tr th {\n",
       "        vertical-align: top;\n",
       "    }\n",
       "\n",
       "    .dataframe thead th {\n",
       "        text-align: right;\n",
       "    }\n",
       "</style>\n",
       "<table border=\"1\" class=\"dataframe\">\n",
       "  <thead>\n",
       "    <tr style=\"text-align: right;\">\n",
       "      <th></th>\n",
       "      <th>id</th>\n",
       "      <th>target</th>\n",
       "    </tr>\n",
       "  </thead>\n",
       "  <tbody>\n",
       "    <tr>\n",
       "      <th>0</th>\n",
       "      <td>900000</td>\n",
       "      <td>496446.40</td>\n",
       "    </tr>\n",
       "    <tr>\n",
       "      <th>1</th>\n",
       "      <td>900001</td>\n",
       "      <td>520405.25</td>\n",
       "    </tr>\n",
       "    <tr>\n",
       "      <th>2</th>\n",
       "      <td>900002</td>\n",
       "      <td>99586.45</td>\n",
       "    </tr>\n",
       "    <tr>\n",
       "      <th>3</th>\n",
       "      <td>900003</td>\n",
       "      <td>123931.55</td>\n",
       "    </tr>\n",
       "    <tr>\n",
       "      <th>4</th>\n",
       "      <td>900004</td>\n",
       "      <td>496452.55</td>\n",
       "    </tr>\n",
       "    <tr>\n",
       "      <th>...</th>\n",
       "      <td>...</td>\n",
       "      <td>...</td>\n",
       "    </tr>\n",
       "    <tr>\n",
       "      <th>699995</th>\n",
       "      <td>1599995</td>\n",
       "      <td>364109.00</td>\n",
       "    </tr>\n",
       "    <tr>\n",
       "      <th>699996</th>\n",
       "      <td>1599996</td>\n",
       "      <td>590742.05</td>\n",
       "    </tr>\n",
       "    <tr>\n",
       "      <th>699997</th>\n",
       "      <td>1599997</td>\n",
       "      <td>323909.70</td>\n",
       "    </tr>\n",
       "    <tr>\n",
       "      <th>699998</th>\n",
       "      <td>1599998</td>\n",
       "      <td>189337.45</td>\n",
       "    </tr>\n",
       "    <tr>\n",
       "      <th>699999</th>\n",
       "      <td>1599999</td>\n",
       "      <td>24372.30</td>\n",
       "    </tr>\n",
       "  </tbody>\n",
       "</table>\n",
       "<p>700000 rows × 2 columns</p>\n",
       "</div>"
      ],
      "text/plain": [
       "             id     target\n",
       "0        900000  496446.40\n",
       "1        900001  520405.25\n",
       "2        900002   99586.45\n",
       "3        900003  123931.55\n",
       "4        900004  496452.55\n",
       "...         ...        ...\n",
       "699995  1599995  364109.00\n",
       "699996  1599996  590742.05\n",
       "699997  1599997  323909.70\n",
       "699998  1599998  189337.45\n",
       "699999  1599999   24372.30\n",
       "\n",
       "[700000 rows x 2 columns]"
      ]
     },
     "execution_count": 11,
     "metadata": {},
     "output_type": "execute_result"
    }
   ],
   "source": [
    "print(f\"{len(features)} features\")\n",
    "\n",
    "X_tr = train[features]\n",
    "y_tr = train.target\n",
    "\n",
    "pred_list = []\n",
    "for seed in range(10):\n",
    "    # see https://keras.io/getting_started/faq/#how-can-i-obtain-reproducible-results-using-keras-during-development\n",
    "    np.random.seed(seed)\n",
    "    random.seed(seed)\n",
    "    tf.random.set_seed(seed)\n",
    "    model, scaler = fit_model(X_tr, y_tr, run=seed)\n",
    "    pred_list.append(scipy.stats.rankdata(model.predict(scaler.transform(test[features]),\n",
    "                                                        batch_size=len(test), verbose=0)))\n",
    "    print(f\"{seed:2}\", pred_list[-1])\n",
    "print()\n",
    "submission = test[['id']].copy()\n",
    "submission['target'] = np.array(pred_list).mean(axis=0)\n",
    "submission.to_csv('submission.csv', index=False)\n",
    "submission"
   ]
  },
  {
   "cell_type": "code",
   "execution_count": null,
   "id": "68d78c95",
   "metadata": {
    "papermill": {
     "duration": 0.03062,
     "end_time": "2022-05-15T12:51:54.619083",
     "exception": false,
     "start_time": "2022-05-15T12:51:54.588463",
     "status": "completed"
    },
    "tags": []
   },
   "outputs": [],
   "source": []
  },
  {
   "cell_type": "code",
   "execution_count": null,
   "id": "9697680b",
   "metadata": {
    "papermill": {
     "duration": 0.030502,
     "end_time": "2022-05-15T12:51:54.680548",
     "exception": false,
     "start_time": "2022-05-15T12:51:54.650046",
     "status": "completed"
    },
    "tags": []
   },
   "outputs": [],
   "source": []
  },
  {
   "cell_type": "code",
   "execution_count": null,
   "id": "4801e419",
   "metadata": {
    "papermill": {
     "duration": 0.030846,
     "end_time": "2022-05-15T12:51:54.742216",
     "exception": false,
     "start_time": "2022-05-15T12:51:54.711370",
     "status": "completed"
    },
    "tags": []
   },
   "outputs": [],
   "source": []
  }
 ],
 "metadata": {
  "kernelspec": {
   "display_name": "Python 3",
   "language": "python",
   "name": "python3"
  },
  "language_info": {
   "codemirror_mode": {
    "name": "ipython",
    "version": 3
   },
   "file_extension": ".py",
   "mimetype": "text/x-python",
   "name": "python",
   "nbconvert_exporter": "python",
   "pygments_lexer": "ipython3",
   "version": "3.7.12"
  },
  "papermill": {
   "default_parameters": {},
   "duration": 3963.822838,
   "end_time": "2022-05-15T12:51:58.154575",
   "environment_variables": {},
   "exception": null,
   "input_path": "__notebook__.ipynb",
   "output_path": "__notebook__.ipynb",
   "parameters": {},
   "start_time": "2022-05-15T11:45:54.331737",
   "version": "2.3.4"
  }
 },
 "nbformat": 4,
 "nbformat_minor": 5
}
