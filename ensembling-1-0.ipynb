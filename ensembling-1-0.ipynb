{
 "cells": [
  {
   "cell_type": "markdown",
   "id": "c2545268",
   "metadata": {
    "_cell_guid": "b1076dfc-b9ad-4769-8c92-a6c4dae69d19",
    "_uuid": "8f2839f25d086af736a60e9eeb907d3b93b6e0e5",
    "papermill": {
     "duration": 0.017257,
     "end_time": "2022-05-16T17:42:54.080653",
     "exception": false,
     "start_time": "2022-05-16T17:42:54.063396",
     "status": "completed"
    },
    "tags": []
   },
   "source": [
    "**PLEASE UPVOTE https://www.kaggle.com/code/alexryzhkov/tps-may-22-lightautoml-here-again**"
   ]
  },
  {
   "cell_type": "markdown",
   "id": "e4ade416",
   "metadata": {
    "papermill": {
     "duration": 0.009063,
     "end_time": "2022-05-16T17:42:54.099250",
     "exception": false,
     "start_time": "2022-05-16T17:42:54.090187",
     "status": "completed"
    },
    "tags": []
   },
   "source": [
    "**PLEASE UPVOTE https://www.kaggle.com/code/ambrosm/tpsmay22-advanced-keras**"
   ]
  },
  {
   "cell_type": "markdown",
   "id": "340f2c62",
   "metadata": {
    "papermill": {
     "duration": 0.009211,
     "end_time": "2022-05-16T17:42:54.119463",
     "exception": false,
     "start_time": "2022-05-16T17:42:54.110252",
     "status": "completed"
    },
    "tags": []
   },
   "source": [
    "**PLEASE UPVOTE https://www.kaggle.com/code/hasanbasriakcay/tpsmay22-my100-notebook-autoblendingfunc**"
   ]
  },
  {
   "cell_type": "code",
   "execution_count": 1,
   "id": "8a1e40d8",
   "metadata": {
    "execution": {
     "iopub.execute_input": "2022-05-16T17:42:54.140089Z",
     "iopub.status.busy": "2022-05-16T17:42:54.139763Z",
     "iopub.status.idle": "2022-05-16T17:42:56.849018Z",
     "shell.execute_reply": "2022-05-16T17:42:56.848044Z"
    },
    "papermill": {
     "duration": 2.723049,
     "end_time": "2022-05-16T17:42:56.851978",
     "exception": false,
     "start_time": "2022-05-16T17:42:54.128929",
     "status": "completed"
    },
    "tags": []
   },
   "outputs": [],
   "source": [
    "import pandas as pd\n",
    "import scipy\n",
    "from scipy import stats\n",
    "\n",
    "\n",
    "\n",
    "\n",
    "sub = pd.read_csv('../input/tabular-playground-series-may-2022/sample_submission.csv')\n",
    "\n",
    "sub_821 = pd.read_csv(\"../input/may22ensemling/submission.csv\")\n",
    "\n",
    "sub_823 = pd.read_csv('../input/tpsmay22-advanced-keras/submission.csv')\n",
    "\n",
    "sub_822 = pd.read_csv('../input/tpsmay22-my100-notebook-autoblendingfunc/submission.csv')\n",
    "\n",
    "sub_820 = pd.read_csv('../input/tps-may-22-lightautoml-here-again/nn_preds_only.csv')\n",
    "\n",
    "sub_824 = pd.read_csv(\"../input/may22ensemling/gboost.csv/submission.csv\")"
   ]
  },
  {
   "cell_type": "code",
   "execution_count": 2,
   "id": "b2877baa",
   "metadata": {
    "execution": {
     "iopub.execute_input": "2022-05-16T17:42:56.872371Z",
     "iopub.status.busy": "2022-05-16T17:42:56.872082Z",
     "iopub.status.idle": "2022-05-16T17:42:59.545392Z",
     "shell.execute_reply": "2022-05-16T17:42:59.544349Z"
    },
    "papermill": {
     "duration": 2.686802,
     "end_time": "2022-05-16T17:42:59.548540",
     "exception": false,
     "start_time": "2022-05-16T17:42:56.861738",
     "status": "completed"
    },
    "tags": []
   },
   "outputs": [
    {
     "data": {
      "text/html": [
       "<div>\n",
       "<style scoped>\n",
       "    .dataframe tbody tr th:only-of-type {\n",
       "        vertical-align: middle;\n",
       "    }\n",
       "\n",
       "    .dataframe tbody tr th {\n",
       "        vertical-align: top;\n",
       "    }\n",
       "\n",
       "    .dataframe thead th {\n",
       "        text-align: right;\n",
       "    }\n",
       "</style>\n",
       "<table border=\"1\" class=\"dataframe\">\n",
       "  <thead>\n",
       "    <tr style=\"text-align: right;\">\n",
       "      <th></th>\n",
       "      <th>id</th>\n",
       "      <th>target</th>\n",
       "    </tr>\n",
       "  </thead>\n",
       "  <tbody>\n",
       "    <tr>\n",
       "      <th>0</th>\n",
       "      <td>900000</td>\n",
       "      <td>2312782.935</td>\n",
       "    </tr>\n",
       "    <tr>\n",
       "      <th>1</th>\n",
       "      <td>900001</td>\n",
       "      <td>2180811.960</td>\n",
       "    </tr>\n",
       "    <tr>\n",
       "      <th>2</th>\n",
       "      <td>900002</td>\n",
       "      <td>31466.360</td>\n",
       "    </tr>\n",
       "    <tr>\n",
       "      <th>3</th>\n",
       "      <td>900003</td>\n",
       "      <td>551064.840</td>\n",
       "    </tr>\n",
       "    <tr>\n",
       "      <th>4</th>\n",
       "      <td>900004</td>\n",
       "      <td>1815133.465</td>\n",
       "    </tr>\n",
       "    <tr>\n",
       "      <th>...</th>\n",
       "      <td>...</td>\n",
       "      <td>...</td>\n",
       "    </tr>\n",
       "    <tr>\n",
       "      <th>699995</th>\n",
       "      <td>1599995</td>\n",
       "      <td>1342840.165</td>\n",
       "    </tr>\n",
       "    <tr>\n",
       "      <th>699996</th>\n",
       "      <td>1599996</td>\n",
       "      <td>2048798.715</td>\n",
       "    </tr>\n",
       "    <tr>\n",
       "      <th>699997</th>\n",
       "      <td>1599997</td>\n",
       "      <td>1137534.790</td>\n",
       "    </tr>\n",
       "    <tr>\n",
       "      <th>699998</th>\n",
       "      <td>1599998</td>\n",
       "      <td>339117.380</td>\n",
       "    </tr>\n",
       "    <tr>\n",
       "      <th>699999</th>\n",
       "      <td>1599999</td>\n",
       "      <td>14045.640</td>\n",
       "    </tr>\n",
       "  </tbody>\n",
       "</table>\n",
       "<p>700000 rows × 2 columns</p>\n",
       "</div>"
      ],
      "text/plain": [
       "             id       target\n",
       "0        900000  2312782.935\n",
       "1        900001  2180811.960\n",
       "2        900002    31466.360\n",
       "3        900003   551064.840\n",
       "4        900004  1815133.465\n",
       "...         ...          ...\n",
       "699995  1599995  1342840.165\n",
       "699996  1599996  2048798.715\n",
       "699997  1599997  1137534.790\n",
       "699998  1599998   339117.380\n",
       "699999  1599999    14045.640\n",
       "\n",
       "[700000 rows x 2 columns]"
      ]
     },
     "execution_count": 2,
     "metadata": {},
     "output_type": "execute_result"
    }
   ],
   "source": [
    "sub_823['target'] = scipy.stats.rankdata(sub_823['target'])\n",
    "sub_822['target'] = scipy.stats.rankdata(sub_822['target'])\n",
    "sub_820['target'] = scipy.stats.rankdata(sub_820['target'])\n",
    "sub_821['target'] = scipy.stats.rankdata(sub_821['target'])\n",
    "sub_824['target'] = scipy.stats.rankdata(sub_824['target'])\n",
    "\n",
    "sub['target'] = sub_823['target'] * 0.82 + \\\n",
    "    sub_822['target'] * 0.77 + \\\n",
    "    sub_821['target'] * 0.79 + \\\n",
    "    sub_824['target'] * 0.68 + \\\n",
    "    sub_820['target'] * 0.65\n",
    "\n",
    "sub.to_csv('ensemble_01.csv', index=False)\n",
    "sub"
   ]
  },
  {
   "cell_type": "code",
   "execution_count": 3,
   "id": "113a6378",
   "metadata": {
    "execution": {
     "iopub.execute_input": "2022-05-16T17:42:59.570858Z",
     "iopub.status.busy": "2022-05-16T17:42:59.570306Z",
     "iopub.status.idle": "2022-05-16T17:43:01.523642Z",
     "shell.execute_reply": "2022-05-16T17:43:01.522659Z"
    },
    "papermill": {
     "duration": 1.966897,
     "end_time": "2022-05-16T17:43:01.525909",
     "exception": false,
     "start_time": "2022-05-16T17:42:59.559012",
     "status": "completed"
    },
    "tags": []
   },
   "outputs": [
    {
     "data": {
      "text/html": [
       "<div>\n",
       "<style scoped>\n",
       "    .dataframe tbody tr th:only-of-type {\n",
       "        vertical-align: middle;\n",
       "    }\n",
       "\n",
       "    .dataframe tbody tr th {\n",
       "        vertical-align: top;\n",
       "    }\n",
       "\n",
       "    .dataframe thead th {\n",
       "        text-align: right;\n",
       "    }\n",
       "</style>\n",
       "<table border=\"1\" class=\"dataframe\">\n",
       "  <thead>\n",
       "    <tr style=\"text-align: right;\">\n",
       "      <th></th>\n",
       "      <th>id</th>\n",
       "      <th>target</th>\n",
       "    </tr>\n",
       "  </thead>\n",
       "  <tbody>\n",
       "    <tr>\n",
       "      <th>0</th>\n",
       "      <td>900000</td>\n",
       "      <td>620978.250</td>\n",
       "    </tr>\n",
       "    <tr>\n",
       "      <th>1</th>\n",
       "      <td>900001</td>\n",
       "      <td>588586.800</td>\n",
       "    </tr>\n",
       "    <tr>\n",
       "      <th>2</th>\n",
       "      <td>900002</td>\n",
       "      <td>9317.500</td>\n",
       "    </tr>\n",
       "    <tr>\n",
       "      <th>3</th>\n",
       "      <td>900003</td>\n",
       "      <td>151351.950</td>\n",
       "    </tr>\n",
       "    <tr>\n",
       "      <th>4</th>\n",
       "      <td>900004</td>\n",
       "      <td>483289.850</td>\n",
       "    </tr>\n",
       "    <tr>\n",
       "      <th>...</th>\n",
       "      <td>...</td>\n",
       "      <td>...</td>\n",
       "    </tr>\n",
       "    <tr>\n",
       "      <th>699995</th>\n",
       "      <td>1599995</td>\n",
       "      <td>361632.275</td>\n",
       "    </tr>\n",
       "    <tr>\n",
       "      <th>699996</th>\n",
       "      <td>1599996</td>\n",
       "      <td>546890.250</td>\n",
       "    </tr>\n",
       "    <tr>\n",
       "      <th>699997</th>\n",
       "      <td>1599997</td>\n",
       "      <td>306098.750</td>\n",
       "    </tr>\n",
       "    <tr>\n",
       "      <th>699998</th>\n",
       "      <td>1599998</td>\n",
       "      <td>93656.500</td>\n",
       "    </tr>\n",
       "    <tr>\n",
       "      <th>699999</th>\n",
       "      <td>1599999</td>\n",
       "      <td>5506.800</td>\n",
       "    </tr>\n",
       "  </tbody>\n",
       "</table>\n",
       "<p>700000 rows × 2 columns</p>\n",
       "</div>"
      ],
      "text/plain": [
       "             id      target\n",
       "0        900000  620978.250\n",
       "1        900001  588586.800\n",
       "2        900002    9317.500\n",
       "3        900003  151351.950\n",
       "4        900004  483289.850\n",
       "...         ...         ...\n",
       "699995  1599995  361632.275\n",
       "699996  1599996  546890.250\n",
       "699997  1599997  306098.750\n",
       "699998  1599998   93656.500\n",
       "699999  1599999    5506.800\n",
       "\n",
       "[700000 rows x 2 columns]"
      ]
     },
     "execution_count": 3,
     "metadata": {},
     "output_type": "execute_result"
    }
   ],
   "source": [
    "sub['target'] = sub_823['target'] * 0.35 + \\\n",
    "    sub_822['target'] * 0.1 + \\\n",
    "    sub_821['target'] * 0.35 + \\\n",
    "    sub_824['target'] * 0.1 + \\\n",
    "    sub_820['target'] * 0.1\n",
    "\n",
    "sub.to_csv('ensemble_02.csv', index=False)\n",
    "sub"
   ]
  },
  {
   "cell_type": "code",
   "execution_count": null,
   "id": "4190bb8b",
   "metadata": {
    "papermill": {
     "duration": 0.010094,
     "end_time": "2022-05-16T17:43:01.546653",
     "exception": false,
     "start_time": "2022-05-16T17:43:01.536559",
     "status": "completed"
    },
    "tags": []
   },
   "outputs": [],
   "source": []
  },
  {
   "cell_type": "code",
   "execution_count": null,
   "id": "0429f31d",
   "metadata": {
    "papermill": {
     "duration": 0.010339,
     "end_time": "2022-05-16T17:43:01.567865",
     "exception": false,
     "start_time": "2022-05-16T17:43:01.557526",
     "status": "completed"
    },
    "tags": []
   },
   "outputs": [],
   "source": []
  },
  {
   "cell_type": "code",
   "execution_count": null,
   "id": "46062f45",
   "metadata": {
    "papermill": {
     "duration": 0.010147,
     "end_time": "2022-05-16T17:43:01.588467",
     "exception": false,
     "start_time": "2022-05-16T17:43:01.578320",
     "status": "completed"
    },
    "tags": []
   },
   "outputs": [],
   "source": []
  }
 ],
 "metadata": {
  "kernelspec": {
   "display_name": "Python 3",
   "language": "python",
   "name": "python3"
  },
  "language_info": {
   "codemirror_mode": {
    "name": "ipython",
    "version": 3
   },
   "file_extension": ".py",
   "mimetype": "text/x-python",
   "name": "python",
   "nbconvert_exporter": "python",
   "pygments_lexer": "ipython3",
   "version": "3.7.12"
  },
  "papermill": {
   "default_parameters": {},
   "duration": 17.916329,
   "end_time": "2022-05-16T17:43:02.322703",
   "environment_variables": {},
   "exception": null,
   "input_path": "__notebook__.ipynb",
   "output_path": "__notebook__.ipynb",
   "parameters": {},
   "start_time": "2022-05-16T17:42:44.406374",
   "version": "2.3.4"
  }
 },
 "nbformat": 4,
 "nbformat_minor": 5
}
