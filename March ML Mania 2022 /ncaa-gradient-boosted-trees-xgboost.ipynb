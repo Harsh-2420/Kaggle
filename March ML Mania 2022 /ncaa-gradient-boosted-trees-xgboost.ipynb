{
 "cells": [
  {
   "cell_type": "markdown",
   "id": "9e1aa689",
   "metadata": {
    "papermill": {
     "duration": 0.054694,
     "end_time": "2022-03-11T22:45:26.729062",
     "exception": false,
     "start_time": "2022-03-11T22:45:26.674368",
     "status": "completed"
    },
    "tags": []
   },
   "source": [
    "# NCAA Man's, Gradient Boosted Trees (XGBoost)"
   ]
  },
  {
   "cell_type": "markdown",
   "id": "eb7a2900",
   "metadata": {
    "papermill": {
     "duration": 0.053086,
     "end_time": "2022-03-11T22:45:26.838797",
     "exception": false,
     "start_time": "2022-03-11T22:45:26.785711",
     "status": "completed"
    },
    "tags": []
   },
   "source": [
    "## Work In Progress, Stay Tune...\n",
    "**Notebook Strategy...**\n",
    "\n",
    "Hello After studing multiple notebook I want to describe the strategy I will follow.\n",
    "This are the steps:\n",
    "\n",
    "* Load the Seed, Season Results and Tournament Results information.\n",
    "* Build aggregated features by Team and Season from the Season Results Dataset.\n",
    "* Merge the Information Seed and Aggregated information into the Tournament Results Dataset by Team and Season\n",
    "* Use the Tournament Results Dataset with the outcomes of the game to construct a target variable\n",
    "* The target variable will be the outcome of the game for Team A, Win = 1 Lost = 0\n",
    "\n",
    "**Updates**\n",
    "\n",
    "02/24/2022: First baseline model constructed using an XGBoost Classifier.\n",
    "\n",
    "**Notebook Used**\n",
    "* https://www.kaggle.com/theoviel/using-last-year-s-2nd-place\n",
    "* https://www.kaggle.com/theoviel/ncaa-starter-the-simpler-the-better\n",
    "\n",
    "Both Notebooks are from **theoviel** so thanks so much to the author.\n",
    "\n",
    "**Experiment Summary**\n",
    "\n",
    "**XGBoost, Data Range: 2016-2021 Added Feature: PointsRatio**\n",
    "* CV Score: 0.60800\n",
    "* LB Score: 0.48339\n",
    "\n",
    "**XGBoost, Data Range: 2016-2021 Plain Features (Best Model Experiment)**\n",
    "* CV Score: 0.61600\n",
    "* LB Score: 0.46474\n",
    "\n",
    "**XGBoost, Data Range: 2017-2021 Plain Features**\n",
    "* CV Score: 0.62400\n",
    "* LB Score: 0.51470\n",
    "\n",
    "**XGBoost, Data Range: 2003-2021 Plain Features**\n",
    "* CV Score: 0.57100\n",
    "* LB Score: 0.55582\n",
    "\n",
    "**XGBoost, Data Range: 2017-2021 Added Feature: PointsRatio**\n",
    "* CV Score: 0.62100\n",
    "* LB Score: 0.47907\n",
    "\n",
    "**XGBoost, Data Range: 2015-2021 Plain Features**\n",
    "* CV Score: 0.59400\n",
    "* LB Score: 0.49742"
   ]
  },
  {
   "cell_type": "code",
   "execution_count": 1,
   "id": "21cf082f",
   "metadata": {
    "_cell_guid": "b1076dfc-b9ad-4769-8c92-a6c4dae69d19",
    "_uuid": "8f2839f25d086af736a60e9eeb907d3b93b6e0e5",
    "execution": {
     "iopub.execute_input": "2022-03-11T22:45:26.956488Z",
     "iopub.status.busy": "2022-03-11T22:45:26.955939Z",
     "iopub.status.idle": "2022-03-11T22:45:26.973357Z",
     "shell.execute_reply": "2022-03-11T22:45:26.973852Z",
     "shell.execute_reply.started": "2022-03-11T22:31:33.304797Z"
    },
    "papermill": {
     "duration": 0.080031,
     "end_time": "2022-03-11T22:45:26.974115",
     "exception": false,
     "start_time": "2022-03-11T22:45:26.894084",
     "status": "completed"
    },
    "tags": []
   },
   "outputs": [
    {
     "name": "stdout",
     "output_type": "stream",
     "text": [
      "/kaggle/input/mens-march-mania-2022/MDataFiles_Stage1/Conferences.csv\n",
      "/kaggle/input/mens-march-mania-2022/MDataFiles_Stage1/MNCAATourneySeedRoundSlots.csv\n",
      "/kaggle/input/mens-march-mania-2022/MDataFiles_Stage1/MRegularSeasonDetailedResults.csv\n",
      "/kaggle/input/mens-march-mania-2022/MDataFiles_Stage1/MNCAATourneyCompactResults.csv\n",
      "/kaggle/input/mens-march-mania-2022/MDataFiles_Stage1/MGameCities.csv\n",
      "/kaggle/input/mens-march-mania-2022/MDataFiles_Stage1/MSeasons.csv\n",
      "/kaggle/input/mens-march-mania-2022/MDataFiles_Stage1/MSecondaryTourneyTeams.csv\n",
      "/kaggle/input/mens-march-mania-2022/MDataFiles_Stage1/Cities.csv\n",
      "/kaggle/input/mens-march-mania-2022/MDataFiles_Stage1/MTeamSpellings.csv\n",
      "/kaggle/input/mens-march-mania-2022/MDataFiles_Stage1/MRegularSeasonCompactResults.csv\n",
      "/kaggle/input/mens-march-mania-2022/MDataFiles_Stage1/MMasseyOrdinals.csv\n",
      "/kaggle/input/mens-march-mania-2022/MDataFiles_Stage1/MSecondaryTourneyCompactResults.csv\n",
      "/kaggle/input/mens-march-mania-2022/MDataFiles_Stage1/MNCAATourneySlots.csv\n",
      "/kaggle/input/mens-march-mania-2022/MDataFiles_Stage1/MNCAATourneySeeds.csv\n",
      "/kaggle/input/mens-march-mania-2022/MDataFiles_Stage1/MTeamCoaches.csv\n",
      "/kaggle/input/mens-march-mania-2022/MDataFiles_Stage1/MConferenceTourneyGames.csv\n",
      "/kaggle/input/mens-march-mania-2022/MDataFiles_Stage1/MNCAATourneyDetailedResults.csv\n",
      "/kaggle/input/mens-march-mania-2022/MDataFiles_Stage1/MSampleSubmissionStage1.csv\n",
      "/kaggle/input/mens-march-mania-2022/MDataFiles_Stage1/MTeamConferences.csv\n",
      "/kaggle/input/mens-march-mania-2022/MDataFiles_Stage1/MTeams.csv\n"
     ]
    }
   ],
   "source": [
    "# This Python 3 environment comes with many helpful analytics libraries installed\n",
    "# It is defined by the kaggle/python Docker image: https://github.com/kaggle/docker-python\n",
    "# For example, here's several helpful packages to load\n",
    "\n",
    "import numpy as np # linear algebra\n",
    "import pandas as pd # data processing, CSV file I/O (e.g. pd.read_csv)\n",
    "\n",
    "# Input data files are available in the read-only \"../input/\" directory\n",
    "# For example, running this (by clicking run or pressing Shift+Enter) will list all files under the input directory\n",
    "\n",
    "import os\n",
    "for dirname, _, filenames in os.walk('/kaggle/input'):\n",
    "    for filename in filenames:\n",
    "        print(os.path.join(dirname, filename))\n",
    "\n",
    "# You can write up to 20GB to the current directory (/kaggle/working/) that gets preserved as output when you create a version using \"Save & Run All\" \n",
    "# You can also write temporary files to /kaggle/temp/, but they won't be saved outside of the current session"
   ]
  },
  {
   "cell_type": "code",
   "execution_count": 2,
   "id": "c83897ef",
   "metadata": {
    "execution": {
     "iopub.execute_input": "2022-03-11T22:45:27.087457Z",
     "iopub.status.busy": "2022-03-11T22:45:27.086881Z",
     "iopub.status.idle": "2022-03-11T22:45:27.089872Z",
     "shell.execute_reply": "2022-03-11T22:45:27.090238Z",
     "shell.execute_reply.started": "2022-03-11T22:31:33.322217Z"
    },
    "papermill": {
     "duration": 0.060659,
     "end_time": "2022-03-11T22:45:27.090484",
     "exception": false,
     "start_time": "2022-03-11T22:45:27.029825",
     "status": "completed"
    },
    "tags": []
   },
   "outputs": [],
   "source": [
    "import re # Importing the Regular Expression Module..."
   ]
  },
  {
   "cell_type": "code",
   "execution_count": 3,
   "id": "89d29053",
   "metadata": {
    "execution": {
     "iopub.execute_input": "2022-03-11T22:45:27.201542Z",
     "iopub.status.busy": "2022-03-11T22:45:27.200890Z",
     "iopub.status.idle": "2022-03-11T22:45:27.208540Z",
     "shell.execute_reply": "2022-03-11T22:45:27.207676Z",
     "shell.execute_reply.started": "2022-03-11T22:31:33.329397Z"
    },
    "papermill": {
     "duration": 0.064096,
     "end_time": "2022-03-11T22:45:27.208654",
     "exception": false,
     "start_time": "2022-03-11T22:45:27.144558",
     "status": "completed"
    },
    "tags": []
   },
   "outputs": [
    {
     "name": "stdout",
     "output_type": "stream",
     "text": [
      "CPU times: user 32 µs, sys: 4 µs, total: 36 µs\n",
      "Wall time: 38.4 µs\n"
     ]
    }
   ],
   "source": [
    "%%time\n",
    "# I like to disable my Notebook Warnings.\n",
    "import warnings\n",
    "warnings.filterwarnings('ignore')"
   ]
  },
  {
   "cell_type": "code",
   "execution_count": 4,
   "id": "e7b07e2e",
   "metadata": {
    "execution": {
     "iopub.execute_input": "2022-03-11T22:45:27.322643Z",
     "iopub.status.busy": "2022-03-11T22:45:27.322017Z",
     "iopub.status.idle": "2022-03-11T22:45:27.327155Z",
     "shell.execute_reply": "2022-03-11T22:45:27.326722Z",
     "shell.execute_reply.started": "2022-03-11T22:31:33.346511Z"
    },
    "papermill": {
     "duration": 0.063898,
     "end_time": "2022-03-11T22:45:27.327261",
     "exception": false,
     "start_time": "2022-03-11T22:45:27.263363",
     "status": "completed"
    },
    "tags": []
   },
   "outputs": [
    {
     "name": "stdout",
     "output_type": "stream",
     "text": [
      "CPU times: user 2 µs, sys: 0 ns, total: 2 µs\n",
      "Wall time: 4.29 µs\n"
     ]
    }
   ],
   "source": [
    "%%time\n",
    "# Notebook Configuration...\n",
    "\n",
    "# Amount of data we want to load into the Model...\n",
    "DATA_ROWS = None\n",
    "# Dataframe, the amount of rows and cols to visualize...\n",
    "NROWS = 50\n",
    "NCOLS = 15\n",
    "# Main data location path...\n",
    "BASE_PATH = '...'"
   ]
  },
  {
   "cell_type": "code",
   "execution_count": 5,
   "id": "931ba1e4",
   "metadata": {
    "execution": {
     "iopub.execute_input": "2022-03-11T22:45:27.442805Z",
     "iopub.status.busy": "2022-03-11T22:45:27.442259Z",
     "iopub.status.idle": "2022-03-11T22:45:27.445981Z",
     "shell.execute_reply": "2022-03-11T22:45:27.446453Z",
     "shell.execute_reply.started": "2022-03-11T22:31:33.360540Z"
    },
    "papermill": {
     "duration": 0.064237,
     "end_time": "2022-03-11T22:45:27.446599",
     "exception": false,
     "start_time": "2022-03-11T22:45:27.382362",
     "status": "completed"
    },
    "tags": []
   },
   "outputs": [
    {
     "name": "stdout",
     "output_type": "stream",
     "text": [
      "CPU times: user 75 µs, sys: 10 µs, total: 85 µs\n",
      "Wall time: 87.7 µs\n"
     ]
    }
   ],
   "source": [
    "%%time\n",
    "# Configure notebook display settings to only use 2 decimal places, tables look nicer.\n",
    "pd.options.display.float_format = '{:,.2f}'.format\n",
    "pd.set_option('display.max_columns', NCOLS) \n",
    "pd.set_option('display.max_rows', NROWS)"
   ]
  },
  {
   "cell_type": "markdown",
   "id": "f112577e",
   "metadata": {
    "papermill": {
     "duration": 0.055483,
     "end_time": "2022-03-11T22:45:27.557752",
     "exception": false,
     "start_time": "2022-03-11T22:45:27.502269",
     "status": "completed"
    },
    "tags": []
   },
   "source": [
    "# Reading the Datasets"
   ]
  },
  {
   "cell_type": "code",
   "execution_count": 6,
   "id": "d4e16b63",
   "metadata": {
    "execution": {
     "iopub.execute_input": "2022-03-11T22:45:27.670259Z",
     "iopub.status.busy": "2022-03-11T22:45:27.669797Z",
     "iopub.status.idle": "2022-03-11T22:45:30.120065Z",
     "shell.execute_reply": "2022-03-11T22:45:30.118997Z",
     "shell.execute_reply.started": "2022-03-11T22:31:33.375704Z"
    },
    "papermill": {
     "duration": 2.507619,
     "end_time": "2022-03-11T22:45:30.120312",
     "exception": false,
     "start_time": "2022-03-11T22:45:27.612693",
     "status": "completed"
    },
    "tags": []
   },
   "outputs": [
    {
     "name": "stdout",
     "output_type": "stream",
     "text": [
      "CPU times: user 1.4 s, sys: 202 ms, total: 1.6 s\n",
      "Wall time: 2.44 s\n"
     ]
    }
   ],
   "source": [
    "%%time\n",
    "# Read the requiered datasets.\n",
    "season_data = pd.read_csv('/kaggle/input/mens-march-mania-2022/MDataFiles_Stage1/MRegularSeasonCompactResults.csv')\n",
    "seeds = pd.read_csv('/kaggle/input/mens-march-mania-2022/MDataFiles_Stage1/MNCAATourneySeeds.csv')\n",
    "\n",
    "public_rating = pd.read_csv('/kaggle/input/mens-march-mania-2022/MDataFiles_Stage1/MMasseyOrdinals.csv')"
   ]
  },
  {
   "cell_type": "code",
   "execution_count": 7,
   "id": "fbf30231",
   "metadata": {
    "execution": {
     "iopub.execute_input": "2022-03-11T22:45:30.265599Z",
     "iopub.status.busy": "2022-03-11T22:45:30.264809Z",
     "iopub.status.idle": "2022-03-11T22:45:30.289197Z",
     "shell.execute_reply": "2022-03-11T22:45:30.289613Z",
     "shell.execute_reply.started": "2022-03-11T22:31:35.734452Z"
    },
    "papermill": {
     "duration": 0.10961,
     "end_time": "2022-03-11T22:45:30.289778",
     "exception": false,
     "start_time": "2022-03-11T22:45:30.180168",
     "status": "completed"
    },
    "tags": []
   },
   "outputs": [
    {
     "name": "stdout",
     "output_type": "stream",
     "text": [
      "<class 'pandas.core.frame.DataFrame'>\n",
      "RangeIndex: 174471 entries, 0 to 174470\n",
      "Data columns (total 8 columns):\n",
      " #   Column   Non-Null Count   Dtype \n",
      "---  ------   --------------   ----- \n",
      " 0   Season   174471 non-null  int64 \n",
      " 1   DayNum   174471 non-null  int64 \n",
      " 2   WTeamID  174471 non-null  int64 \n",
      " 3   WScore   174471 non-null  int64 \n",
      " 4   LTeamID  174471 non-null  int64 \n",
      " 5   LScore   174471 non-null  int64 \n",
      " 6   WLoc     174471 non-null  object\n",
      " 7   NumOT    174471 non-null  int64 \n",
      "dtypes: int64(7), object(1)\n",
      "memory usage: 10.6+ MB\n",
      "CPU times: user 30 ms, sys: 4.01 ms, total: 34 ms\n",
      "Wall time: 45.7 ms\n"
     ]
    }
   ],
   "source": [
    "%%time\n",
    "season_data.info()"
   ]
  },
  {
   "cell_type": "code",
   "execution_count": 8,
   "id": "eeea0072",
   "metadata": {
    "execution": {
     "iopub.execute_input": "2022-03-11T22:45:30.411459Z",
     "iopub.status.busy": "2022-03-11T22:45:30.406957Z",
     "iopub.status.idle": "2022-03-11T22:45:30.427902Z",
     "shell.execute_reply": "2022-03-11T22:45:30.426704Z",
     "shell.execute_reply.started": "2022-03-11T22:31:35.772325Z"
    },
    "papermill": {
     "duration": 0.079887,
     "end_time": "2022-03-11T22:45:30.428174",
     "exception": false,
     "start_time": "2022-03-11T22:45:30.348287",
     "status": "completed"
    },
    "tags": []
   },
   "outputs": [
    {
     "name": "stdout",
     "output_type": "stream",
     "text": [
      "CPU times: user 102 µs, sys: 13 µs, total: 115 µs\n",
      "Wall time: 119 µs\n"
     ]
    },
    {
     "data": {
      "text/html": [
       "<div>\n",
       "<style scoped>\n",
       "    .dataframe tbody tr th:only-of-type {\n",
       "        vertical-align: middle;\n",
       "    }\n",
       "\n",
       "    .dataframe tbody tr th {\n",
       "        vertical-align: top;\n",
       "    }\n",
       "\n",
       "    .dataframe thead th {\n",
       "        text-align: right;\n",
       "    }\n",
       "</style>\n",
       "<table border=\"1\" class=\"dataframe\">\n",
       "  <thead>\n",
       "    <tr style=\"text-align: right;\">\n",
       "      <th></th>\n",
       "      <th>Season</th>\n",
       "      <th>DayNum</th>\n",
       "      <th>WTeamID</th>\n",
       "      <th>WScore</th>\n",
       "      <th>LTeamID</th>\n",
       "      <th>LScore</th>\n",
       "      <th>WLoc</th>\n",
       "      <th>NumOT</th>\n",
       "    </tr>\n",
       "  </thead>\n",
       "  <tbody>\n",
       "    <tr>\n",
       "      <th>0</th>\n",
       "      <td>1985</td>\n",
       "      <td>20</td>\n",
       "      <td>1228</td>\n",
       "      <td>81</td>\n",
       "      <td>1328</td>\n",
       "      <td>64</td>\n",
       "      <td>N</td>\n",
       "      <td>0</td>\n",
       "    </tr>\n",
       "    <tr>\n",
       "      <th>1</th>\n",
       "      <td>1985</td>\n",
       "      <td>25</td>\n",
       "      <td>1106</td>\n",
       "      <td>77</td>\n",
       "      <td>1354</td>\n",
       "      <td>70</td>\n",
       "      <td>H</td>\n",
       "      <td>0</td>\n",
       "    </tr>\n",
       "    <tr>\n",
       "      <th>2</th>\n",
       "      <td>1985</td>\n",
       "      <td>25</td>\n",
       "      <td>1112</td>\n",
       "      <td>63</td>\n",
       "      <td>1223</td>\n",
       "      <td>56</td>\n",
       "      <td>H</td>\n",
       "      <td>0</td>\n",
       "    </tr>\n",
       "    <tr>\n",
       "      <th>3</th>\n",
       "      <td>1985</td>\n",
       "      <td>25</td>\n",
       "      <td>1165</td>\n",
       "      <td>70</td>\n",
       "      <td>1432</td>\n",
       "      <td>54</td>\n",
       "      <td>H</td>\n",
       "      <td>0</td>\n",
       "    </tr>\n",
       "    <tr>\n",
       "      <th>4</th>\n",
       "      <td>1985</td>\n",
       "      <td>25</td>\n",
       "      <td>1192</td>\n",
       "      <td>86</td>\n",
       "      <td>1447</td>\n",
       "      <td>74</td>\n",
       "      <td>H</td>\n",
       "      <td>0</td>\n",
       "    </tr>\n",
       "  </tbody>\n",
       "</table>\n",
       "</div>"
      ],
      "text/plain": [
       "   Season  DayNum  WTeamID  WScore  LTeamID  LScore WLoc  NumOT\n",
       "0    1985      20     1228      81     1328      64    N      0\n",
       "1    1985      25     1106      77     1354      70    H      0\n",
       "2    1985      25     1112      63     1223      56    H      0\n",
       "3    1985      25     1165      70     1432      54    H      0\n",
       "4    1985      25     1192      86     1447      74    H      0"
      ]
     },
     "execution_count": 8,
     "metadata": {},
     "output_type": "execute_result"
    }
   ],
   "source": [
    "%%time\n",
    "season_data.head()"
   ]
  },
  {
   "cell_type": "code",
   "execution_count": 9,
   "id": "14e020e4",
   "metadata": {
    "execution": {
     "iopub.execute_input": "2022-03-11T22:45:30.613237Z",
     "iopub.status.busy": "2022-03-11T22:45:30.612571Z",
     "iopub.status.idle": "2022-03-11T22:45:30.664724Z",
     "shell.execute_reply": "2022-03-11T22:45:30.665452Z",
     "shell.execute_reply.started": "2022-03-11T22:31:35.787653Z"
    },
    "papermill": {
     "duration": 0.150837,
     "end_time": "2022-03-11T22:45:30.665638",
     "exception": false,
     "start_time": "2022-03-11T22:45:30.514801",
     "status": "completed"
    },
    "tags": []
   },
   "outputs": [
    {
     "name": "stdout",
     "output_type": "stream",
     "text": [
      "CPU times: user 41.6 ms, sys: 3.08 ms, total: 44.7 ms\n",
      "Wall time: 47.2 ms\n"
     ]
    },
    {
     "data": {
      "text/html": [
       "<div>\n",
       "<style scoped>\n",
       "    .dataframe tbody tr th:only-of-type {\n",
       "        vertical-align: middle;\n",
       "    }\n",
       "\n",
       "    .dataframe tbody tr th {\n",
       "        vertical-align: top;\n",
       "    }\n",
       "\n",
       "    .dataframe thead th {\n",
       "        text-align: right;\n",
       "    }\n",
       "</style>\n",
       "<table border=\"1\" class=\"dataframe\">\n",
       "  <thead>\n",
       "    <tr style=\"text-align: right;\">\n",
       "      <th></th>\n",
       "      <th>Season</th>\n",
       "      <th>DayNum</th>\n",
       "      <th>WTeamID</th>\n",
       "      <th>WScore</th>\n",
       "      <th>LTeamID</th>\n",
       "      <th>LScore</th>\n",
       "      <th>NumOT</th>\n",
       "    </tr>\n",
       "  </thead>\n",
       "  <tbody>\n",
       "    <tr>\n",
       "      <th>count</th>\n",
       "      <td>174,471.00</td>\n",
       "      <td>174,471.00</td>\n",
       "      <td>174,471.00</td>\n",
       "      <td>174,471.00</td>\n",
       "      <td>174,471.00</td>\n",
       "      <td>174,471.00</td>\n",
       "      <td>174,471.00</td>\n",
       "    </tr>\n",
       "    <tr>\n",
       "      <th>mean</th>\n",
       "      <td>2,004.54</td>\n",
       "      <td>74.06</td>\n",
       "      <td>1,287.16</td>\n",
       "      <td>76.76</td>\n",
       "      <td>1,282.77</td>\n",
       "      <td>64.66</td>\n",
       "      <td>0.05</td>\n",
       "    </tr>\n",
       "    <tr>\n",
       "      <th>std</th>\n",
       "      <td>10.73</td>\n",
       "      <td>33.82</td>\n",
       "      <td>104.64</td>\n",
       "      <td>11.96</td>\n",
       "      <td>104.75</td>\n",
       "      <td>11.28</td>\n",
       "      <td>0.25</td>\n",
       "    </tr>\n",
       "    <tr>\n",
       "      <th>min</th>\n",
       "      <td>1,985.00</td>\n",
       "      <td>0.00</td>\n",
       "      <td>1,101.00</td>\n",
       "      <td>34.00</td>\n",
       "      <td>1,101.00</td>\n",
       "      <td>20.00</td>\n",
       "      <td>0.00</td>\n",
       "    </tr>\n",
       "    <tr>\n",
       "      <th>25%</th>\n",
       "      <td>1,995.00</td>\n",
       "      <td>47.00</td>\n",
       "      <td>1,198.00</td>\n",
       "      <td>69.00</td>\n",
       "      <td>1,191.00</td>\n",
       "      <td>57.00</td>\n",
       "      <td>0.00</td>\n",
       "    </tr>\n",
       "    <tr>\n",
       "      <th>50%</th>\n",
       "      <td>2,005.00</td>\n",
       "      <td>76.00</td>\n",
       "      <td>1,285.00</td>\n",
       "      <td>76.00</td>\n",
       "      <td>1,281.00</td>\n",
       "      <td>64.00</td>\n",
       "      <td>0.00</td>\n",
       "    </tr>\n",
       "    <tr>\n",
       "      <th>75%</th>\n",
       "      <td>2,014.00</td>\n",
       "      <td>103.00</td>\n",
       "      <td>1,380.00</td>\n",
       "      <td>84.00</td>\n",
       "      <td>1,375.00</td>\n",
       "      <td>72.00</td>\n",
       "      <td>0.00</td>\n",
       "    </tr>\n",
       "    <tr>\n",
       "      <th>max</th>\n",
       "      <td>2,022.00</td>\n",
       "      <td>132.00</td>\n",
       "      <td>1,472.00</td>\n",
       "      <td>186.00</td>\n",
       "      <td>1,472.00</td>\n",
       "      <td>150.00</td>\n",
       "      <td>6.00</td>\n",
       "    </tr>\n",
       "  </tbody>\n",
       "</table>\n",
       "</div>"
      ],
      "text/plain": [
       "          Season     DayNum    WTeamID     WScore    LTeamID     LScore  \\\n",
       "count 174,471.00 174,471.00 174,471.00 174,471.00 174,471.00 174,471.00   \n",
       "mean    2,004.54      74.06   1,287.16      76.76   1,282.77      64.66   \n",
       "std        10.73      33.82     104.64      11.96     104.75      11.28   \n",
       "min     1,985.00       0.00   1,101.00      34.00   1,101.00      20.00   \n",
       "25%     1,995.00      47.00   1,198.00      69.00   1,191.00      57.00   \n",
       "50%     2,005.00      76.00   1,285.00      76.00   1,281.00      64.00   \n",
       "75%     2,014.00     103.00   1,380.00      84.00   1,375.00      72.00   \n",
       "max     2,022.00     132.00   1,472.00     186.00   1,472.00     150.00   \n",
       "\n",
       "           NumOT  \n",
       "count 174,471.00  \n",
       "mean        0.05  \n",
       "std         0.25  \n",
       "min         0.00  \n",
       "25%         0.00  \n",
       "50%         0.00  \n",
       "75%         0.00  \n",
       "max         6.00  "
      ]
     },
     "execution_count": 9,
     "metadata": {},
     "output_type": "execute_result"
    }
   ],
   "source": [
    "%%time\n",
    "season_data.describe()"
   ]
  },
  {
   "cell_type": "markdown",
   "id": "1a894136",
   "metadata": {
    "papermill": {
     "duration": 0.087292,
     "end_time": "2022-03-11T22:45:30.842247",
     "exception": false,
     "start_time": "2022-03-11T22:45:30.754955",
     "status": "completed"
    },
    "tags": []
   },
   "source": [
    "# Creating Features for the Model."
   ]
  },
  {
   "cell_type": "code",
   "execution_count": 10,
   "id": "780393ec",
   "metadata": {
    "execution": {
     "iopub.execute_input": "2022-03-11T22:45:31.004105Z",
     "iopub.status.busy": "2022-03-11T22:45:31.002969Z",
     "iopub.status.idle": "2022-03-11T22:45:31.006534Z",
     "shell.execute_reply": "2022-03-11T22:45:31.006056Z",
     "shell.execute_reply.started": "2022-03-11T22:31:35.853085Z"
    },
    "papermill": {
     "duration": 0.075815,
     "end_time": "2022-03-11T22:45:31.006640",
     "exception": false,
     "start_time": "2022-03-11T22:45:30.930825",
     "status": "completed"
    },
    "tags": []
   },
   "outputs": [
    {
     "name": "stdout",
     "output_type": "stream",
     "text": [
      "CPU times: user 3 µs, sys: 0 ns, total: 3 µs\n",
      "Wall time: 5.48 µs\n"
     ]
    }
   ],
   "source": [
    "%%time\n",
    "def score_gap(df):\n",
    "    \"\"\"\n",
    "    \"\"\"\n",
    "    df['ScoreGap'] = df['WScore'] - df['LScore']\n",
    "    return df"
   ]
  },
  {
   "cell_type": "code",
   "execution_count": 11,
   "id": "d8232a4d",
   "metadata": {
    "execution": {
     "iopub.execute_input": "2022-03-11T22:45:31.128729Z",
     "iopub.status.busy": "2022-03-11T22:45:31.128097Z",
     "iopub.status.idle": "2022-03-11T22:45:31.132853Z",
     "shell.execute_reply": "2022-03-11T22:45:31.132339Z",
     "shell.execute_reply.started": "2022-03-11T22:31:35.861510Z"
    },
    "papermill": {
     "duration": 0.068347,
     "end_time": "2022-03-11T22:45:31.132956",
     "exception": false,
     "start_time": "2022-03-11T22:45:31.064609",
     "status": "completed"
    },
    "tags": []
   },
   "outputs": [
    {
     "name": "stdout",
     "output_type": "stream",
     "text": [
      "CPU times: user 4.01 ms, sys: 131 µs, total: 4.14 ms\n",
      "Wall time: 3.07 ms\n"
     ]
    }
   ],
   "source": [
    "%%time\n",
    "season_data = score_gap(season_data)"
   ]
  },
  {
   "cell_type": "code",
   "execution_count": 12,
   "id": "4cb78f7d",
   "metadata": {
    "execution": {
     "iopub.execute_input": "2022-03-11T22:45:31.258401Z",
     "iopub.status.busy": "2022-03-11T22:45:31.257906Z",
     "iopub.status.idle": "2022-03-11T22:45:31.263707Z",
     "shell.execute_reply": "2022-03-11T22:45:31.262074Z",
     "shell.execute_reply.started": "2022-03-11T22:31:35.875011Z"
    },
    "papermill": {
     "duration": 0.073727,
     "end_time": "2022-03-11T22:45:31.263947",
     "exception": false,
     "start_time": "2022-03-11T22:45:31.190220",
     "status": "completed"
    },
    "tags": []
   },
   "outputs": [
    {
     "name": "stdout",
     "output_type": "stream",
     "text": [
      "CPU times: user 107 µs, sys: 14 µs, total: 121 µs\n",
      "Wall time: 126 µs\n"
     ]
    },
    {
     "data": {
      "text/html": [
       "<div>\n",
       "<style scoped>\n",
       "    .dataframe tbody tr th:only-of-type {\n",
       "        vertical-align: middle;\n",
       "    }\n",
       "\n",
       "    .dataframe tbody tr th {\n",
       "        vertical-align: top;\n",
       "    }\n",
       "\n",
       "    .dataframe thead th {\n",
       "        text-align: right;\n",
       "    }\n",
       "</style>\n",
       "<table border=\"1\" class=\"dataframe\">\n",
       "  <thead>\n",
       "    <tr style=\"text-align: right;\">\n",
       "      <th></th>\n",
       "      <th>Season</th>\n",
       "      <th>DayNum</th>\n",
       "      <th>WTeamID</th>\n",
       "      <th>WScore</th>\n",
       "      <th>LTeamID</th>\n",
       "      <th>LScore</th>\n",
       "      <th>WLoc</th>\n",
       "      <th>NumOT</th>\n",
       "      <th>ScoreGap</th>\n",
       "    </tr>\n",
       "  </thead>\n",
       "  <tbody>\n",
       "    <tr>\n",
       "      <th>0</th>\n",
       "      <td>1985</td>\n",
       "      <td>20</td>\n",
       "      <td>1228</td>\n",
       "      <td>81</td>\n",
       "      <td>1328</td>\n",
       "      <td>64</td>\n",
       "      <td>N</td>\n",
       "      <td>0</td>\n",
       "      <td>17</td>\n",
       "    </tr>\n",
       "    <tr>\n",
       "      <th>1</th>\n",
       "      <td>1985</td>\n",
       "      <td>25</td>\n",
       "      <td>1106</td>\n",
       "      <td>77</td>\n",
       "      <td>1354</td>\n",
       "      <td>70</td>\n",
       "      <td>H</td>\n",
       "      <td>0</td>\n",
       "      <td>7</td>\n",
       "    </tr>\n",
       "    <tr>\n",
       "      <th>2</th>\n",
       "      <td>1985</td>\n",
       "      <td>25</td>\n",
       "      <td>1112</td>\n",
       "      <td>63</td>\n",
       "      <td>1223</td>\n",
       "      <td>56</td>\n",
       "      <td>H</td>\n",
       "      <td>0</td>\n",
       "      <td>7</td>\n",
       "    </tr>\n",
       "    <tr>\n",
       "      <th>3</th>\n",
       "      <td>1985</td>\n",
       "      <td>25</td>\n",
       "      <td>1165</td>\n",
       "      <td>70</td>\n",
       "      <td>1432</td>\n",
       "      <td>54</td>\n",
       "      <td>H</td>\n",
       "      <td>0</td>\n",
       "      <td>16</td>\n",
       "    </tr>\n",
       "    <tr>\n",
       "      <th>4</th>\n",
       "      <td>1985</td>\n",
       "      <td>25</td>\n",
       "      <td>1192</td>\n",
       "      <td>86</td>\n",
       "      <td>1447</td>\n",
       "      <td>74</td>\n",
       "      <td>H</td>\n",
       "      <td>0</td>\n",
       "      <td>12</td>\n",
       "    </tr>\n",
       "  </tbody>\n",
       "</table>\n",
       "</div>"
      ],
      "text/plain": [
       "   Season  DayNum  WTeamID  WScore  LTeamID  LScore WLoc  NumOT  ScoreGap\n",
       "0    1985      20     1228      81     1328      64    N      0        17\n",
       "1    1985      25     1106      77     1354      70    H      0         7\n",
       "2    1985      25     1112      63     1223      56    H      0         7\n",
       "3    1985      25     1165      70     1432      54    H      0        16\n",
       "4    1985      25     1192      86     1447      74    H      0        12"
      ]
     },
     "execution_count": 12,
     "metadata": {},
     "output_type": "execute_result"
    }
   ],
   "source": [
    "%%time\n",
    "season_data.head()"
   ]
  },
  {
   "cell_type": "code",
   "execution_count": 13,
   "id": "0004d3b0",
   "metadata": {
    "execution": {
     "iopub.execute_input": "2022-03-11T22:45:31.390619Z",
     "iopub.status.busy": "2022-03-11T22:45:31.389833Z",
     "iopub.status.idle": "2022-03-11T22:45:31.394532Z",
     "shell.execute_reply": "2022-03-11T22:45:31.393122Z",
     "shell.execute_reply.started": "2022-03-11T22:31:35.896705Z"
    },
    "papermill": {
     "duration": 0.071044,
     "end_time": "2022-03-11T22:45:31.394773",
     "exception": false,
     "start_time": "2022-03-11T22:45:31.323729",
     "status": "completed"
    },
    "tags": []
   },
   "outputs": [
    {
     "name": "stdout",
     "output_type": "stream",
     "text": [
      "CPU times: user 4 µs, sys: 0 ns, total: 4 µs\n",
      "Wall time: 7.39 µs\n"
     ]
    }
   ],
   "source": [
    "%%time\n",
    "# Creates an empty list of all the teams, Winners + Lossers to merge data back....\n",
    "def create_team_list(df, group_list = ['Season', 'WTeamID'], team_id = 'WTeamID'):\n",
    "    group = df.groupby(group_list).count().reset_index()\n",
    "    group = group[group_list].rename(columns={team_id: \"TeamID\"})\n",
    "    return group"
   ]
  },
  {
   "cell_type": "code",
   "execution_count": 14,
   "id": "86f42f31",
   "metadata": {
    "execution": {
     "iopub.execute_input": "2022-03-11T22:45:31.522797Z",
     "iopub.status.busy": "2022-03-11T22:45:31.522067Z",
     "iopub.status.idle": "2022-03-11T22:45:31.620489Z",
     "shell.execute_reply": "2022-03-11T22:45:31.620003Z",
     "shell.execute_reply.started": "2022-03-11T22:31:35.909983Z"
    },
    "papermill": {
     "duration": 0.164203,
     "end_time": "2022-03-11T22:45:31.620596",
     "exception": false,
     "start_time": "2022-03-11T22:45:31.456393",
     "status": "completed"
    },
    "tags": []
   },
   "outputs": [
    {
     "name": "stdout",
     "output_type": "stream",
     "text": [
      "CPU times: user 84.5 ms, sys: 8.04 ms, total: 92.5 ms\n",
      "Wall time: 95 ms\n"
     ]
    }
   ],
   "source": [
    "%%time\n",
    "winners = create_team_list(season_data, group_list = ['Season', 'WTeamID'], team_id = 'WTeamID')\n",
    "lossers = create_team_list(season_data, group_list = ['Season', 'LTeamID'], team_id = 'LTeamID')\n",
    "\n",
    "# Create an empty train dataset.\n",
    "team_agg_features = pd.concat([winners, lossers], axis = 0).drop_duplicates().sort_values(['Season', 'TeamID']).reset_index(drop = True)"
   ]
  },
  {
   "cell_type": "code",
   "execution_count": 15,
   "id": "16197a86",
   "metadata": {
    "execution": {
     "iopub.execute_input": "2022-03-11T22:45:31.743646Z",
     "iopub.status.busy": "2022-03-11T22:45:31.743109Z",
     "iopub.status.idle": "2022-03-11T22:45:31.751233Z",
     "shell.execute_reply": "2022-03-11T22:45:31.751723Z",
     "shell.execute_reply.started": "2022-03-11T22:31:36.015418Z"
    },
    "papermill": {
     "duration": 0.073352,
     "end_time": "2022-03-11T22:45:31.751920",
     "exception": false,
     "start_time": "2022-03-11T22:45:31.678568",
     "status": "completed"
    },
    "tags": []
   },
   "outputs": [
    {
     "name": "stdout",
     "output_type": "stream",
     "text": [
      "CPU times: user 109 µs, sys: 14 µs, total: 123 µs\n",
      "Wall time: 127 µs\n"
     ]
    },
    {
     "data": {
      "text/html": [
       "<div>\n",
       "<style scoped>\n",
       "    .dataframe tbody tr th:only-of-type {\n",
       "        vertical-align: middle;\n",
       "    }\n",
       "\n",
       "    .dataframe tbody tr th {\n",
       "        vertical-align: top;\n",
       "    }\n",
       "\n",
       "    .dataframe thead th {\n",
       "        text-align: right;\n",
       "    }\n",
       "</style>\n",
       "<table border=\"1\" class=\"dataframe\">\n",
       "  <thead>\n",
       "    <tr style=\"text-align: right;\">\n",
       "      <th></th>\n",
       "      <th>Season</th>\n",
       "      <th>TeamID</th>\n",
       "    </tr>\n",
       "  </thead>\n",
       "  <tbody>\n",
       "    <tr>\n",
       "      <th>0</th>\n",
       "      <td>1985</td>\n",
       "      <td>1102</td>\n",
       "    </tr>\n",
       "    <tr>\n",
       "      <th>1</th>\n",
       "      <td>1985</td>\n",
       "      <td>1103</td>\n",
       "    </tr>\n",
       "    <tr>\n",
       "      <th>2</th>\n",
       "      <td>1985</td>\n",
       "      <td>1104</td>\n",
       "    </tr>\n",
       "    <tr>\n",
       "      <th>3</th>\n",
       "      <td>1985</td>\n",
       "      <td>1106</td>\n",
       "    </tr>\n",
       "    <tr>\n",
       "      <th>4</th>\n",
       "      <td>1985</td>\n",
       "      <td>1108</td>\n",
       "    </tr>\n",
       "  </tbody>\n",
       "</table>\n",
       "</div>"
      ],
      "text/plain": [
       "   Season  TeamID\n",
       "0    1985    1102\n",
       "1    1985    1103\n",
       "2    1985    1104\n",
       "3    1985    1106\n",
       "4    1985    1108"
      ]
     },
     "execution_count": 15,
     "metadata": {},
     "output_type": "execute_result"
    }
   ],
   "source": [
    "%%time\n",
    "team_agg_features.head()"
   ]
  },
  {
   "cell_type": "code",
   "execution_count": 16,
   "id": "00f43afc",
   "metadata": {
    "execution": {
     "iopub.execute_input": "2022-03-11T22:45:31.874319Z",
     "iopub.status.busy": "2022-03-11T22:45:31.873796Z",
     "iopub.status.idle": "2022-03-11T22:45:31.880217Z",
     "shell.execute_reply": "2022-03-11T22:45:31.879631Z",
     "shell.execute_reply.started": "2022-03-11T22:31:36.028137Z"
    },
    "papermill": {
     "duration": 0.068649,
     "end_time": "2022-03-11T22:45:31.880363",
     "exception": false,
     "start_time": "2022-03-11T22:45:31.811714",
     "status": "completed"
    },
    "tags": []
   },
   "outputs": [
    {
     "name": "stdout",
     "output_type": "stream",
     "text": [
      "CPU times: user 3 µs, sys: 0 ns, total: 3 µs\n",
      "Wall time: 6.44 µs\n"
     ]
    }
   ],
   "source": [
    "%%time\n",
    "# Creating aggregated features...\n",
    "def winner_aggregated_features(df, group_list = ['Season', 'WTeamID']):\n",
    "    tmp = df.groupby(group_list).agg(NumWins       = ('WTeamID', 'count'), \n",
    "                                     AvgWinsGap    = ('ScoreGap', 'mean'),\n",
    "                                     W_TotalPoints = ('WScore', 'sum'),\n",
    "                                     W_MaxPoints   = ('WScore', 'max'),\n",
    "                                     W_MinPoints   = ('WScore', 'min'),\n",
    "                                    )\n",
    "    tmp = tmp.reset_index()\n",
    "    tmp = tmp.rename(columns={\"WTeamID\": \"TeamID\"})\n",
    "    \n",
    "    return tmp"
   ]
  },
  {
   "cell_type": "code",
   "execution_count": 17,
   "id": "6e6e1f9c",
   "metadata": {
    "execution": {
     "iopub.execute_input": "2022-03-11T22:45:32.006543Z",
     "iopub.status.busy": "2022-03-11T22:45:32.005894Z",
     "iopub.status.idle": "2022-03-11T22:45:32.012994Z",
     "shell.execute_reply": "2022-03-11T22:45:32.013583Z",
     "shell.execute_reply.started": "2022-03-11T22:31:36.044287Z"
    },
    "papermill": {
     "duration": 0.070116,
     "end_time": "2022-03-11T22:45:32.013738",
     "exception": false,
     "start_time": "2022-03-11T22:45:31.943622",
     "status": "completed"
    },
    "tags": []
   },
   "outputs": [
    {
     "name": "stdout",
     "output_type": "stream",
     "text": [
      "CPU times: user 3 µs, sys: 1e+03 ns, total: 4 µs\n",
      "Wall time: 6.2 µs\n"
     ]
    }
   ],
   "source": [
    "%%time\n",
    "# Creating aggregated features...\n",
    "def losser_aggregated_features(df, group_list = ['Season', 'LTeamID']):\n",
    "    tmp = df.groupby(group_list).agg(NumLosses       = ('LTeamID', 'count'), \n",
    "                                     AvgLossesGap    = ('ScoreGap', 'mean'),\n",
    "                                     L_TotalPoints = ('LScore', 'sum'),\n",
    "                                     L_MaxPoints   = ('LScore', 'max'),\n",
    "                                     L_MinPoints   = ('LScore', 'min'),\n",
    "                                    )\n",
    "    tmp = tmp.reset_index()\n",
    "    tmp = tmp.rename(columns={\"LTeamID\": \"TeamID\"})\n",
    "    return tmp"
   ]
  },
  {
   "cell_type": "code",
   "execution_count": 18,
   "id": "f5d91169",
   "metadata": {
    "execution": {
     "iopub.execute_input": "2022-03-11T22:45:32.138298Z",
     "iopub.status.busy": "2022-03-11T22:45:32.137614Z",
     "iopub.status.idle": "2022-03-11T22:45:32.210307Z",
     "shell.execute_reply": "2022-03-11T22:45:32.210819Z",
     "shell.execute_reply.started": "2022-03-11T22:31:36.062275Z"
    },
    "papermill": {
     "duration": 0.136322,
     "end_time": "2022-03-11T22:45:32.210988",
     "exception": false,
     "start_time": "2022-03-11T22:45:32.074666",
     "status": "completed"
    },
    "tags": []
   },
   "outputs": [
    {
     "name": "stdout",
     "output_type": "stream",
     "text": [
      "CPU times: user 60.5 ms, sys: 0 ns, total: 60.5 ms\n",
      "Wall time: 67.3 ms\n"
     ]
    }
   ],
   "source": [
    "%%time\n",
    "winner_team_aggregation = winner_aggregated_features(season_data)\n",
    "losser_team_aggregation = losser_aggregated_features(season_data)"
   ]
  },
  {
   "cell_type": "code",
   "execution_count": 19,
   "id": "3b03ddf7",
   "metadata": {
    "execution": {
     "iopub.execute_input": "2022-03-11T22:45:32.341073Z",
     "iopub.status.busy": "2022-03-11T22:45:32.340212Z",
     "iopub.status.idle": "2022-03-11T22:45:32.344113Z",
     "shell.execute_reply": "2022-03-11T22:45:32.343602Z",
     "shell.execute_reply.started": "2022-03-11T22:31:36.140193Z"
    },
    "papermill": {
     "duration": 0.071139,
     "end_time": "2022-03-11T22:45:32.344240",
     "exception": false,
     "start_time": "2022-03-11T22:45:32.273101",
     "status": "completed"
    },
    "tags": []
   },
   "outputs": [
    {
     "name": "stdout",
     "output_type": "stream",
     "text": [
      "CPU times: user 2 µs, sys: 1e+03 ns, total: 3 µs\n",
      "Wall time: 5.48 µs\n"
     ]
    }
   ],
   "source": [
    "%%time\n",
    "def merge_back(df):\n",
    "    df = df.merge(winner_team_aggregation, on = ['Season', 'TeamID'], how = 'left')\n",
    "    df = df.merge(losser_team_aggregation, on = ['Season', 'TeamID'], how = 'left')\n",
    "    df.fillna(0, inplace = True) \n",
    "    return df"
   ]
  },
  {
   "cell_type": "code",
   "execution_count": 20,
   "id": "cb06c6ab",
   "metadata": {
    "execution": {
     "iopub.execute_input": "2022-03-11T22:45:32.538567Z",
     "iopub.status.busy": "2022-03-11T22:45:32.537700Z",
     "iopub.status.idle": "2022-03-11T22:45:32.559841Z",
     "shell.execute_reply": "2022-03-11T22:45:32.560337Z",
     "shell.execute_reply.started": "2022-03-11T22:31:36.149912Z"
    },
    "papermill": {
     "duration": 0.119639,
     "end_time": "2022-03-11T22:45:32.560539",
     "exception": false,
     "start_time": "2022-03-11T22:45:32.440900",
     "status": "completed"
    },
    "tags": []
   },
   "outputs": [
    {
     "name": "stdout",
     "output_type": "stream",
     "text": [
      "CPU times: user 13.8 ms, sys: 0 ns, total: 13.8 ms\n",
      "Wall time: 16.5 ms\n"
     ]
    }
   ],
   "source": [
    "%%time\n",
    "team_agg_features = merge_back(team_agg_features)"
   ]
  },
  {
   "cell_type": "code",
   "execution_count": 21,
   "id": "c47c1da7",
   "metadata": {
    "execution": {
     "iopub.execute_input": "2022-03-11T22:45:32.751429Z",
     "iopub.status.busy": "2022-03-11T22:45:32.750626Z",
     "iopub.status.idle": "2022-03-11T22:45:32.759373Z",
     "shell.execute_reply": "2022-03-11T22:45:32.758858Z",
     "shell.execute_reply.started": "2022-03-11T22:31:36.173757Z"
    },
    "papermill": {
     "duration": 0.104306,
     "end_time": "2022-03-11T22:45:32.759552",
     "exception": false,
     "start_time": "2022-03-11T22:45:32.655246",
     "status": "completed"
    },
    "tags": []
   },
   "outputs": [
    {
     "name": "stdout",
     "output_type": "stream",
     "text": [
      "CPU times: user 2.66 ms, sys: 0 ns, total: 2.66 ms\n",
      "Wall time: 2.67 ms\n"
     ]
    }
   ],
   "source": [
    "%%time\n",
    "def calculate_features(df):\n",
    "    \"\"\"\n",
    "    \n",
    "    \"\"\"\n",
    "    df['WinRatio'] = df['NumWins'] / (df['NumWins'] + df['NumLosses'])\n",
    "    df['AvgScoreGap'] = ((df['NumWins'] * df['AvgWinsGap'] - df['NumLosses'] * df['AvgLossesGap']) / (df['NumWins'] + df['NumLosses']))\n",
    "    df['PointsRatio'] = df['W_TotalPoints'] / (df['L_TotalPoints'] + df['W_TotalPoints'])\n",
    "    return df\n",
    "\n",
    "team_agg_features = calculate_features(team_agg_features)"
   ]
  },
  {
   "cell_type": "code",
   "execution_count": 22,
   "id": "988fd2e2",
   "metadata": {
    "execution": {
     "iopub.execute_input": "2022-03-11T22:45:32.888009Z",
     "iopub.status.busy": "2022-03-11T22:45:32.887399Z",
     "iopub.status.idle": "2022-03-11T22:45:32.892572Z",
     "shell.execute_reply": "2022-03-11T22:45:32.893044Z",
     "shell.execute_reply.started": "2022-03-11T22:31:36.189739Z"
    },
    "papermill": {
     "duration": 0.07266,
     "end_time": "2022-03-11T22:45:32.893181",
     "exception": false,
     "start_time": "2022-03-11T22:45:32.820521",
     "status": "completed"
    },
    "tags": []
   },
   "outputs": [
    {
     "name": "stdout",
     "output_type": "stream",
     "text": [
      "CPU times: user 3.2 ms, sys: 24 µs, total: 3.22 ms\n",
      "Wall time: 2.69 ms\n"
     ]
    }
   ],
   "source": [
    "%%time\n",
    "team_agg_features = team_agg_features[['Season','TeamID','WinRatio', 'AvgScoreGap','PointsRatio']]"
   ]
  },
  {
   "cell_type": "code",
   "execution_count": 23,
   "id": "02a87a84",
   "metadata": {
    "execution": {
     "iopub.execute_input": "2022-03-11T22:45:33.020478Z",
     "iopub.status.busy": "2022-03-11T22:45:33.019828Z",
     "iopub.status.idle": "2022-03-11T22:45:33.031310Z",
     "shell.execute_reply": "2022-03-11T22:45:33.031681Z",
     "shell.execute_reply.started": "2022-03-11T22:31:36.204199Z"
    },
    "papermill": {
     "duration": 0.07596,
     "end_time": "2022-03-11T22:45:33.031815",
     "exception": false,
     "start_time": "2022-03-11T22:45:32.955855",
     "status": "completed"
    },
    "tags": []
   },
   "outputs": [
    {
     "name": "stdout",
     "output_type": "stream",
     "text": [
      "CPU times: user 113 µs, sys: 14 µs, total: 127 µs\n",
      "Wall time: 131 µs\n"
     ]
    },
    {
     "data": {
      "text/html": [
       "<div>\n",
       "<style scoped>\n",
       "    .dataframe tbody tr th:only-of-type {\n",
       "        vertical-align: middle;\n",
       "    }\n",
       "\n",
       "    .dataframe tbody tr th {\n",
       "        vertical-align: top;\n",
       "    }\n",
       "\n",
       "    .dataframe thead th {\n",
       "        text-align: right;\n",
       "    }\n",
       "</style>\n",
       "<table border=\"1\" class=\"dataframe\">\n",
       "  <thead>\n",
       "    <tr style=\"text-align: right;\">\n",
       "      <th></th>\n",
       "      <th>Season</th>\n",
       "      <th>TeamID</th>\n",
       "      <th>WinRatio</th>\n",
       "      <th>AvgScoreGap</th>\n",
       "      <th>PointsRatio</th>\n",
       "    </tr>\n",
       "  </thead>\n",
       "  <tbody>\n",
       "    <tr>\n",
       "      <th>0</th>\n",
       "      <td>1985</td>\n",
       "      <td>1102</td>\n",
       "      <td>0.21</td>\n",
       "      <td>-5.79</td>\n",
       "      <td>0.23</td>\n",
       "    </tr>\n",
       "    <tr>\n",
       "      <th>1</th>\n",
       "      <td>1985</td>\n",
       "      <td>1103</td>\n",
       "      <td>0.39</td>\n",
       "      <td>-3.04</td>\n",
       "      <td>0.45</td>\n",
       "    </tr>\n",
       "    <tr>\n",
       "      <th>2</th>\n",
       "      <td>1985</td>\n",
       "      <td>1104</td>\n",
       "      <td>0.70</td>\n",
       "      <td>7.80</td>\n",
       "      <td>0.74</td>\n",
       "    </tr>\n",
       "    <tr>\n",
       "      <th>3</th>\n",
       "      <td>1985</td>\n",
       "      <td>1106</td>\n",
       "      <td>0.42</td>\n",
       "      <td>-3.79</td>\n",
       "      <td>0.44</td>\n",
       "    </tr>\n",
       "    <tr>\n",
       "      <th>4</th>\n",
       "      <td>1985</td>\n",
       "      <td>1108</td>\n",
       "      <td>0.76</td>\n",
       "      <td>7.96</td>\n",
       "      <td>0.79</td>\n",
       "    </tr>\n",
       "  </tbody>\n",
       "</table>\n",
       "</div>"
      ],
      "text/plain": [
       "   Season  TeamID  WinRatio  AvgScoreGap  PointsRatio\n",
       "0    1985    1102      0.21        -5.79         0.23\n",
       "1    1985    1103      0.39        -3.04         0.45\n",
       "2    1985    1104      0.70         7.80         0.74\n",
       "3    1985    1106      0.42        -3.79         0.44\n",
       "4    1985    1108      0.76         7.96         0.79"
      ]
     },
     "execution_count": 23,
     "metadata": {},
     "output_type": "execute_result"
    }
   ],
   "source": [
    "%%time\n",
    "team_agg_features.head()"
   ]
  },
  {
   "cell_type": "markdown",
   "id": "320c12d2",
   "metadata": {
    "papermill": {
     "duration": 0.061325,
     "end_time": "2022-03-11T22:45:33.154821",
     "exception": false,
     "start_time": "2022-03-11T22:45:33.093496",
     "status": "completed"
    },
    "tags": []
   },
   "source": [
    "# Creating the Training Dataset..."
   ]
  },
  {
   "cell_type": "code",
   "execution_count": 24,
   "id": "877a6407",
   "metadata": {
    "execution": {
     "iopub.execute_input": "2022-03-11T22:45:33.281945Z",
     "iopub.status.busy": "2022-03-11T22:45:33.281394Z",
     "iopub.status.idle": "2022-03-11T22:45:33.305732Z",
     "shell.execute_reply": "2022-03-11T22:45:33.305024Z",
     "shell.execute_reply.started": "2022-03-11T22:31:36.220480Z"
    },
    "papermill": {
     "duration": 0.089886,
     "end_time": "2022-03-11T22:45:33.305885",
     "exception": false,
     "start_time": "2022-03-11T22:45:33.215999",
     "status": "completed"
    },
    "tags": []
   },
   "outputs": [
    {
     "name": "stdout",
     "output_type": "stream",
     "text": [
      "CPU times: user 3.15 ms, sys: 1.84 ms, total: 4.98 ms\n",
      "Wall time: 10.4 ms\n"
     ]
    },
    {
     "data": {
      "text/html": [
       "<div>\n",
       "<style scoped>\n",
       "    .dataframe tbody tr th:only-of-type {\n",
       "        vertical-align: middle;\n",
       "    }\n",
       "\n",
       "    .dataframe tbody tr th {\n",
       "        vertical-align: top;\n",
       "    }\n",
       "\n",
       "    .dataframe thead th {\n",
       "        text-align: right;\n",
       "    }\n",
       "</style>\n",
       "<table border=\"1\" class=\"dataframe\">\n",
       "  <thead>\n",
       "    <tr style=\"text-align: right;\">\n",
       "      <th></th>\n",
       "      <th>Season</th>\n",
       "      <th>DayNum</th>\n",
       "      <th>WTeamID</th>\n",
       "      <th>WScore</th>\n",
       "      <th>LTeamID</th>\n",
       "      <th>LScore</th>\n",
       "      <th>WLoc</th>\n",
       "      <th>NumOT</th>\n",
       "    </tr>\n",
       "  </thead>\n",
       "  <tbody>\n",
       "    <tr>\n",
       "      <th>0</th>\n",
       "      <td>1985</td>\n",
       "      <td>136</td>\n",
       "      <td>1116</td>\n",
       "      <td>63</td>\n",
       "      <td>1234</td>\n",
       "      <td>54</td>\n",
       "      <td>N</td>\n",
       "      <td>0</td>\n",
       "    </tr>\n",
       "    <tr>\n",
       "      <th>1</th>\n",
       "      <td>1985</td>\n",
       "      <td>136</td>\n",
       "      <td>1120</td>\n",
       "      <td>59</td>\n",
       "      <td>1345</td>\n",
       "      <td>58</td>\n",
       "      <td>N</td>\n",
       "      <td>0</td>\n",
       "    </tr>\n",
       "    <tr>\n",
       "      <th>2</th>\n",
       "      <td>1985</td>\n",
       "      <td>136</td>\n",
       "      <td>1207</td>\n",
       "      <td>68</td>\n",
       "      <td>1250</td>\n",
       "      <td>43</td>\n",
       "      <td>N</td>\n",
       "      <td>0</td>\n",
       "    </tr>\n",
       "    <tr>\n",
       "      <th>3</th>\n",
       "      <td>1985</td>\n",
       "      <td>136</td>\n",
       "      <td>1229</td>\n",
       "      <td>58</td>\n",
       "      <td>1425</td>\n",
       "      <td>55</td>\n",
       "      <td>N</td>\n",
       "      <td>0</td>\n",
       "    </tr>\n",
       "    <tr>\n",
       "      <th>4</th>\n",
       "      <td>1985</td>\n",
       "      <td>136</td>\n",
       "      <td>1242</td>\n",
       "      <td>49</td>\n",
       "      <td>1325</td>\n",
       "      <td>38</td>\n",
       "      <td>N</td>\n",
       "      <td>0</td>\n",
       "    </tr>\n",
       "  </tbody>\n",
       "</table>\n",
       "</div>"
      ],
      "text/plain": [
       "   Season  DayNum  WTeamID  WScore  LTeamID  LScore WLoc  NumOT\n",
       "0    1985     136     1116      63     1234      54    N      0\n",
       "1    1985     136     1120      59     1345      58    N      0\n",
       "2    1985     136     1207      68     1250      43    N      0\n",
       "3    1985     136     1229      58     1425      55    N      0\n",
       "4    1985     136     1242      49     1325      38    N      0"
      ]
     },
     "execution_count": 24,
     "metadata": {},
     "output_type": "execute_result"
    }
   ],
   "source": [
    "%%time\n",
    "tournament_data = pd.read_csv('/kaggle/input/mens-march-mania-2022/MDataFiles_Stage1/MNCAATourneyCompactResults.csv')\n",
    "tournament_data.head()"
   ]
  },
  {
   "cell_type": "code",
   "execution_count": 25,
   "id": "83d255a5",
   "metadata": {
    "execution": {
     "iopub.execute_input": "2022-03-11T22:45:33.479092Z",
     "iopub.status.busy": "2022-03-11T22:45:33.478604Z",
     "iopub.status.idle": "2022-03-11T22:45:33.500790Z",
     "shell.execute_reply": "2022-03-11T22:45:33.499767Z",
     "shell.execute_reply.started": "2022-03-11T22:31:36.248836Z"
    },
    "papermill": {
     "duration": 0.095033,
     "end_time": "2022-03-11T22:45:33.500985",
     "exception": false,
     "start_time": "2022-03-11T22:45:33.405952",
     "status": "completed"
    },
    "tags": []
   },
   "outputs": [
    {
     "name": "stdout",
     "output_type": "stream",
     "text": [
      "CPU times: user 12.7 ms, sys: 87 µs, total: 12.8 ms\n",
      "Wall time: 12.3 ms\n"
     ]
    },
    {
     "data": {
      "text/html": [
       "<div>\n",
       "<style scoped>\n",
       "    .dataframe tbody tr th:only-of-type {\n",
       "        vertical-align: middle;\n",
       "    }\n",
       "\n",
       "    .dataframe tbody tr th {\n",
       "        vertical-align: top;\n",
       "    }\n",
       "\n",
       "    .dataframe thead th {\n",
       "        text-align: right;\n",
       "    }\n",
       "</style>\n",
       "<table border=\"1\" class=\"dataframe\">\n",
       "  <thead>\n",
       "    <tr style=\"text-align: right;\">\n",
       "      <th></th>\n",
       "      <th>Season</th>\n",
       "      <th>DayNum</th>\n",
       "      <th>WTeamID</th>\n",
       "      <th>WScore</th>\n",
       "      <th>LTeamID</th>\n",
       "      <th>LScore</th>\n",
       "      <th>NumOT</th>\n",
       "    </tr>\n",
       "  </thead>\n",
       "  <tbody>\n",
       "    <tr>\n",
       "      <th>count</th>\n",
       "      <td>2,317.00</td>\n",
       "      <td>2,317.00</td>\n",
       "      <td>2,317.00</td>\n",
       "      <td>2,317.00</td>\n",
       "      <td>2,317.00</td>\n",
       "      <td>2,317.00</td>\n",
       "      <td>2,317.00</td>\n",
       "    </tr>\n",
       "    <tr>\n",
       "      <th>mean</th>\n",
       "      <td>2,002.76</td>\n",
       "      <td>139.17</td>\n",
       "      <td>1,286.54</td>\n",
       "      <td>76.89</td>\n",
       "      <td>1,292.02</td>\n",
       "      <td>65.17</td>\n",
       "      <td>0.07</td>\n",
       "    </tr>\n",
       "    <tr>\n",
       "      <th>std</th>\n",
       "      <td>10.47</td>\n",
       "      <td>4.22</td>\n",
       "      <td>100.99</td>\n",
       "      <td>11.84</td>\n",
       "      <td>103.29</td>\n",
       "      <td>11.06</td>\n",
       "      <td>0.28</td>\n",
       "    </tr>\n",
       "    <tr>\n",
       "      <th>min</th>\n",
       "      <td>1,985.00</td>\n",
       "      <td>134.00</td>\n",
       "      <td>1,101.00</td>\n",
       "      <td>43.00</td>\n",
       "      <td>1,101.00</td>\n",
       "      <td>29.00</td>\n",
       "      <td>0.00</td>\n",
       "    </tr>\n",
       "    <tr>\n",
       "      <th>25%</th>\n",
       "      <td>1,994.00</td>\n",
       "      <td>136.00</td>\n",
       "      <td>1,210.00</td>\n",
       "      <td>69.00</td>\n",
       "      <td>1,209.00</td>\n",
       "      <td>58.00</td>\n",
       "      <td>0.00</td>\n",
       "    </tr>\n",
       "    <tr>\n",
       "      <th>50%</th>\n",
       "      <td>2,003.00</td>\n",
       "      <td>137.00</td>\n",
       "      <td>1,276.00</td>\n",
       "      <td>76.00</td>\n",
       "      <td>1,290.00</td>\n",
       "      <td>65.00</td>\n",
       "      <td>0.00</td>\n",
       "    </tr>\n",
       "    <tr>\n",
       "      <th>75%</th>\n",
       "      <td>2,012.00</td>\n",
       "      <td>139.00</td>\n",
       "      <td>1,385.00</td>\n",
       "      <td>84.00</td>\n",
       "      <td>1,387.00</td>\n",
       "      <td>72.00</td>\n",
       "      <td>0.00</td>\n",
       "    </tr>\n",
       "    <tr>\n",
       "      <th>max</th>\n",
       "      <td>2,021.00</td>\n",
       "      <td>154.00</td>\n",
       "      <td>1,463.00</td>\n",
       "      <td>149.00</td>\n",
       "      <td>1,463.00</td>\n",
       "      <td>115.00</td>\n",
       "      <td>3.00</td>\n",
       "    </tr>\n",
       "  </tbody>\n",
       "</table>\n",
       "</div>"
      ],
      "text/plain": [
       "        Season   DayNum  WTeamID   WScore  LTeamID   LScore    NumOT\n",
       "count 2,317.00 2,317.00 2,317.00 2,317.00 2,317.00 2,317.00 2,317.00\n",
       "mean  2,002.76   139.17 1,286.54    76.89 1,292.02    65.17     0.07\n",
       "std      10.47     4.22   100.99    11.84   103.29    11.06     0.28\n",
       "min   1,985.00   134.00 1,101.00    43.00 1,101.00    29.00     0.00\n",
       "25%   1,994.00   136.00 1,210.00    69.00 1,209.00    58.00     0.00\n",
       "50%   2,003.00   137.00 1,276.00    76.00 1,290.00    65.00     0.00\n",
       "75%   2,012.00   139.00 1,385.00    84.00 1,387.00    72.00     0.00\n",
       "max   2,021.00   154.00 1,463.00   149.00 1,463.00   115.00     3.00"
      ]
     },
     "execution_count": 25,
     "metadata": {},
     "output_type": "execute_result"
    }
   ],
   "source": [
    "%%time\n",
    "tournament_data.describe()"
   ]
  },
  {
   "cell_type": "code",
   "execution_count": 26,
   "id": "a0bcfc35",
   "metadata": {
    "execution": {
     "iopub.execute_input": "2022-03-11T22:45:33.688302Z",
     "iopub.status.busy": "2022-03-11T22:45:33.682911Z",
     "iopub.status.idle": "2022-03-11T22:45:33.692685Z",
     "shell.execute_reply": "2022-03-11T22:45:33.693761Z",
     "shell.execute_reply.started": "2022-03-11T22:31:36.284004Z"
    },
    "papermill": {
     "duration": 0.102942,
     "end_time": "2022-03-11T22:45:33.694080",
     "exception": false,
     "start_time": "2022-03-11T22:45:33.591138",
     "status": "completed"
    },
    "tags": []
   },
   "outputs": [
    {
     "name": "stdout",
     "output_type": "stream",
     "text": [
      "CPU times: user 811 µs, sys: 0 ns, total: 811 µs\n",
      "Wall time: 765 µs\n"
     ]
    }
   ],
   "source": [
    "%%time\n",
    "tournament_data = tournament_data.rename(columns = {'WTeamID' : 'W_TeamID', 'LTeamID' : 'L_TeamID', 'WScore' : 'W_Score', 'LScore' : 'L_Score'})  "
   ]
  },
  {
   "cell_type": "code",
   "execution_count": 27,
   "id": "fca56a30",
   "metadata": {
    "execution": {
     "iopub.execute_input": "2022-03-11T22:45:33.927544Z",
     "iopub.status.busy": "2022-03-11T22:45:33.926814Z",
     "iopub.status.idle": "2022-03-11T22:45:33.932398Z",
     "shell.execute_reply": "2022-03-11T22:45:33.932870Z",
     "shell.execute_reply.started": "2022-03-11T22:31:36.292998Z"
    },
    "papermill": {
     "duration": 0.109177,
     "end_time": "2022-03-11T22:45:33.933031",
     "exception": false,
     "start_time": "2022-03-11T22:45:33.823854",
     "status": "completed"
    },
    "tags": []
   },
   "outputs": [
    {
     "name": "stdout",
     "output_type": "stream",
     "text": [
      "CPU times: user 822 µs, sys: 0 ns, total: 822 µs\n",
      "Wall time: 828 µs\n"
     ]
    }
   ],
   "source": [
    "%%time\n",
    "# Drop non importante features from the dataset...\n",
    "tournament_data.drop(['NumOT', 'WLoc'], axis = 1, inplace = True)"
   ]
  },
  {
   "cell_type": "code",
   "execution_count": 28,
   "id": "845024fd",
   "metadata": {
    "execution": {
     "iopub.execute_input": "2022-03-11T22:45:34.074615Z",
     "iopub.status.busy": "2022-03-11T22:45:34.070804Z",
     "iopub.status.idle": "2022-03-11T22:45:34.080072Z",
     "shell.execute_reply": "2022-03-11T22:45:34.081725Z",
     "shell.execute_reply.started": "2022-03-11T22:31:36.306447Z"
    },
    "papermill": {
     "duration": 0.081144,
     "end_time": "2022-03-11T22:45:34.082061",
     "exception": false,
     "start_time": "2022-03-11T22:45:34.000917",
     "status": "completed"
    },
    "tags": []
   },
   "outputs": [
    {
     "name": "stdout",
     "output_type": "stream",
     "text": [
      "CPU times: user 807 µs, sys: 992 µs, total: 1.8 ms\n",
      "Wall time: 1.31 ms\n"
     ]
    }
   ],
   "source": [
    "%%time\n",
    "MIN_SEASON = 2015\n",
    "# Remove data before 2003, no all the data is available...\n",
    "tournament_data = tournament_data[tournament_data['Season'] >= MIN_SEASON].reset_index(drop = True)"
   ]
  },
  {
   "cell_type": "code",
   "execution_count": 29,
   "id": "8de02a80",
   "metadata": {
    "execution": {
     "iopub.execute_input": "2022-03-11T22:45:34.290103Z",
     "iopub.status.busy": "2022-03-11T22:45:34.289459Z",
     "iopub.status.idle": "2022-03-11T22:45:34.299434Z",
     "shell.execute_reply": "2022-03-11T22:45:34.299014Z",
     "shell.execute_reply.started": "2022-03-11T22:31:36.322384Z"
    },
    "papermill": {
     "duration": 0.11467,
     "end_time": "2022-03-11T22:45:34.299552",
     "exception": false,
     "start_time": "2022-03-11T22:45:34.184882",
     "status": "completed"
    },
    "tags": []
   },
   "outputs": [
    {
     "name": "stdout",
     "output_type": "stream",
     "text": [
      "CPU times: user 0 ns, sys: 109 µs, total: 109 µs\n",
      "Wall time: 113 µs\n"
     ]
    },
    {
     "data": {
      "text/html": [
       "<div>\n",
       "<style scoped>\n",
       "    .dataframe tbody tr th:only-of-type {\n",
       "        vertical-align: middle;\n",
       "    }\n",
       "\n",
       "    .dataframe tbody tr th {\n",
       "        vertical-align: top;\n",
       "    }\n",
       "\n",
       "    .dataframe thead th {\n",
       "        text-align: right;\n",
       "    }\n",
       "</style>\n",
       "<table border=\"1\" class=\"dataframe\">\n",
       "  <thead>\n",
       "    <tr style=\"text-align: right;\">\n",
       "      <th></th>\n",
       "      <th>Season</th>\n",
       "      <th>DayNum</th>\n",
       "      <th>W_TeamID</th>\n",
       "      <th>W_Score</th>\n",
       "      <th>L_TeamID</th>\n",
       "      <th>L_Score</th>\n",
       "    </tr>\n",
       "  </thead>\n",
       "  <tbody>\n",
       "    <tr>\n",
       "      <th>0</th>\n",
       "      <td>2015</td>\n",
       "      <td>134</td>\n",
       "      <td>1214</td>\n",
       "      <td>74</td>\n",
       "      <td>1264</td>\n",
       "      <td>64</td>\n",
       "    </tr>\n",
       "    <tr>\n",
       "      <th>1</th>\n",
       "      <td>2015</td>\n",
       "      <td>134</td>\n",
       "      <td>1279</td>\n",
       "      <td>94</td>\n",
       "      <td>1140</td>\n",
       "      <td>90</td>\n",
       "    </tr>\n",
       "    <tr>\n",
       "      <th>2</th>\n",
       "      <td>2015</td>\n",
       "      <td>135</td>\n",
       "      <td>1173</td>\n",
       "      <td>56</td>\n",
       "      <td>1129</td>\n",
       "      <td>55</td>\n",
       "    </tr>\n",
       "    <tr>\n",
       "      <th>3</th>\n",
       "      <td>2015</td>\n",
       "      <td>135</td>\n",
       "      <td>1352</td>\n",
       "      <td>81</td>\n",
       "      <td>1316</td>\n",
       "      <td>77</td>\n",
       "    </tr>\n",
       "    <tr>\n",
       "      <th>4</th>\n",
       "      <td>2015</td>\n",
       "      <td>136</td>\n",
       "      <td>1112</td>\n",
       "      <td>93</td>\n",
       "      <td>1411</td>\n",
       "      <td>72</td>\n",
       "    </tr>\n",
       "  </tbody>\n",
       "</table>\n",
       "</div>"
      ],
      "text/plain": [
       "   Season  DayNum  W_TeamID  W_Score  L_TeamID  L_Score\n",
       "0    2015     134      1214       74      1264       64\n",
       "1    2015     134      1279       94      1140       90\n",
       "2    2015     135      1173       56      1129       55\n",
       "3    2015     135      1352       81      1316       77\n",
       "4    2015     136      1112       93      1411       72"
      ]
     },
     "execution_count": 29,
     "metadata": {},
     "output_type": "execute_result"
    }
   ],
   "source": [
    "%%time\n",
    "tournament_data.head()"
   ]
  },
  {
   "cell_type": "code",
   "execution_count": 30,
   "id": "8d21983f",
   "metadata": {
    "execution": {
     "iopub.execute_input": "2022-03-11T22:45:34.439171Z",
     "iopub.status.busy": "2022-03-11T22:45:34.438581Z",
     "iopub.status.idle": "2022-03-11T22:45:34.441968Z",
     "shell.execute_reply": "2022-03-11T22:45:34.441579Z",
     "shell.execute_reply.started": "2022-03-11T22:31:36.347692Z"
    },
    "papermill": {
     "duration": 0.07679,
     "end_time": "2022-03-11T22:45:34.442073",
     "exception": false,
     "start_time": "2022-03-11T22:45:34.365283",
     "status": "completed"
    },
    "tags": []
   },
   "outputs": [
    {
     "name": "stdout",
     "output_type": "stream",
     "text": [
      "CPU times: user 3 µs, sys: 0 ns, total: 3 µs\n",
      "Wall time: 5.96 µs\n"
     ]
    }
   ],
   "source": [
    "%%time\n",
    "def merge_seed(df, seed_df, left_on = ['Season', 'W_TeamID'], field_name = 'SeedW'):\n",
    "    df = pd.merge(df,seed_df, how = 'left', left_on = left_on, right_on = ['Season', 'TeamID'])\n",
    "    df = df.drop('TeamID', axis = 1).rename(columns = {'Seed': field_name})\n",
    "    return df"
   ]
  },
  {
   "cell_type": "code",
   "execution_count": 31,
   "id": "3e554783",
   "metadata": {
    "execution": {
     "iopub.execute_input": "2022-03-11T22:45:34.578342Z",
     "iopub.status.busy": "2022-03-11T22:45:34.577693Z",
     "iopub.status.idle": "2022-03-11T22:45:34.589507Z",
     "shell.execute_reply": "2022-03-11T22:45:34.589954Z",
     "shell.execute_reply.started": "2022-03-11T22:31:36.357650Z"
    },
    "papermill": {
     "duration": 0.081405,
     "end_time": "2022-03-11T22:45:34.590082",
     "exception": false,
     "start_time": "2022-03-11T22:45:34.508677",
     "status": "completed"
    },
    "tags": []
   },
   "outputs": [
    {
     "name": "stdout",
     "output_type": "stream",
     "text": [
      "CPU times: user 6.88 ms, sys: 0 ns, total: 6.88 ms\n",
      "Wall time: 6.89 ms\n"
     ]
    }
   ],
   "source": [
    "%%time\n",
    "tournament_data = merge_seed(tournament_data, seeds, left_on = ['Season', 'W_TeamID'], field_name = 'W_Seed')\n",
    "tournament_data = merge_seed(tournament_data, seeds, left_on = ['Season', 'L_TeamID'], field_name = 'L_Seed')"
   ]
  },
  {
   "cell_type": "code",
   "execution_count": 32,
   "id": "0c50d4af",
   "metadata": {
    "execution": {
     "iopub.execute_input": "2022-03-11T22:45:34.725002Z",
     "iopub.status.busy": "2022-03-11T22:45:34.724338Z",
     "iopub.status.idle": "2022-03-11T22:45:34.733218Z",
     "shell.execute_reply": "2022-03-11T22:45:34.733625Z",
     "shell.execute_reply.started": "2022-03-11T22:31:36.381225Z"
    },
    "papermill": {
     "duration": 0.077668,
     "end_time": "2022-03-11T22:45:34.733775",
     "exception": false,
     "start_time": "2022-03-11T22:45:34.656107",
     "status": "completed"
    },
    "tags": []
   },
   "outputs": [
    {
     "name": "stdout",
     "output_type": "stream",
     "text": [
      "CPU times: user 1.7 ms, sys: 795 µs, total: 2.5 ms\n",
      "Wall time: 2.5 ms\n"
     ]
    }
   ],
   "source": [
    "%%time\n",
    "def seed_number(row):\n",
    "    return int(re.sub(\"[^0-9]\", \"\", row))\n",
    "\n",
    "tournament_data['W_Seed'] = tournament_data['W_Seed'].apply(seed_number)\n",
    "tournament_data['L_Seed'] = tournament_data['L_Seed'].apply(seed_number)"
   ]
  },
  {
   "cell_type": "code",
   "execution_count": 33,
   "id": "974a9b8e",
   "metadata": {
    "execution": {
     "iopub.execute_input": "2022-03-11T22:45:34.870846Z",
     "iopub.status.busy": "2022-03-11T22:45:34.870335Z",
     "iopub.status.idle": "2022-03-11T22:45:34.884609Z",
     "shell.execute_reply": "2022-03-11T22:45:34.885338Z",
     "shell.execute_reply.started": "2022-03-11T22:31:36.394068Z"
    },
    "papermill": {
     "duration": 0.08457,
     "end_time": "2022-03-11T22:45:34.885643",
     "exception": false,
     "start_time": "2022-03-11T22:45:34.801073",
     "status": "completed"
    },
    "tags": []
   },
   "outputs": [
    {
     "name": "stdout",
     "output_type": "stream",
     "text": [
      "CPU times: user 7.77 ms, sys: 0 ns, total: 7.77 ms\n",
      "Wall time: 7.78 ms\n"
     ]
    }
   ],
   "source": [
    "%%time\n",
    "def merge_agg_features(df, agg_features):\n",
    "    for result in ['W', 'L']:\n",
    "        df = pd.merge(df, agg_features, how = 'left', left_on = ['Season', result +'_'+ 'TeamID'], right_on = ['Season', 'TeamID'])\n",
    "        avoid = ['Season', 'TeamID']\n",
    "        new_names = {col: result +'_'+ col for col in agg_features.columns if col not in avoid}\n",
    "        df = df.rename(columns = new_names)        \n",
    "        df = df.drop(columns = 'TeamID', axis = 1)\n",
    "    return df\n",
    "\n",
    "tournament_data = merge_agg_features(tournament_data, team_agg_features)"
   ]
  },
  {
   "cell_type": "code",
   "execution_count": 34,
   "id": "e4a57a25",
   "metadata": {
    "execution": {
     "iopub.execute_input": "2022-03-11T22:45:35.026972Z",
     "iopub.status.busy": "2022-03-11T22:45:35.026397Z",
     "iopub.status.idle": "2022-03-11T22:45:35.038334Z",
     "shell.execute_reply": "2022-03-11T22:45:35.037848Z",
     "shell.execute_reply.started": "2022-03-11T22:31:36.425685Z"
    },
    "papermill": {
     "duration": 0.084749,
     "end_time": "2022-03-11T22:45:35.038472",
     "exception": false,
     "start_time": "2022-03-11T22:45:34.953723",
     "status": "completed"
    },
    "tags": []
   },
   "outputs": [
    {
     "name": "stdout",
     "output_type": "stream",
     "text": [
      "CPU times: user 93 µs, sys: 13 µs, total: 106 µs\n",
      "Wall time: 109 µs\n"
     ]
    },
    {
     "data": {
      "text/html": [
       "<div>\n",
       "<style scoped>\n",
       "    .dataframe tbody tr th:only-of-type {\n",
       "        vertical-align: middle;\n",
       "    }\n",
       "\n",
       "    .dataframe tbody tr th {\n",
       "        vertical-align: top;\n",
       "    }\n",
       "\n",
       "    .dataframe thead th {\n",
       "        text-align: right;\n",
       "    }\n",
       "</style>\n",
       "<table border=\"1\" class=\"dataframe\">\n",
       "  <thead>\n",
       "    <tr style=\"text-align: right;\">\n",
       "      <th></th>\n",
       "      <th>Season</th>\n",
       "      <th>DayNum</th>\n",
       "      <th>W_TeamID</th>\n",
       "      <th>W_Score</th>\n",
       "      <th>L_TeamID</th>\n",
       "      <th>L_Score</th>\n",
       "      <th>W_Seed</th>\n",
       "      <th>L_Seed</th>\n",
       "      <th>W_WinRatio</th>\n",
       "      <th>W_AvgScoreGap</th>\n",
       "      <th>W_PointsRatio</th>\n",
       "      <th>L_WinRatio</th>\n",
       "      <th>L_AvgScoreGap</th>\n",
       "      <th>L_PointsRatio</th>\n",
       "    </tr>\n",
       "  </thead>\n",
       "  <tbody>\n",
       "    <tr>\n",
       "      <th>0</th>\n",
       "      <td>2015</td>\n",
       "      <td>134</td>\n",
       "      <td>1214</td>\n",
       "      <td>74</td>\n",
       "      <td>1264</td>\n",
       "      <td>64</td>\n",
       "      <td>16</td>\n",
       "      <td>16</td>\n",
       "      <td>0.48</td>\n",
       "      <td>-0.85</td>\n",
       "      <td>0.53</td>\n",
       "      <td>0.59</td>\n",
       "      <td>2.38</td>\n",
       "      <td>0.63</td>\n",
       "    </tr>\n",
       "    <tr>\n",
       "      <th>1</th>\n",
       "      <td>2015</td>\n",
       "      <td>134</td>\n",
       "      <td>1279</td>\n",
       "      <td>94</td>\n",
       "      <td>1140</td>\n",
       "      <td>90</td>\n",
       "      <td>11</td>\n",
       "      <td>11</td>\n",
       "      <td>0.62</td>\n",
       "      <td>5.12</td>\n",
       "      <td>0.64</td>\n",
       "      <td>0.72</td>\n",
       "      <td>8.91</td>\n",
       "      <td>0.74</td>\n",
       "    </tr>\n",
       "    <tr>\n",
       "      <th>2</th>\n",
       "      <td>2015</td>\n",
       "      <td>135</td>\n",
       "      <td>1173</td>\n",
       "      <td>56</td>\n",
       "      <td>1129</td>\n",
       "      <td>55</td>\n",
       "      <td>11</td>\n",
       "      <td>11</td>\n",
       "      <td>0.76</td>\n",
       "      <td>7.30</td>\n",
       "      <td>0.78</td>\n",
       "      <td>0.74</td>\n",
       "      <td>8.94</td>\n",
       "      <td>0.79</td>\n",
       "    </tr>\n",
       "    <tr>\n",
       "      <th>3</th>\n",
       "      <td>2015</td>\n",
       "      <td>135</td>\n",
       "      <td>1352</td>\n",
       "      <td>81</td>\n",
       "      <td>1316</td>\n",
       "      <td>77</td>\n",
       "      <td>16</td>\n",
       "      <td>16</td>\n",
       "      <td>0.58</td>\n",
       "      <td>1.27</td>\n",
       "      <td>0.62</td>\n",
       "      <td>0.65</td>\n",
       "      <td>5.42</td>\n",
       "      <td>0.68</td>\n",
       "    </tr>\n",
       "    <tr>\n",
       "      <th>4</th>\n",
       "      <td>2015</td>\n",
       "      <td>136</td>\n",
       "      <td>1112</td>\n",
       "      <td>93</td>\n",
       "      <td>1411</td>\n",
       "      <td>72</td>\n",
       "      <td>2</td>\n",
       "      <td>15</td>\n",
       "      <td>0.91</td>\n",
       "      <td>17.82</td>\n",
       "      <td>0.92</td>\n",
       "      <td>0.65</td>\n",
       "      <td>0.74</td>\n",
       "      <td>0.70</td>\n",
       "    </tr>\n",
       "  </tbody>\n",
       "</table>\n",
       "</div>"
      ],
      "text/plain": [
       "   Season  DayNum  W_TeamID  W_Score  L_TeamID  L_Score  W_Seed  L_Seed  \\\n",
       "0    2015     134      1214       74      1264       64      16      16   \n",
       "1    2015     134      1279       94      1140       90      11      11   \n",
       "2    2015     135      1173       56      1129       55      11      11   \n",
       "3    2015     135      1352       81      1316       77      16      16   \n",
       "4    2015     136      1112       93      1411       72       2      15   \n",
       "\n",
       "   W_WinRatio  W_AvgScoreGap  W_PointsRatio  L_WinRatio  L_AvgScoreGap  \\\n",
       "0        0.48          -0.85           0.53        0.59           2.38   \n",
       "1        0.62           5.12           0.64        0.72           8.91   \n",
       "2        0.76           7.30           0.78        0.74           8.94   \n",
       "3        0.58           1.27           0.62        0.65           5.42   \n",
       "4        0.91          17.82           0.92        0.65           0.74   \n",
       "\n",
       "   L_PointsRatio  \n",
       "0           0.63  \n",
       "1           0.74  \n",
       "2           0.79  \n",
       "3           0.68  \n",
       "4           0.70  "
      ]
     },
     "execution_count": 34,
     "metadata": {},
     "output_type": "execute_result"
    }
   ],
   "source": [
    "%%time\n",
    "tournament_data.head()"
   ]
  },
  {
   "cell_type": "code",
   "execution_count": 35,
   "id": "bcff86a1",
   "metadata": {
    "execution": {
     "iopub.execute_input": "2022-03-11T22:45:35.186691Z",
     "iopub.status.busy": "2022-03-11T22:45:35.186152Z",
     "iopub.status.idle": "2022-03-11T22:45:35.188004Z",
     "shell.execute_reply": "2022-03-11T22:45:35.188472Z",
     "shell.execute_reply.started": "2022-03-11T22:31:36.445602Z"
    },
    "papermill": {
     "duration": 0.079147,
     "end_time": "2022-03-11T22:45:35.188610",
     "exception": false,
     "start_time": "2022-03-11T22:45:35.109463",
     "status": "completed"
    },
    "tags": []
   },
   "outputs": [],
   "source": [
    "def replace_win_loser(df):\n",
    "    team_a = df.copy()\n",
    "    team_b = df.copy()\n",
    "    \n",
    "    team_a_dict, team_b_dict = {}, {}\n",
    "    \n",
    "    for col in team_a.columns:\n",
    "        if col.find('W_') == 0:\n",
    "            new_col_name = str(col).replace('W_', 'A_')\n",
    "            team_a_dict[col] = new_col_name\n",
    "        if col.find('L_') == 0:\n",
    "            new_col_name = col.replace('L_', 'B_')    \n",
    "            team_a_dict[col] = new_col_name\n",
    "            \n",
    "    for col in team_b.columns:\n",
    "        if col.find('W_') == 0:\n",
    "            new_col_name = str(col).replace('W_', 'B_')\n",
    "            team_b_dict[col] = new_col_name\n",
    "        if col.find('L_') == 0:\n",
    "            new_col_name = col.replace('L_', 'A_')\n",
    "            team_b_dict[col] = new_col_name\n",
    "\n",
    "    team_a = team_a.rename(columns = team_a_dict)\n",
    "    team_b = team_b.rename(columns = team_b_dict)\n",
    "    \n",
    "    merged_df = pd.concat([team_a, team_b], axis = 0, sort = False)\n",
    "    return merged_df"
   ]
  },
  {
   "cell_type": "code",
   "execution_count": 36,
   "id": "712300c9",
   "metadata": {
    "execution": {
     "iopub.execute_input": "2022-03-11T22:45:35.329992Z",
     "iopub.status.busy": "2022-03-11T22:45:35.328403Z",
     "iopub.status.idle": "2022-03-11T22:45:35.335382Z",
     "shell.execute_reply": "2022-03-11T22:45:35.334781Z",
     "shell.execute_reply.started": "2022-03-11T22:31:36.461253Z"
    },
    "papermill": {
     "duration": 0.07882,
     "end_time": "2022-03-11T22:45:35.335541",
     "exception": false,
     "start_time": "2022-03-11T22:45:35.256721",
     "status": "completed"
    },
    "tags": []
   },
   "outputs": [
    {
     "name": "stdout",
     "output_type": "stream",
     "text": [
      "CPU times: user 2.04 ms, sys: 4 µs, total: 2.05 ms\n",
      "Wall time: 2.1 ms\n"
     ]
    }
   ],
   "source": [
    "%%time\n",
    "tournament_data = replace_win_loser(tournament_data)"
   ]
  },
  {
   "cell_type": "code",
   "execution_count": 37,
   "id": "76da773c",
   "metadata": {
    "execution": {
     "iopub.execute_input": "2022-03-11T22:45:35.552942Z",
     "iopub.status.busy": "2022-03-11T22:45:35.552158Z",
     "iopub.status.idle": "2022-03-11T22:45:35.561351Z",
     "shell.execute_reply": "2022-03-11T22:45:35.561744Z",
     "shell.execute_reply.started": "2022-03-11T22:31:36.473658Z"
    },
    "papermill": {
     "duration": 0.119385,
     "end_time": "2022-03-11T22:45:35.561892",
     "exception": false,
     "start_time": "2022-03-11T22:45:35.442507",
     "status": "completed"
    },
    "tags": []
   },
   "outputs": [
    {
     "name": "stdout",
     "output_type": "stream",
     "text": [
      "CPU times: user 2.23 ms, sys: 29 µs, total: 2.26 ms\n",
      "Wall time: 2.27 ms\n"
     ]
    }
   ],
   "source": [
    "%%time\n",
    "def calculate_differences(df):\n",
    "    \"\"\"\n",
    "    \n",
    "    \"\"\"\n",
    "    df['SeedDiff'] = df['A_Seed'] - df['B_Seed']\n",
    "    df['WinRatioDiff'] = df['A_WinRatio'] - df['B_WinRatio']\n",
    "    df['GapAvgDiff'] = df['A_AvgScoreGap'] - df['B_AvgScoreGap']    \n",
    "    df['PointsRatioDiff'] = df['A_PointsRatio'] - df['A_PointsRatio']\n",
    "    return df\n",
    "\n",
    "tournament_data = calculate_differences(tournament_data)"
   ]
  },
  {
   "cell_type": "markdown",
   "id": "f72b5964",
   "metadata": {
    "papermill": {
     "duration": 0.069101,
     "end_time": "2022-03-11T22:45:35.699788",
     "exception": false,
     "start_time": "2022-03-11T22:45:35.630687",
     "status": "completed"
    },
    "tags": []
   },
   "source": [
    "---"
   ]
  },
  {
   "cell_type": "markdown",
   "id": "31fb57e2",
   "metadata": {
    "papermill": {
     "duration": 0.068188,
     "end_time": "2022-03-11T22:45:35.836197",
     "exception": false,
     "start_time": "2022-03-11T22:45:35.768009",
     "status": "completed"
    },
    "tags": []
   },
   "source": [
    "# Creating the Target Variable"
   ]
  },
  {
   "cell_type": "code",
   "execution_count": 38,
   "id": "1b4df537",
   "metadata": {
    "execution": {
     "iopub.execute_input": "2022-03-11T22:45:35.977905Z",
     "iopub.status.busy": "2022-03-11T22:45:35.977168Z",
     "iopub.status.idle": "2022-03-11T22:45:35.981981Z",
     "shell.execute_reply": "2022-03-11T22:45:35.982450Z",
     "shell.execute_reply.started": "2022-03-11T22:31:36.487425Z"
    },
    "papermill": {
     "duration": 0.078142,
     "end_time": "2022-03-11T22:45:35.982579",
     "exception": false,
     "start_time": "2022-03-11T22:45:35.904437",
     "status": "completed"
    },
    "tags": []
   },
   "outputs": [
    {
     "name": "stdout",
     "output_type": "stream",
     "text": [
      "CPU times: user 3.34 ms, sys: 0 ns, total: 3.34 ms\n",
      "Wall time: 3.36 ms\n"
     ]
    }
   ],
   "source": [
    "%%time\n",
    "tournament_data['ScoreDiff'] = tournament_data['A_Score'] - tournament_data['B_Score']\n",
    "tournament_data['A_Win'] = (tournament_data['ScoreDiff'] > 0).astype(int)\n",
    "tournament_data = tournament_data.drop(columns=['A_Score', 'B_Score'])"
   ]
  },
  {
   "cell_type": "code",
   "execution_count": 39,
   "id": "ea77dee9",
   "metadata": {
    "execution": {
     "iopub.execute_input": "2022-03-11T22:45:36.122489Z",
     "iopub.status.busy": "2022-03-11T22:45:36.121967Z",
     "iopub.status.idle": "2022-03-11T22:45:36.142137Z",
     "shell.execute_reply": "2022-03-11T22:45:36.141631Z",
     "shell.execute_reply.started": "2022-03-11T22:31:36.509477Z"
    },
    "papermill": {
     "duration": 0.091469,
     "end_time": "2022-03-11T22:45:36.142249",
     "exception": false,
     "start_time": "2022-03-11T22:45:36.050780",
     "status": "completed"
    },
    "tags": []
   },
   "outputs": [
    {
     "name": "stdout",
     "output_type": "stream",
     "text": [
      "CPU times: user 110 µs, sys: 14 µs, total: 124 µs\n",
      "Wall time: 128 µs\n"
     ]
    },
    {
     "data": {
      "text/html": [
       "<div>\n",
       "<style scoped>\n",
       "    .dataframe tbody tr th:only-of-type {\n",
       "        vertical-align: middle;\n",
       "    }\n",
       "\n",
       "    .dataframe tbody tr th {\n",
       "        vertical-align: top;\n",
       "    }\n",
       "\n",
       "    .dataframe thead th {\n",
       "        text-align: right;\n",
       "    }\n",
       "</style>\n",
       "<table border=\"1\" class=\"dataframe\">\n",
       "  <thead>\n",
       "    <tr style=\"text-align: right;\">\n",
       "      <th></th>\n",
       "      <th>Season</th>\n",
       "      <th>DayNum</th>\n",
       "      <th>A_TeamID</th>\n",
       "      <th>B_TeamID</th>\n",
       "      <th>A_Seed</th>\n",
       "      <th>B_Seed</th>\n",
       "      <th>A_WinRatio</th>\n",
       "      <th>...</th>\n",
       "      <th>B_PointsRatio</th>\n",
       "      <th>SeedDiff</th>\n",
       "      <th>WinRatioDiff</th>\n",
       "      <th>GapAvgDiff</th>\n",
       "      <th>PointsRatioDiff</th>\n",
       "      <th>ScoreDiff</th>\n",
       "      <th>A_Win</th>\n",
       "    </tr>\n",
       "  </thead>\n",
       "  <tbody>\n",
       "    <tr>\n",
       "      <th>0</th>\n",
       "      <td>2015</td>\n",
       "      <td>134</td>\n",
       "      <td>1214</td>\n",
       "      <td>1264</td>\n",
       "      <td>16</td>\n",
       "      <td>16</td>\n",
       "      <td>0.48</td>\n",
       "      <td>...</td>\n",
       "      <td>0.63</td>\n",
       "      <td>0</td>\n",
       "      <td>-0.11</td>\n",
       "      <td>-3.22</td>\n",
       "      <td>0.00</td>\n",
       "      <td>10</td>\n",
       "      <td>1</td>\n",
       "    </tr>\n",
       "    <tr>\n",
       "      <th>1</th>\n",
       "      <td>2015</td>\n",
       "      <td>134</td>\n",
       "      <td>1279</td>\n",
       "      <td>1140</td>\n",
       "      <td>11</td>\n",
       "      <td>11</td>\n",
       "      <td>0.62</td>\n",
       "      <td>...</td>\n",
       "      <td>0.74</td>\n",
       "      <td>0</td>\n",
       "      <td>-0.09</td>\n",
       "      <td>-3.78</td>\n",
       "      <td>0.00</td>\n",
       "      <td>4</td>\n",
       "      <td>1</td>\n",
       "    </tr>\n",
       "    <tr>\n",
       "      <th>2</th>\n",
       "      <td>2015</td>\n",
       "      <td>135</td>\n",
       "      <td>1173</td>\n",
       "      <td>1129</td>\n",
       "      <td>11</td>\n",
       "      <td>11</td>\n",
       "      <td>0.76</td>\n",
       "      <td>...</td>\n",
       "      <td>0.79</td>\n",
       "      <td>0</td>\n",
       "      <td>0.02</td>\n",
       "      <td>-1.63</td>\n",
       "      <td>0.00</td>\n",
       "      <td>1</td>\n",
       "      <td>1</td>\n",
       "    </tr>\n",
       "    <tr>\n",
       "      <th>3</th>\n",
       "      <td>2015</td>\n",
       "      <td>135</td>\n",
       "      <td>1352</td>\n",
       "      <td>1316</td>\n",
       "      <td>16</td>\n",
       "      <td>16</td>\n",
       "      <td>0.58</td>\n",
       "      <td>...</td>\n",
       "      <td>0.68</td>\n",
       "      <td>0</td>\n",
       "      <td>-0.07</td>\n",
       "      <td>-4.15</td>\n",
       "      <td>0.00</td>\n",
       "      <td>4</td>\n",
       "      <td>1</td>\n",
       "    </tr>\n",
       "    <tr>\n",
       "      <th>4</th>\n",
       "      <td>2015</td>\n",
       "      <td>136</td>\n",
       "      <td>1112</td>\n",
       "      <td>1411</td>\n",
       "      <td>2</td>\n",
       "      <td>15</td>\n",
       "      <td>0.91</td>\n",
       "      <td>...</td>\n",
       "      <td>0.70</td>\n",
       "      <td>-13</td>\n",
       "      <td>0.26</td>\n",
       "      <td>17.09</td>\n",
       "      <td>0.00</td>\n",
       "      <td>21</td>\n",
       "      <td>1</td>\n",
       "    </tr>\n",
       "  </tbody>\n",
       "</table>\n",
       "<p>5 rows × 18 columns</p>\n",
       "</div>"
      ],
      "text/plain": [
       "   Season  DayNum  A_TeamID  B_TeamID  A_Seed  B_Seed  A_WinRatio  ...  \\\n",
       "0    2015     134      1214      1264      16      16        0.48  ...   \n",
       "1    2015     134      1279      1140      11      11        0.62  ...   \n",
       "2    2015     135      1173      1129      11      11        0.76  ...   \n",
       "3    2015     135      1352      1316      16      16        0.58  ...   \n",
       "4    2015     136      1112      1411       2      15        0.91  ...   \n",
       "\n",
       "   B_PointsRatio  SeedDiff  WinRatioDiff  GapAvgDiff  PointsRatioDiff  \\\n",
       "0           0.63         0         -0.11       -3.22             0.00   \n",
       "1           0.74         0         -0.09       -3.78             0.00   \n",
       "2           0.79         0          0.02       -1.63             0.00   \n",
       "3           0.68         0         -0.07       -4.15             0.00   \n",
       "4           0.70       -13          0.26       17.09             0.00   \n",
       "\n",
       "   ScoreDiff  A_Win  \n",
       "0         10      1  \n",
       "1          4      1  \n",
       "2          1      1  \n",
       "3          4      1  \n",
       "4         21      1  \n",
       "\n",
       "[5 rows x 18 columns]"
      ]
     },
     "execution_count": 39,
     "metadata": {},
     "output_type": "execute_result"
    }
   ],
   "source": [
    "%%time\n",
    "tournament_data.head()"
   ]
  },
  {
   "cell_type": "code",
   "execution_count": 40,
   "id": "3ddfdc6a",
   "metadata": {
    "execution": {
     "iopub.execute_input": "2022-03-11T22:45:36.297467Z",
     "iopub.status.busy": "2022-03-11T22:45:36.296948Z",
     "iopub.status.idle": "2022-03-11T22:45:36.300668Z",
     "shell.execute_reply": "2022-03-11T22:45:36.300195Z",
     "shell.execute_reply.started": "2022-03-11T22:31:36.537521Z"
    },
    "papermill": {
     "duration": 0.087059,
     "end_time": "2022-03-11T22:45:36.300773",
     "exception": false,
     "start_time": "2022-03-11T22:45:36.213714",
     "status": "completed"
    },
    "tags": []
   },
   "outputs": [
    {
     "name": "stdout",
     "output_type": "stream",
     "text": [
      "<class 'pandas.core.frame.DataFrame'>\n",
      "Int64Index: 802 entries, 0 to 400\n",
      "Data columns (total 18 columns):\n",
      " #   Column           Non-Null Count  Dtype  \n",
      "---  ------           --------------  -----  \n",
      " 0   Season           802 non-null    int64  \n",
      " 1   DayNum           802 non-null    int64  \n",
      " 2   A_TeamID         802 non-null    int64  \n",
      " 3   B_TeamID         802 non-null    int64  \n",
      " 4   A_Seed           802 non-null    int64  \n",
      " 5   B_Seed           802 non-null    int64  \n",
      " 6   A_WinRatio       802 non-null    float64\n",
      " 7   A_AvgScoreGap    802 non-null    float64\n",
      " 8   A_PointsRatio    802 non-null    float64\n",
      " 9   B_WinRatio       802 non-null    float64\n",
      " 10  B_AvgScoreGap    802 non-null    float64\n",
      " 11  B_PointsRatio    802 non-null    float64\n",
      " 12  SeedDiff         802 non-null    int64  \n",
      " 13  WinRatioDiff     802 non-null    float64\n",
      " 14  GapAvgDiff       802 non-null    float64\n",
      " 15  PointsRatioDiff  802 non-null    float64\n",
      " 16  ScoreDiff        802 non-null    int64  \n",
      " 17  A_Win            802 non-null    int64  \n",
      "dtypes: float64(9), int64(9)\n",
      "memory usage: 119.0 KB\n"
     ]
    }
   ],
   "source": [
    "tournament_data.info()"
   ]
  },
  {
   "cell_type": "markdown",
   "id": "61f2e1c6",
   "metadata": {
    "papermill": {
     "duration": 0.070531,
     "end_time": "2022-03-11T22:45:36.440987",
     "exception": false,
     "start_time": "2022-03-11T22:45:36.370456",
     "status": "completed"
    },
    "tags": []
   },
   "source": [
    "---"
   ]
  },
  {
   "cell_type": "markdown",
   "id": "11f4d40e",
   "metadata": {
    "papermill": {
     "duration": 0.070548,
     "end_time": "2022-03-11T22:45:36.582315",
     "exception": false,
     "start_time": "2022-03-11T22:45:36.511767",
     "status": "completed"
    },
    "tags": []
   },
   "source": [
    "# Creating the Test Dataset"
   ]
  },
  {
   "cell_type": "code",
   "execution_count": 41,
   "id": "7f1e94cb",
   "metadata": {
    "execution": {
     "iopub.execute_input": "2022-03-11T22:45:36.731993Z",
     "iopub.status.busy": "2022-03-11T22:45:36.729636Z",
     "iopub.status.idle": "2022-03-11T22:45:36.753216Z",
     "shell.execute_reply": "2022-03-11T22:45:36.753659Z",
     "shell.execute_reply.started": "2022-03-11T22:31:36.554602Z"
    },
    "papermill": {
     "duration": 0.09983,
     "end_time": "2022-03-11T22:45:36.753809",
     "exception": false,
     "start_time": "2022-03-11T22:45:36.653979",
     "status": "completed"
    },
    "tags": []
   },
   "outputs": [
    {
     "name": "stdout",
     "output_type": "stream",
     "text": [
      "CPU times: user 10.2 ms, sys: 12 µs, total: 10.2 ms\n",
      "Wall time: 17.1 ms\n"
     ]
    }
   ],
   "source": [
    "%%time\n",
    "sub_stage_one = pd.read_csv('/kaggle/input/mens-march-mania-2022/MDataFiles_Stage1/MSampleSubmissionStage1.csv')\n",
    "tst_data = sub_stage_one.copy()"
   ]
  },
  {
   "cell_type": "code",
   "execution_count": 42,
   "id": "2cf85825",
   "metadata": {
    "execution": {
     "iopub.execute_input": "2022-03-11T22:45:36.908182Z",
     "iopub.status.busy": "2022-03-11T22:45:36.907625Z",
     "iopub.status.idle": "2022-03-11T22:45:36.910163Z",
     "shell.execute_reply": "2022-03-11T22:45:36.910559Z",
     "shell.execute_reply.started": "2022-03-11T22:31:36.576848Z"
    },
    "papermill": {
     "duration": 0.083009,
     "end_time": "2022-03-11T22:45:36.910704",
     "exception": false,
     "start_time": "2022-03-11T22:45:36.827695",
     "status": "completed"
    },
    "tags": []
   },
   "outputs": [
    {
     "data": {
      "text/plain": [
       "(11390, 2)"
      ]
     },
     "execution_count": 42,
     "metadata": {},
     "output_type": "execute_result"
    }
   ],
   "source": [
    "tst_data.shape"
   ]
  },
  {
   "cell_type": "code",
   "execution_count": 43,
   "id": "4ea9c031",
   "metadata": {
    "execution": {
     "iopub.execute_input": "2022-03-11T22:45:37.055767Z",
     "iopub.status.busy": "2022-03-11T22:45:37.055215Z",
     "iopub.status.idle": "2022-03-11T22:45:37.087654Z",
     "shell.execute_reply": "2022-03-11T22:45:37.088133Z",
     "shell.execute_reply.started": "2022-03-11T22:31:36.585417Z"
    },
    "papermill": {
     "duration": 0.106073,
     "end_time": "2022-03-11T22:45:37.088295",
     "exception": false,
     "start_time": "2022-03-11T22:45:36.982222",
     "status": "completed"
    },
    "tags": []
   },
   "outputs": [
    {
     "name": "stdout",
     "output_type": "stream",
     "text": [
      "CPU times: user 24.7 ms, sys: 0 ns, total: 24.7 ms\n",
      "Wall time: 24.7 ms\n"
     ]
    }
   ],
   "source": [
    "%%time\n",
    "def separate_id(df):\n",
    "    \"\"\"\n",
    "    \n",
    "    \"\"\"\n",
    "    df['Season']  = df['ID'].apply(lambda x: int(x.split('_')[0]))\n",
    "    df['TeamIdA'] = df['ID'].apply(lambda x: int(x.split('_')[1]))\n",
    "    df['TeamIdB'] = df['ID'].apply(lambda x: int(x.split('_')[2]))\n",
    "    return df\n",
    "\n",
    "tst_data = separate_id(tst_data)"
   ]
  },
  {
   "cell_type": "code",
   "execution_count": 44,
   "id": "f8ce0efa",
   "metadata": {
    "execution": {
     "iopub.execute_input": "2022-03-11T22:45:37.234976Z",
     "iopub.status.busy": "2022-03-11T22:45:37.234280Z",
     "iopub.status.idle": "2022-03-11T22:45:37.258610Z",
     "shell.execute_reply": "2022-03-11T22:45:37.259010Z",
     "shell.execute_reply.started": "2022-03-11T22:31:36.636241Z"
    },
    "papermill": {
     "duration": 0.098212,
     "end_time": "2022-03-11T22:45:37.259171",
     "exception": false,
     "start_time": "2022-03-11T22:45:37.160959",
     "status": "completed"
    },
    "tags": []
   },
   "outputs": [
    {
     "name": "stdout",
     "output_type": "stream",
     "text": [
      "CPU times: user 16.6 ms, sys: 0 ns, total: 16.6 ms\n",
      "Wall time: 18.5 ms\n"
     ]
    }
   ],
   "source": [
    "%%time\n",
    "tst_data = merge_seed(tst_data, seeds, left_on = ['Season', 'TeamIdA'], field_name = 'A_Seed')\n",
    "tst_data = merge_seed(tst_data, seeds, left_on = ['Season', 'TeamIdB'], field_name = 'B_Seed')"
   ]
  },
  {
   "cell_type": "code",
   "execution_count": 45,
   "id": "85c1b780",
   "metadata": {
    "execution": {
     "iopub.execute_input": "2022-03-11T22:45:37.413355Z",
     "iopub.status.busy": "2022-03-11T22:45:37.412835Z",
     "iopub.status.idle": "2022-03-11T22:45:37.449514Z",
     "shell.execute_reply": "2022-03-11T22:45:37.449914Z",
     "shell.execute_reply.started": "2022-03-11T22:31:36.663336Z"
    },
    "papermill": {
     "duration": 0.120016,
     "end_time": "2022-03-11T22:45:37.450071",
     "exception": false,
     "start_time": "2022-03-11T22:45:37.330055",
     "status": "completed"
    },
    "tags": []
   },
   "outputs": [
    {
     "name": "stdout",
     "output_type": "stream",
     "text": [
      "CPU times: user 39.4 ms, sys: 14 µs, total: 39.4 ms\n",
      "Wall time: 39.4 ms\n"
     ]
    }
   ],
   "source": [
    "%%time\n",
    "tst_data['A_Seed'] = tst_data['A_Seed'].apply(seed_number)\n",
    "tst_data['B_Seed'] = tst_data['B_Seed'].apply(seed_number)"
   ]
  },
  {
   "cell_type": "code",
   "execution_count": 46,
   "id": "44fb86eb",
   "metadata": {
    "execution": {
     "iopub.execute_input": "2022-03-11T22:45:37.599125Z",
     "iopub.status.busy": "2022-03-11T22:45:37.598601Z",
     "iopub.status.idle": "2022-03-11T22:45:37.604778Z",
     "shell.execute_reply": "2022-03-11T22:45:37.604283Z",
     "shell.execute_reply.started": "2022-03-11T22:31:36.740888Z"
    },
    "papermill": {
     "duration": 0.080766,
     "end_time": "2022-03-11T22:45:37.604892",
     "exception": false,
     "start_time": "2022-03-11T22:45:37.524126",
     "status": "completed"
    },
    "tags": []
   },
   "outputs": [
    {
     "name": "stdout",
     "output_type": "stream",
     "text": [
      "CPU times: user 1.01 ms, sys: 1e+03 ns, total: 1.02 ms\n",
      "Wall time: 1.02 ms\n"
     ]
    }
   ],
   "source": [
    "%%time\n",
    "tst_data = tst_data.rename(columns = {'TeamIdA': 'A_TeamID', 'TeamIdB': 'B_TeamID'})"
   ]
  },
  {
   "cell_type": "code",
   "execution_count": 47,
   "id": "7d307265",
   "metadata": {
    "execution": {
     "iopub.execute_input": "2022-03-11T22:45:37.762940Z",
     "iopub.status.busy": "2022-03-11T22:45:37.762433Z",
     "iopub.status.idle": "2022-03-11T22:45:37.764471Z",
     "shell.execute_reply": "2022-03-11T22:45:37.764907Z",
     "shell.execute_reply.started": "2022-03-11T22:31:36.749789Z"
    },
    "papermill": {
     "duration": 0.086268,
     "end_time": "2022-03-11T22:45:37.765033",
     "exception": false,
     "start_time": "2022-03-11T22:45:37.678765",
     "status": "completed"
    },
    "tags": []
   },
   "outputs": [
    {
     "data": {
      "text/html": [
       "<div>\n",
       "<style scoped>\n",
       "    .dataframe tbody tr th:only-of-type {\n",
       "        vertical-align: middle;\n",
       "    }\n",
       "\n",
       "    .dataframe tbody tr th {\n",
       "        vertical-align: top;\n",
       "    }\n",
       "\n",
       "    .dataframe thead th {\n",
       "        text-align: right;\n",
       "    }\n",
       "</style>\n",
       "<table border=\"1\" class=\"dataframe\">\n",
       "  <thead>\n",
       "    <tr style=\"text-align: right;\">\n",
       "      <th></th>\n",
       "      <th>ID</th>\n",
       "      <th>Pred</th>\n",
       "      <th>Season</th>\n",
       "      <th>A_TeamID</th>\n",
       "      <th>B_TeamID</th>\n",
       "      <th>A_Seed</th>\n",
       "      <th>B_Seed</th>\n",
       "    </tr>\n",
       "  </thead>\n",
       "  <tbody>\n",
       "    <tr>\n",
       "      <th>0</th>\n",
       "      <td>2016_1112_1114</td>\n",
       "      <td>0.50</td>\n",
       "      <td>2016</td>\n",
       "      <td>1112</td>\n",
       "      <td>1114</td>\n",
       "      <td>6</td>\n",
       "      <td>12</td>\n",
       "    </tr>\n",
       "    <tr>\n",
       "      <th>1</th>\n",
       "      <td>2016_1112_1122</td>\n",
       "      <td>0.50</td>\n",
       "      <td>2016</td>\n",
       "      <td>1112</td>\n",
       "      <td>1122</td>\n",
       "      <td>6</td>\n",
       "      <td>16</td>\n",
       "    </tr>\n",
       "    <tr>\n",
       "      <th>2</th>\n",
       "      <td>2016_1112_1124</td>\n",
       "      <td>0.50</td>\n",
       "      <td>2016</td>\n",
       "      <td>1112</td>\n",
       "      <td>1124</td>\n",
       "      <td>6</td>\n",
       "      <td>5</td>\n",
       "    </tr>\n",
       "    <tr>\n",
       "      <th>3</th>\n",
       "      <td>2016_1112_1138</td>\n",
       "      <td>0.50</td>\n",
       "      <td>2016</td>\n",
       "      <td>1112</td>\n",
       "      <td>1138</td>\n",
       "      <td>6</td>\n",
       "      <td>14</td>\n",
       "    </tr>\n",
       "    <tr>\n",
       "      <th>4</th>\n",
       "      <td>2016_1112_1139</td>\n",
       "      <td>0.50</td>\n",
       "      <td>2016</td>\n",
       "      <td>1112</td>\n",
       "      <td>1139</td>\n",
       "      <td>6</td>\n",
       "      <td>9</td>\n",
       "    </tr>\n",
       "    <tr>\n",
       "      <th>...</th>\n",
       "      <td>...</td>\n",
       "      <td>...</td>\n",
       "      <td>...</td>\n",
       "      <td>...</td>\n",
       "      <td>...</td>\n",
       "      <td>...</td>\n",
       "      <td>...</td>\n",
       "    </tr>\n",
       "    <tr>\n",
       "      <th>11385</th>\n",
       "      <td>2021_1452_1457</td>\n",
       "      <td>0.50</td>\n",
       "      <td>2021</td>\n",
       "      <td>1452</td>\n",
       "      <td>1457</td>\n",
       "      <td>3</td>\n",
       "      <td>12</td>\n",
       "    </tr>\n",
       "    <tr>\n",
       "      <th>11386</th>\n",
       "      <td>2021_1452_1458</td>\n",
       "      <td>0.50</td>\n",
       "      <td>2021</td>\n",
       "      <td>1452</td>\n",
       "      <td>1458</td>\n",
       "      <td>3</td>\n",
       "      <td>9</td>\n",
       "    </tr>\n",
       "    <tr>\n",
       "      <th>11387</th>\n",
       "      <td>2021_1455_1457</td>\n",
       "      <td>0.50</td>\n",
       "      <td>2021</td>\n",
       "      <td>1455</td>\n",
       "      <td>1457</td>\n",
       "      <td>11</td>\n",
       "      <td>12</td>\n",
       "    </tr>\n",
       "    <tr>\n",
       "      <th>11388</th>\n",
       "      <td>2021_1455_1458</td>\n",
       "      <td>0.50</td>\n",
       "      <td>2021</td>\n",
       "      <td>1455</td>\n",
       "      <td>1458</td>\n",
       "      <td>11</td>\n",
       "      <td>9</td>\n",
       "    </tr>\n",
       "    <tr>\n",
       "      <th>11389</th>\n",
       "      <td>2021_1457_1458</td>\n",
       "      <td>0.50</td>\n",
       "      <td>2021</td>\n",
       "      <td>1457</td>\n",
       "      <td>1458</td>\n",
       "      <td>12</td>\n",
       "      <td>9</td>\n",
       "    </tr>\n",
       "  </tbody>\n",
       "</table>\n",
       "<p>11390 rows × 7 columns</p>\n",
       "</div>"
      ],
      "text/plain": [
       "                   ID  Pred  Season  A_TeamID  B_TeamID  A_Seed  B_Seed\n",
       "0      2016_1112_1114  0.50    2016      1112      1114       6      12\n",
       "1      2016_1112_1122  0.50    2016      1112      1122       6      16\n",
       "2      2016_1112_1124  0.50    2016      1112      1124       6       5\n",
       "3      2016_1112_1138  0.50    2016      1112      1138       6      14\n",
       "4      2016_1112_1139  0.50    2016      1112      1139       6       9\n",
       "...               ...   ...     ...       ...       ...     ...     ...\n",
       "11385  2021_1452_1457  0.50    2021      1452      1457       3      12\n",
       "11386  2021_1452_1458  0.50    2021      1452      1458       3       9\n",
       "11387  2021_1455_1457  0.50    2021      1455      1457      11      12\n",
       "11388  2021_1455_1458  0.50    2021      1455      1458      11       9\n",
       "11389  2021_1457_1458  0.50    2021      1457      1458      12       9\n",
       "\n",
       "[11390 rows x 7 columns]"
      ]
     },
     "execution_count": 47,
     "metadata": {},
     "output_type": "execute_result"
    }
   ],
   "source": [
    "tst_data"
   ]
  },
  {
   "cell_type": "code",
   "execution_count": 48,
   "id": "f67dc494",
   "metadata": {
    "execution": {
     "iopub.execute_input": "2022-03-11T22:45:37.911073Z",
     "iopub.status.busy": "2022-03-11T22:45:37.910626Z",
     "iopub.status.idle": "2022-03-11T22:45:37.920949Z",
     "shell.execute_reply": "2022-03-11T22:45:37.921501Z",
     "shell.execute_reply.started": "2022-03-11T22:31:36.770350Z"
    },
    "papermill": {
     "duration": 0.084431,
     "end_time": "2022-03-11T22:45:37.921650",
     "exception": false,
     "start_time": "2022-03-11T22:45:37.837219",
     "status": "completed"
    },
    "tags": []
   },
   "outputs": [
    {
     "data": {
      "text/html": [
       "<div>\n",
       "<style scoped>\n",
       "    .dataframe tbody tr th:only-of-type {\n",
       "        vertical-align: middle;\n",
       "    }\n",
       "\n",
       "    .dataframe tbody tr th {\n",
       "        vertical-align: top;\n",
       "    }\n",
       "\n",
       "    .dataframe thead th {\n",
       "        text-align: right;\n",
       "    }\n",
       "</style>\n",
       "<table border=\"1\" class=\"dataframe\">\n",
       "  <thead>\n",
       "    <tr style=\"text-align: right;\">\n",
       "      <th></th>\n",
       "      <th>Season</th>\n",
       "      <th>TeamID</th>\n",
       "      <th>WinRatio</th>\n",
       "      <th>AvgScoreGap</th>\n",
       "      <th>PointsRatio</th>\n",
       "    </tr>\n",
       "  </thead>\n",
       "  <tbody>\n",
       "    <tr>\n",
       "      <th>0</th>\n",
       "      <td>1985</td>\n",
       "      <td>1102</td>\n",
       "      <td>0.21</td>\n",
       "      <td>-5.79</td>\n",
       "      <td>0.23</td>\n",
       "    </tr>\n",
       "    <tr>\n",
       "      <th>1</th>\n",
       "      <td>1985</td>\n",
       "      <td>1103</td>\n",
       "      <td>0.39</td>\n",
       "      <td>-3.04</td>\n",
       "      <td>0.45</td>\n",
       "    </tr>\n",
       "    <tr>\n",
       "      <th>2</th>\n",
       "      <td>1985</td>\n",
       "      <td>1104</td>\n",
       "      <td>0.70</td>\n",
       "      <td>7.80</td>\n",
       "      <td>0.74</td>\n",
       "    </tr>\n",
       "    <tr>\n",
       "      <th>3</th>\n",
       "      <td>1985</td>\n",
       "      <td>1106</td>\n",
       "      <td>0.42</td>\n",
       "      <td>-3.79</td>\n",
       "      <td>0.44</td>\n",
       "    </tr>\n",
       "    <tr>\n",
       "      <th>4</th>\n",
       "      <td>1985</td>\n",
       "      <td>1108</td>\n",
       "      <td>0.76</td>\n",
       "      <td>7.96</td>\n",
       "      <td>0.79</td>\n",
       "    </tr>\n",
       "    <tr>\n",
       "      <th>...</th>\n",
       "      <td>...</td>\n",
       "      <td>...</td>\n",
       "      <td>...</td>\n",
       "      <td>...</td>\n",
       "      <td>...</td>\n",
       "    </tr>\n",
       "    <tr>\n",
       "      <th>12294</th>\n",
       "      <td>2022</td>\n",
       "      <td>1468</td>\n",
       "      <td>0.45</td>\n",
       "      <td>-4.30</td>\n",
       "      <td>0.50</td>\n",
       "    </tr>\n",
       "    <tr>\n",
       "      <th>12295</th>\n",
       "      <td>2022</td>\n",
       "      <td>1469</td>\n",
       "      <td>0.37</td>\n",
       "      <td>-8.00</td>\n",
       "      <td>0.42</td>\n",
       "    </tr>\n",
       "    <tr>\n",
       "      <th>12296</th>\n",
       "      <td>2022</td>\n",
       "      <td>1470</td>\n",
       "      <td>0.38</td>\n",
       "      <td>-3.05</td>\n",
       "      <td>0.42</td>\n",
       "    </tr>\n",
       "    <tr>\n",
       "      <th>12297</th>\n",
       "      <td>2022</td>\n",
       "      <td>1471</td>\n",
       "      <td>0.40</td>\n",
       "      <td>-4.00</td>\n",
       "      <td>0.47</td>\n",
       "    </tr>\n",
       "    <tr>\n",
       "      <th>12298</th>\n",
       "      <td>2022</td>\n",
       "      <td>1472</td>\n",
       "      <td>0.26</td>\n",
       "      <td>-5.37</td>\n",
       "      <td>0.31</td>\n",
       "    </tr>\n",
       "  </tbody>\n",
       "</table>\n",
       "<p>12299 rows × 5 columns</p>\n",
       "</div>"
      ],
      "text/plain": [
       "       Season  TeamID  WinRatio  AvgScoreGap  PointsRatio\n",
       "0        1985    1102      0.21        -5.79         0.23\n",
       "1        1985    1103      0.39        -3.04         0.45\n",
       "2        1985    1104      0.70         7.80         0.74\n",
       "3        1985    1106      0.42        -3.79         0.44\n",
       "4        1985    1108      0.76         7.96         0.79\n",
       "...       ...     ...       ...          ...          ...\n",
       "12294    2022    1468      0.45        -4.30         0.50\n",
       "12295    2022    1469      0.37        -8.00         0.42\n",
       "12296    2022    1470      0.38        -3.05         0.42\n",
       "12297    2022    1471      0.40        -4.00         0.47\n",
       "12298    2022    1472      0.26        -5.37         0.31\n",
       "\n",
       "[12299 rows x 5 columns]"
      ]
     },
     "execution_count": 48,
     "metadata": {},
     "output_type": "execute_result"
    }
   ],
   "source": [
    "team_agg_features"
   ]
  },
  {
   "cell_type": "code",
   "execution_count": 49,
   "id": "fe3da860",
   "metadata": {
    "execution": {
     "iopub.execute_input": "2022-03-11T22:45:38.070768Z",
     "iopub.status.busy": "2022-03-11T22:45:38.070203Z",
     "iopub.status.idle": "2022-03-11T22:45:38.093319Z",
     "shell.execute_reply": "2022-03-11T22:45:38.092856Z",
     "shell.execute_reply.started": "2022-03-11T22:31:36.785965Z"
    },
    "papermill": {
     "duration": 0.098634,
     "end_time": "2022-03-11T22:45:38.093454",
     "exception": false,
     "start_time": "2022-03-11T22:45:37.994820",
     "status": "completed"
    },
    "tags": []
   },
   "outputs": [
    {
     "name": "stdout",
     "output_type": "stream",
     "text": [
      "CPU times: user 14.3 ms, sys: 25 µs, total: 14.3 ms\n",
      "Wall time: 14.3 ms\n"
     ]
    }
   ],
   "source": [
    "%%time\n",
    "def merge_agg_features(df, agg_features):\n",
    "    for result in ['A', 'B']:\n",
    "        df = pd.merge(df, agg_features, how = 'left', left_on = ['Season', result +'_'+ 'TeamID'], right_on = ['Season', 'TeamID'])\n",
    "        avoid = ['Season', 'TeamID']\n",
    "        new_names = {col: result +'_'+ col for col in agg_features.columns if col not in avoid}\n",
    "        df = df.rename(columns = new_names)        \n",
    "        df = df.drop(columns = 'TeamID', axis = 1)\n",
    "    return df\n",
    "\n",
    "tst_data = merge_agg_features(tst_data, team_agg_features)"
   ]
  },
  {
   "cell_type": "code",
   "execution_count": 50,
   "id": "a565308a",
   "metadata": {
    "execution": {
     "iopub.execute_input": "2022-03-11T22:45:38.266009Z",
     "iopub.status.busy": "2022-03-11T22:45:38.265528Z",
     "iopub.status.idle": "2022-03-11T22:45:38.274330Z",
     "shell.execute_reply": "2022-03-11T22:45:38.275101Z",
     "shell.execute_reply.started": "2022-03-11T22:31:36.814952Z"
    },
    "papermill": {
     "duration": 0.10203,
     "end_time": "2022-03-11T22:45:38.275374",
     "exception": false,
     "start_time": "2022-03-11T22:45:38.173344",
     "status": "completed"
    },
    "tags": []
   },
   "outputs": [
    {
     "name": "stdout",
     "output_type": "stream",
     "text": [
      "CPU times: user 2.91 ms, sys: 0 ns, total: 2.91 ms\n",
      "Wall time: 2.93 ms\n"
     ]
    }
   ],
   "source": [
    "%%time\n",
    "tst_data = calculate_differences(tst_data)"
   ]
  },
  {
   "cell_type": "code",
   "execution_count": 51,
   "id": "73ac18e5",
   "metadata": {
    "execution": {
     "iopub.execute_input": "2022-03-11T22:45:38.434838Z",
     "iopub.status.busy": "2022-03-11T22:45:38.434298Z",
     "iopub.status.idle": "2022-03-11T22:45:38.459650Z",
     "shell.execute_reply": "2022-03-11T22:45:38.460085Z",
     "shell.execute_reply.started": "2022-03-11T22:31:36.831893Z"
    },
    "papermill": {
     "duration": 0.108884,
     "end_time": "2022-03-11T22:45:38.460256",
     "exception": false,
     "start_time": "2022-03-11T22:45:38.351372",
     "status": "completed"
    },
    "tags": []
   },
   "outputs": [
    {
     "name": "stdout",
     "output_type": "stream",
     "text": [
      "CPU times: user 2 µs, sys: 0 ns, total: 2 µs\n",
      "Wall time: 5.01 µs\n"
     ]
    },
    {
     "data": {
      "text/html": [
       "<div>\n",
       "<style scoped>\n",
       "    .dataframe tbody tr th:only-of-type {\n",
       "        vertical-align: middle;\n",
       "    }\n",
       "\n",
       "    .dataframe tbody tr th {\n",
       "        vertical-align: top;\n",
       "    }\n",
       "\n",
       "    .dataframe thead th {\n",
       "        text-align: right;\n",
       "    }\n",
       "</style>\n",
       "<table border=\"1\" class=\"dataframe\">\n",
       "  <thead>\n",
       "    <tr style=\"text-align: right;\">\n",
       "      <th></th>\n",
       "      <th>ID</th>\n",
       "      <th>Pred</th>\n",
       "      <th>Season</th>\n",
       "      <th>A_TeamID</th>\n",
       "      <th>B_TeamID</th>\n",
       "      <th>A_Seed</th>\n",
       "      <th>B_Seed</th>\n",
       "      <th>...</th>\n",
       "      <th>B_WinRatio</th>\n",
       "      <th>B_AvgScoreGap</th>\n",
       "      <th>B_PointsRatio</th>\n",
       "      <th>SeedDiff</th>\n",
       "      <th>WinRatioDiff</th>\n",
       "      <th>GapAvgDiff</th>\n",
       "      <th>PointsRatioDiff</th>\n",
       "    </tr>\n",
       "  </thead>\n",
       "  <tbody>\n",
       "    <tr>\n",
       "      <th>0</th>\n",
       "      <td>2016_1112_1114</td>\n",
       "      <td>0.50</td>\n",
       "      <td>2016</td>\n",
       "      <td>1112</td>\n",
       "      <td>1114</td>\n",
       "      <td>6</td>\n",
       "      <td>12</td>\n",
       "      <td>...</td>\n",
       "      <td>0.87</td>\n",
       "      <td>9.94</td>\n",
       "      <td>0.88</td>\n",
       "      <td>-6</td>\n",
       "      <td>-0.11</td>\n",
       "      <td>2.28</td>\n",
       "      <td>0.00</td>\n",
       "    </tr>\n",
       "    <tr>\n",
       "      <th>1</th>\n",
       "      <td>2016_1112_1122</td>\n",
       "      <td>0.50</td>\n",
       "      <td>2016</td>\n",
       "      <td>1112</td>\n",
       "      <td>1122</td>\n",
       "      <td>6</td>\n",
       "      <td>16</td>\n",
       "      <td>...</td>\n",
       "      <td>0.48</td>\n",
       "      <td>-2.36</td>\n",
       "      <td>0.54</td>\n",
       "      <td>-10</td>\n",
       "      <td>0.27</td>\n",
       "      <td>14.58</td>\n",
       "      <td>0.00</td>\n",
       "    </tr>\n",
       "    <tr>\n",
       "      <th>2</th>\n",
       "      <td>2016_1112_1124</td>\n",
       "      <td>0.50</td>\n",
       "      <td>2016</td>\n",
       "      <td>1112</td>\n",
       "      <td>1124</td>\n",
       "      <td>6</td>\n",
       "      <td>5</td>\n",
       "      <td>...</td>\n",
       "      <td>0.66</td>\n",
       "      <td>6.69</td>\n",
       "      <td>0.70</td>\n",
       "      <td>1</td>\n",
       "      <td>0.10</td>\n",
       "      <td>5.52</td>\n",
       "      <td>0.00</td>\n",
       "    </tr>\n",
       "    <tr>\n",
       "      <th>3</th>\n",
       "      <td>2016_1112_1138</td>\n",
       "      <td>0.50</td>\n",
       "      <td>2016</td>\n",
       "      <td>1112</td>\n",
       "      <td>1138</td>\n",
       "      <td>6</td>\n",
       "      <td>14</td>\n",
       "      <td>...</td>\n",
       "      <td>0.58</td>\n",
       "      <td>0.67</td>\n",
       "      <td>0.62</td>\n",
       "      <td>-8</td>\n",
       "      <td>0.18</td>\n",
       "      <td>11.55</td>\n",
       "      <td>0.00</td>\n",
       "    </tr>\n",
       "    <tr>\n",
       "      <th>4</th>\n",
       "      <td>2016_1112_1139</td>\n",
       "      <td>0.50</td>\n",
       "      <td>2016</td>\n",
       "      <td>1112</td>\n",
       "      <td>1139</td>\n",
       "      <td>6</td>\n",
       "      <td>9</td>\n",
       "      <td>...</td>\n",
       "      <td>0.68</td>\n",
       "      <td>9.42</td>\n",
       "      <td>0.74</td>\n",
       "      <td>-3</td>\n",
       "      <td>0.08</td>\n",
       "      <td>2.79</td>\n",
       "      <td>0.00</td>\n",
       "    </tr>\n",
       "    <tr>\n",
       "      <th>...</th>\n",
       "      <td>...</td>\n",
       "      <td>...</td>\n",
       "      <td>...</td>\n",
       "      <td>...</td>\n",
       "      <td>...</td>\n",
       "      <td>...</td>\n",
       "      <td>...</td>\n",
       "      <td>...</td>\n",
       "      <td>...</td>\n",
       "      <td>...</td>\n",
       "      <td>...</td>\n",
       "      <td>...</td>\n",
       "      <td>...</td>\n",
       "      <td>...</td>\n",
       "      <td>...</td>\n",
       "    </tr>\n",
       "    <tr>\n",
       "      <th>11385</th>\n",
       "      <td>2021_1452_1457</td>\n",
       "      <td>0.50</td>\n",
       "      <td>2021</td>\n",
       "      <td>1452</td>\n",
       "      <td>1457</td>\n",
       "      <td>3</td>\n",
       "      <td>12</td>\n",
       "      <td>...</td>\n",
       "      <td>0.96</td>\n",
       "      <td>12.75</td>\n",
       "      <td>0.97</td>\n",
       "      <td>-9</td>\n",
       "      <td>-0.29</td>\n",
       "      <td>-7.56</td>\n",
       "      <td>0.00</td>\n",
       "    </tr>\n",
       "    <tr>\n",
       "      <th>11386</th>\n",
       "      <td>2021_1452_1458</td>\n",
       "      <td>0.50</td>\n",
       "      <td>2021</td>\n",
       "      <td>1452</td>\n",
       "      <td>1458</td>\n",
       "      <td>3</td>\n",
       "      <td>9</td>\n",
       "      <td>...</td>\n",
       "      <td>0.59</td>\n",
       "      <td>5.31</td>\n",
       "      <td>0.62</td>\n",
       "      <td>-6</td>\n",
       "      <td>0.08</td>\n",
       "      <td>-0.13</td>\n",
       "      <td>0.00</td>\n",
       "    </tr>\n",
       "    <tr>\n",
       "      <th>11387</th>\n",
       "      <td>2021_1455_1457</td>\n",
       "      <td>0.50</td>\n",
       "      <td>2021</td>\n",
       "      <td>1455</td>\n",
       "      <td>1457</td>\n",
       "      <td>11</td>\n",
       "      <td>12</td>\n",
       "      <td>...</td>\n",
       "      <td>0.96</td>\n",
       "      <td>12.75</td>\n",
       "      <td>0.97</td>\n",
       "      <td>-1</td>\n",
       "      <td>-0.22</td>\n",
       "      <td>-10.12</td>\n",
       "      <td>0.00</td>\n",
       "    </tr>\n",
       "    <tr>\n",
       "      <th>11388</th>\n",
       "      <td>2021_1455_1458</td>\n",
       "      <td>0.50</td>\n",
       "      <td>2021</td>\n",
       "      <td>1455</td>\n",
       "      <td>1458</td>\n",
       "      <td>11</td>\n",
       "      <td>9</td>\n",
       "      <td>...</td>\n",
       "      <td>0.59</td>\n",
       "      <td>5.31</td>\n",
       "      <td>0.62</td>\n",
       "      <td>2</td>\n",
       "      <td>0.15</td>\n",
       "      <td>-2.68</td>\n",
       "      <td>0.00</td>\n",
       "    </tr>\n",
       "    <tr>\n",
       "      <th>11389</th>\n",
       "      <td>2021_1457_1458</td>\n",
       "      <td>0.50</td>\n",
       "      <td>2021</td>\n",
       "      <td>1457</td>\n",
       "      <td>1458</td>\n",
       "      <td>12</td>\n",
       "      <td>9</td>\n",
       "      <td>...</td>\n",
       "      <td>0.59</td>\n",
       "      <td>5.31</td>\n",
       "      <td>0.62</td>\n",
       "      <td>3</td>\n",
       "      <td>0.37</td>\n",
       "      <td>7.44</td>\n",
       "      <td>0.00</td>\n",
       "    </tr>\n",
       "  </tbody>\n",
       "</table>\n",
       "<p>11390 rows × 17 columns</p>\n",
       "</div>"
      ],
      "text/plain": [
       "                   ID  Pred  Season  A_TeamID  B_TeamID  A_Seed  B_Seed  ...  \\\n",
       "0      2016_1112_1114  0.50    2016      1112      1114       6      12  ...   \n",
       "1      2016_1112_1122  0.50    2016      1112      1122       6      16  ...   \n",
       "2      2016_1112_1124  0.50    2016      1112      1124       6       5  ...   \n",
       "3      2016_1112_1138  0.50    2016      1112      1138       6      14  ...   \n",
       "4      2016_1112_1139  0.50    2016      1112      1139       6       9  ...   \n",
       "...               ...   ...     ...       ...       ...     ...     ...  ...   \n",
       "11385  2021_1452_1457  0.50    2021      1452      1457       3      12  ...   \n",
       "11386  2021_1452_1458  0.50    2021      1452      1458       3       9  ...   \n",
       "11387  2021_1455_1457  0.50    2021      1455      1457      11      12  ...   \n",
       "11388  2021_1455_1458  0.50    2021      1455      1458      11       9  ...   \n",
       "11389  2021_1457_1458  0.50    2021      1457      1458      12       9  ...   \n",
       "\n",
       "       B_WinRatio  B_AvgScoreGap  B_PointsRatio  SeedDiff  WinRatioDiff  \\\n",
       "0            0.87           9.94           0.88        -6         -0.11   \n",
       "1            0.48          -2.36           0.54       -10          0.27   \n",
       "2            0.66           6.69           0.70         1          0.10   \n",
       "3            0.58           0.67           0.62        -8          0.18   \n",
       "4            0.68           9.42           0.74        -3          0.08   \n",
       "...           ...            ...            ...       ...           ...   \n",
       "11385        0.96          12.75           0.97        -9         -0.29   \n",
       "11386        0.59           5.31           0.62        -6          0.08   \n",
       "11387        0.96          12.75           0.97        -1         -0.22   \n",
       "11388        0.59           5.31           0.62         2          0.15   \n",
       "11389        0.59           5.31           0.62         3          0.37   \n",
       "\n",
       "       GapAvgDiff  PointsRatioDiff  \n",
       "0            2.28             0.00  \n",
       "1           14.58             0.00  \n",
       "2            5.52             0.00  \n",
       "3           11.55             0.00  \n",
       "4            2.79             0.00  \n",
       "...           ...              ...  \n",
       "11385       -7.56             0.00  \n",
       "11386       -0.13             0.00  \n",
       "11387      -10.12             0.00  \n",
       "11388       -2.68             0.00  \n",
       "11389        7.44             0.00  \n",
       "\n",
       "[11390 rows x 17 columns]"
      ]
     },
     "execution_count": 51,
     "metadata": {},
     "output_type": "execute_result"
    }
   ],
   "source": [
    "%%time\n",
    "tst_data"
   ]
  },
  {
   "cell_type": "code",
   "execution_count": 52,
   "id": "a8f69609",
   "metadata": {
    "execution": {
     "iopub.execute_input": "2022-03-11T22:45:38.618191Z",
     "iopub.status.busy": "2022-03-11T22:45:38.617571Z",
     "iopub.status.idle": "2022-03-11T22:45:38.624339Z",
     "shell.execute_reply": "2022-03-11T22:45:38.624719Z",
     "shell.execute_reply.started": "2022-03-11T22:31:36.873130Z"
    },
    "papermill": {
     "duration": 0.087193,
     "end_time": "2022-03-11T22:45:38.624873",
     "exception": false,
     "start_time": "2022-03-11T22:45:38.537680",
     "status": "completed"
    },
    "tags": []
   },
   "outputs": [
    {
     "name": "stdout",
     "output_type": "stream",
     "text": [
      "CPU times: user 14 µs, sys: 2 µs, total: 16 µs\n",
      "Wall time: 18.8 µs\n"
     ]
    },
    {
     "data": {
      "text/plain": [
       "(11390, 17)"
      ]
     },
     "execution_count": 52,
     "metadata": {},
     "output_type": "execute_result"
    }
   ],
   "source": [
    "%%time\n",
    "tst_data.shape"
   ]
  },
  {
   "cell_type": "markdown",
   "id": "4fdc81a6",
   "metadata": {
    "papermill": {
     "duration": 0.07545,
     "end_time": "2022-03-11T22:45:38.777384",
     "exception": false,
     "start_time": "2022-03-11T22:45:38.701934",
     "status": "completed"
    },
    "tags": []
   },
   "source": [
    "# Building the Model...\n",
    "Ok, so up to this point we have been aggregating and merging data from the Seasons Datasets...\n",
    "\n",
    "* We used the season data to create aggregated features by team and season. and merge this back to the tournament data\n",
    "* Using the merged data we calculate the outcomes of each of the games, Win or Lost.\n",
    "* This new calculated variable will be our target."
   ]
  },
  {
   "cell_type": "code",
   "execution_count": 53,
   "id": "200eb2b5",
   "metadata": {
    "execution": {
     "iopub.execute_input": "2022-03-11T22:45:38.933619Z",
     "iopub.status.busy": "2022-03-11T22:45:38.932927Z",
     "iopub.status.idle": "2022-03-11T22:45:41.558687Z",
     "shell.execute_reply": "2022-03-11T22:45:41.559172Z",
     "shell.execute_reply.started": "2022-03-11T22:31:36.881484Z"
    },
    "papermill": {
     "duration": 2.70499,
     "end_time": "2022-03-11T22:45:41.559328",
     "exception": false,
     "start_time": "2022-03-11T22:45:38.854338",
     "status": "completed"
    },
    "tags": []
   },
   "outputs": [
    {
     "data": {
      "text/html": [
       "<style type='text/css'>\n",
       ".datatable table.frame { margin-bottom: 0; }\n",
       ".datatable table.frame thead { border-bottom: none; }\n",
       ".datatable table.frame tr.coltypes td {  color: #FFFFFF;  line-height: 6px;  padding: 0 0.5em;}\n",
       ".datatable .bool    { background: #DDDD99; }\n",
       ".datatable .object  { background: #565656; }\n",
       ".datatable .int     { background: #5D9E5D; }\n",
       ".datatable .float   { background: #4040CC; }\n",
       ".datatable .str     { background: #CC4040; }\n",
       ".datatable .time    { background: #40CC40; }\n",
       ".datatable .row_index {  background: var(--jp-border-color3);  border-right: 1px solid var(--jp-border-color0);  color: var(--jp-ui-font-color3);  font-size: 9px;}\n",
       ".datatable .frame tbody td { text-align: left; }\n",
       ".datatable .frame tr.coltypes .row_index {  background: var(--jp-border-color0);}\n",
       ".datatable th:nth-child(2) { padding-left: 12px; }\n",
       ".datatable .hellipsis {  color: var(--jp-cell-editor-border-color);}\n",
       ".datatable .vellipsis {  background: var(--jp-layout-color0);  color: var(--jp-cell-editor-border-color);}\n",
       ".datatable .na {  color: var(--jp-cell-editor-border-color);  font-size: 80%;}\n",
       ".datatable .sp {  opacity: 0.25;}\n",
       ".datatable .footer { font-size: 9px; }\n",
       ".datatable .frame_dimensions {  background: var(--jp-border-color3);  border-top: 1px solid var(--jp-border-color0);  color: var(--jp-ui-font-color3);  display: inline-block;  opacity: 0.6;  padding: 1px 10px 1px 5px;}\n",
       "</style>\n"
      ],
      "text/plain": [
       "<IPython.core.display.HTML object>"
      ]
     },
     "metadata": {},
     "output_type": "display_data"
    },
    {
     "name": "stdout",
     "output_type": "stream",
     "text": [
      "CPU times: user 1.28 s, sys: 518 ms, total: 1.8 s\n",
      "Wall time: 2.62 s\n"
     ]
    }
   ],
   "source": [
    "%%time\n",
    "from sklearn import tree\n",
    "from sklearn.preprocessing import StandardScaler, MinMaxScaler\n",
    "from sklearn.metrics import log_loss\n",
    "from lightgbm import LGBMClassifier\n",
    "from xgboost import XGBClassifier"
   ]
  },
  {
   "cell_type": "code",
   "execution_count": 54,
   "id": "875398cc",
   "metadata": {
    "execution": {
     "iopub.execute_input": "2022-03-11T22:45:41.715900Z",
     "iopub.status.busy": "2022-03-11T22:45:41.715196Z",
     "iopub.status.idle": "2022-03-11T22:45:41.720979Z",
     "shell.execute_reply": "2022-03-11T22:45:41.721833Z",
     "shell.execute_reply.started": "2022-03-11T22:31:36.893457Z"
    },
    "papermill": {
     "duration": 0.086277,
     "end_time": "2022-03-11T22:45:41.722047",
     "exception": false,
     "start_time": "2022-03-11T22:45:41.635770",
     "status": "completed"
    },
    "tags": []
   },
   "outputs": [
    {
     "name": "stdout",
     "output_type": "stream",
     "text": [
      "CPU times: user 29 µs, sys: 4 µs, total: 33 µs\n",
      "Wall time: 37.2 µs\n"
     ]
    }
   ],
   "source": [
    "%%time\n",
    "target_feature = 'A_Win'\n",
    "avoid = ['ScoreDiff', 'Season', 'DayNum', 'A_Win']\n",
    "features = [col for col in tournament_data.columns if col not in avoid]"
   ]
  },
  {
   "cell_type": "code",
   "execution_count": 55,
   "id": "b316ba5a",
   "metadata": {
    "execution": {
     "iopub.execute_input": "2022-03-11T22:45:41.964252Z",
     "iopub.status.busy": "2022-03-11T22:45:41.963609Z",
     "iopub.status.idle": "2022-03-11T22:45:41.968615Z",
     "shell.execute_reply": "2022-03-11T22:45:41.967994Z",
     "shell.execute_reply.started": "2022-03-11T22:31:36.908381Z"
    },
    "papermill": {
     "duration": 0.128847,
     "end_time": "2022-03-11T22:45:41.968740",
     "exception": false,
     "start_time": "2022-03-11T22:45:41.839893",
     "status": "completed"
    },
    "tags": []
   },
   "outputs": [
    {
     "name": "stdout",
     "output_type": "stream",
     "text": [
      "CPU times: user 2 µs, sys: 0 ns, total: 2 µs\n",
      "Wall time: 5.72 µs\n"
     ]
    },
    {
     "data": {
      "text/plain": [
       "['A_TeamID',\n",
       " 'B_TeamID',\n",
       " 'A_Seed',\n",
       " 'B_Seed',\n",
       " 'A_WinRatio',\n",
       " 'A_AvgScoreGap',\n",
       " 'A_PointsRatio',\n",
       " 'B_WinRatio',\n",
       " 'B_AvgScoreGap',\n",
       " 'B_PointsRatio',\n",
       " 'SeedDiff',\n",
       " 'WinRatioDiff',\n",
       " 'GapAvgDiff',\n",
       " 'PointsRatioDiff']"
      ]
     },
     "execution_count": 55,
     "metadata": {},
     "output_type": "execute_result"
    }
   ],
   "source": [
    "%%time\n",
    "features"
   ]
  },
  {
   "cell_type": "code",
   "execution_count": 56,
   "id": "889c3ae8",
   "metadata": {
    "execution": {
     "iopub.execute_input": "2022-03-11T22:45:42.212788Z",
     "iopub.status.busy": "2022-03-11T22:45:42.212049Z",
     "iopub.status.idle": "2022-03-11T22:45:42.215441Z",
     "shell.execute_reply": "2022-03-11T22:45:42.215964Z",
     "shell.execute_reply.started": "2022-03-11T22:31:36.922846Z"
    },
    "papermill": {
     "duration": 0.128365,
     "end_time": "2022-03-11T22:45:42.216136",
     "exception": false,
     "start_time": "2022-03-11T22:45:42.087771",
     "status": "completed"
    },
    "tags": []
   },
   "outputs": [],
   "source": [
    "features = ['A_TeamID',\n",
    "            'B_TeamID',\n",
    "            'A_Seed',\n",
    "            'B_Seed',\n",
    "            'A_WinRatio',\n",
    "            'A_AvgScoreGap',\n",
    "            'A_PointsRatio',\n",
    "            'B_WinRatio',\n",
    "            'B_AvgScoreGap',\n",
    "            'B_PointsRatio',\n",
    "            'SeedDiff',\n",
    "            'WinRatioDiff',\n",
    "            'GapAvgDiff',\n",
    "            'PointsRatioDiff',\n",
    "           ]"
   ]
  },
  {
   "cell_type": "code",
   "execution_count": 57,
   "id": "a340f611",
   "metadata": {
    "execution": {
     "iopub.execute_input": "2022-03-11T22:45:42.454928Z",
     "iopub.status.busy": "2022-03-11T22:45:42.454207Z",
     "iopub.status.idle": "2022-03-11T22:45:42.463249Z",
     "shell.execute_reply": "2022-03-11T22:45:42.463917Z",
     "shell.execute_reply.started": "2022-03-11T22:31:36.933292Z"
    },
    "papermill": {
     "duration": 0.131109,
     "end_time": "2022-03-11T22:45:42.464109",
     "exception": false,
     "start_time": "2022-03-11T22:45:42.333000",
     "status": "completed"
    },
    "tags": []
   },
   "outputs": [
    {
     "name": "stdout",
     "output_type": "stream",
     "text": [
      "CPU times: user 4 µs, sys: 0 ns, total: 4 µs\n",
      "Wall time: 7.39 µs\n"
     ]
    }
   ],
   "source": [
    "%%time\n",
    "# Develop a CV loop to avoid leaking data from future tournaments...\n",
    "def kfold_model(train_df, tst_df):\n",
    "    cvs = []\n",
    "    preds_test = []\n",
    "    seasons = train_df['Season'].unique()\n",
    "    \n",
    "    for season in seasons[1:]:\n",
    "        print(f'\\nValidating on season {season}')\n",
    "        X_train = train_df[train_df['Season'] < season][features].reset_index(drop = True).copy()\n",
    "        X_val = train_df[train_df['Season'] == season][features].reset_index(drop = True).copy()\n",
    "        \n",
    "        y_train = train_df[train_df['Season'] < season][target_feature].reset_index(drop = True).copy()\n",
    "        y_val = train_df[train_df['Season'] == season][target_feature].reset_index(drop = True).copy()\n",
    "        \n",
    "        tst_dataset = tst_data[features].copy()\n",
    "        \n",
    "        \n",
    "        scaler = MinMaxScaler()\n",
    "        scaler.fit(X_train)\n",
    "        \n",
    "        X_train = scaler.transform(X_train)        \n",
    "        X_val = scaler.transform(X_val)\n",
    "        tst_dataset = scaler.transform(tst_dataset)\n",
    "        \n",
    "        model = XGBClassifier(n_estimators = 1024, random_state = 85)\n",
    "        model.fit(X_train, y_train, eval_set = [(X_val, y_val)], verbose = 0, early_stopping_rounds = 128)\n",
    "        pred = model.predict_proba(X_val)[:, 1]\n",
    "        \n",
    "        pred_test = model.predict_proba(tst_dataset)[:, 1]\n",
    "        preds_test.append(pred_test)\n",
    "        \n",
    "        loss = log_loss(y_val, pred)\n",
    "        cvs.append(loss)\n",
    "        \n",
    "        print(f'\\t -> Scored {loss:.4f}')\n",
    "    print(f'\\nLocal Cross Validation Score Is: {np.mean(cvs):.3f}', '\\n')\n",
    "    return preds_test"
   ]
  },
  {
   "cell_type": "code",
   "execution_count": 58,
   "id": "add8e9cd",
   "metadata": {
    "execution": {
     "iopub.execute_input": "2022-03-11T22:45:42.709363Z",
     "iopub.status.busy": "2022-03-11T22:45:42.708731Z",
     "iopub.status.idle": "2022-03-11T22:45:47.737479Z",
     "shell.execute_reply": "2022-03-11T22:45:47.738382Z",
     "shell.execute_reply.started": "2022-03-11T22:31:36.951237Z"
    },
    "papermill": {
     "duration": 5.156907,
     "end_time": "2022-03-11T22:45:47.738581",
     "exception": false,
     "start_time": "2022-03-11T22:45:42.581674",
     "status": "completed"
    },
    "tags": []
   },
   "outputs": [
    {
     "name": "stdout",
     "output_type": "stream",
     "text": [
      "\n",
      "Validating on season 2016\n",
      "[22:45:42] WARNING: ../src/learner.cc:1115: Starting in XGBoost 1.3.0, the default evaluation metric used with the objective 'binary:logistic' was changed from 'error' to 'logloss'. Explicitly set eval_metric if you'd like to restore the old behavior.\n",
      "\t -> Scored 0.6392\n",
      "\n",
      "Validating on season 2017\n",
      "[22:45:43] WARNING: ../src/learner.cc:1115: Starting in XGBoost 1.3.0, the default evaluation metric used with the objective 'binary:logistic' was changed from 'error' to 'logloss'. Explicitly set eval_metric if you'd like to restore the old behavior.\n",
      "\t -> Scored 0.5708\n",
      "\n",
      "Validating on season 2018\n",
      "[22:45:44] WARNING: ../src/learner.cc:1115: Starting in XGBoost 1.3.0, the default evaluation metric used with the objective 'binary:logistic' was changed from 'error' to 'logloss'. Explicitly set eval_metric if you'd like to restore the old behavior.\n",
      "\t -> Scored 0.6114\n",
      "\n",
      "Validating on season 2019\n",
      "[22:45:45] WARNING: ../src/learner.cc:1115: Starting in XGBoost 1.3.0, the default evaluation metric used with the objective 'binary:logistic' was changed from 'error' to 'logloss'. Explicitly set eval_metric if you'd like to restore the old behavior.\n",
      "\t -> Scored 0.5867\n",
      "\n",
      "Validating on season 2021\n",
      "[22:45:46] WARNING: ../src/learner.cc:1115: Starting in XGBoost 1.3.0, the default evaluation metric used with the objective 'binary:logistic' was changed from 'error' to 'logloss'. Explicitly set eval_metric if you'd like to restore the old behavior.\n",
      "\t -> Scored 0.5903\n",
      "\n",
      "Local Cross Validation Score Is: 0.600 \n",
      "\n",
      "CPU times: user 18.5 s, sys: 24.5 ms, total: 18.5 s\n",
      "Wall time: 5.03 s\n"
     ]
    }
   ],
   "source": [
    "%%time\n",
    "predictions = kfold_model(tournament_data, tournament_data)"
   ]
  },
  {
   "cell_type": "code",
   "execution_count": 59,
   "id": "ffca129b",
   "metadata": {
    "execution": {
     "iopub.execute_input": "2022-03-11T22:45:47.993437Z",
     "iopub.status.busy": "2022-03-11T22:45:47.992760Z",
     "iopub.status.idle": "2022-03-11T22:45:47.995666Z",
     "shell.execute_reply": "2022-03-11T22:45:47.995077Z",
     "shell.execute_reply.started": "2022-03-11T22:31:41.966751Z"
    },
    "papermill": {
     "duration": 0.13178,
     "end_time": "2022-03-11T22:45:47.995819",
     "exception": false,
     "start_time": "2022-03-11T22:45:47.864039",
     "status": "completed"
    },
    "tags": []
   },
   "outputs": [],
   "source": [
    "# Local Cross Validation Score Is: 0.616 \n",
    "# Local Cross Validation Score Is: 0.608..."
   ]
  },
  {
   "cell_type": "code",
   "execution_count": 60,
   "id": "0543e985",
   "metadata": {
    "execution": {
     "iopub.execute_input": "2022-03-11T22:45:48.248301Z",
     "iopub.status.busy": "2022-03-11T22:45:48.247599Z",
     "iopub.status.idle": "2022-03-11T22:45:48.272333Z",
     "shell.execute_reply": "2022-03-11T22:45:48.271754Z",
     "shell.execute_reply.started": "2022-03-11T22:31:41.975529Z"
    },
    "papermill": {
     "duration": 0.154441,
     "end_time": "2022-03-11T22:45:48.272489",
     "exception": false,
     "start_time": "2022-03-11T22:45:48.118048",
     "status": "completed"
    },
    "tags": []
   },
   "outputs": [
    {
     "name": "stdout",
     "output_type": "stream",
     "text": [
      "CPU times: user 23.6 ms, sys: 40 µs, total: 23.7 ms\n",
      "Wall time: 23.7 ms\n"
     ]
    }
   ],
   "source": [
    "%%time\n",
    "mean_predictions = np.mean(predictions, 0)\n",
    "\n",
    "sub = tst_data[['ID', 'Pred']].copy()\n",
    "sub['Pred'] = mean_predictions\n",
    "sub.to_csv('submission_02242022.csv', index = False)"
   ]
  },
  {
   "cell_type": "markdown",
   "id": "10ba44ec",
   "metadata": {
    "papermill": {
     "duration": 0.124585,
     "end_time": "2022-03-11T22:45:48.522580",
     "exception": false,
     "start_time": "2022-03-11T22:45:48.397995",
     "status": "completed"
    },
    "tags": []
   },
   "source": [
    "---"
   ]
  }
 ],
 "metadata": {
  "kernelspec": {
   "display_name": "Python 3",
   "language": "python",
   "name": "python3"
  },
  "language_info": {
   "codemirror_mode": {
    "name": "ipython",
    "version": 3
   },
   "file_extension": ".py",
   "mimetype": "text/x-python",
   "name": "python",
   "nbconvert_exporter": "python",
   "pygments_lexer": "ipython3",
   "version": "3.7.12"
  },
  "papermill": {
   "default_parameters": {},
   "duration": 35.263416,
   "end_time": "2022-03-11T22:45:49.456906",
   "environment_variables": {},
   "exception": null,
   "input_path": "__notebook__.ipynb",
   "output_path": "__notebook__.ipynb",
   "parameters": {},
   "start_time": "2022-03-11T22:45:14.193490",
   "version": "2.3.3"
  }
 },
 "nbformat": 4,
 "nbformat_minor": 5
}
