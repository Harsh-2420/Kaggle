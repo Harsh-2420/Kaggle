{
 "cells": [
  {
   "cell_type": "code",
   "execution_count": 1,
   "source": [
    "import pandas as pd\n",
    "import numpy as np\n",
    "import sqlite3\n",
    "import pandasql\n",
    "from pandasql import sqldf\n",
    "import matplotlib.pyplot as plt\n",
    "\n",
    "pysqldf = lambda q: sqldf(q, globals())\n",
    "\n",
    "# q = \"\"\"\n",
    "# ;\"\"\"\n",
    "# data_cleaned = pysqldf(q)\n",
    "# data_cleaned"
   ],
   "outputs": [],
   "metadata": {}
  },
  {
   "cell_type": "code",
   "execution_count": 2,
   "source": [
    "data1 = pd.read_csv(\"./data/202004-divvy-tripdata.csv\")\n",
    "data2 = pd.read_csv(\"./data/202005-divvy-tripdata.csv\")\n",
    "data3 = pd.read_csv(\"./data/202006-divvy-tripdata.csv\")\n",
    "data4 = pd.read_csv(\"./data/202007-divvy-tripdata.csv\")\n",
    "data5 = pd.read_csv(\"./data/202008-divvy-tripdata.csv\")\n",
    "data6 = pd.read_csv(\"./data/202009-divvy-tripdata.csv\")\n",
    "data7 = pd.read_csv(\"./data/202010-divvy-tripdata.csv\")\n",
    "data8 = pd.read_csv(\"./data/202011-divvy-tripdata.csv\")\n",
    "data9 = pd.read_csv(\"./data/202012-divvy-tripdata.csv\")\n"
   ],
   "outputs": [],
   "metadata": {}
  },
  {
   "cell_type": "code",
   "execution_count": 3,
   "source": [
    "\n",
    "data10 = pd.read_csv(\"./data/202101-divvy-tripdata.csv\")\n",
    "data11 = pd.read_csv(\"./data/202102-divvy-tripdata.csv\")\n",
    "data12 = pd.read_csv(\"./data/202103-divvy-tripdata.csv\")\n",
    "data13 = pd.read_csv(\"./data/202104-divvy-tripdata.csv\")\n",
    "data14 = pd.read_csv(\"./data/202105-divvy-tripdata.csv\")\n",
    "data15 = pd.read_csv(\"./data/202106-divvy-tripdata.csv\")\n",
    "data16 = pd.read_csv(\"./data/202107-divvy-tripdata.csv\")\n",
    "data17 = pd.read_csv(\"./data/202108-divvy-tripdata.csv\")\n",
    "data22 = pd.read_csv(\"./data/Divvy_Trips_2020_Q1.csv\")\n"
   ],
   "outputs": [],
   "metadata": {}
  },
  {
   "cell_type": "code",
   "execution_count": 4,
   "source": [
    "\n",
    "# data19 = pd.read_csv(\"./data/Divvy_Trips_2019_Q2\")\n",
    "\n",
    "# data18 = pd.read_csv(\"./data/Divvy_Trips_2019_Q1\")\n",
    "\n",
    "# data20 = pd.read_csv(\"./data/Divvy_Trips_2019_Q3.csv\")\n",
    "# data21 = pd.read_csv(\"./data/Divvy_Trips_2019_Q4.csv\")\n"
   ],
   "outputs": [],
   "metadata": {}
  },
  {
   "cell_type": "code",
   "execution_count": 5,
   "source": [
    "data_cleaned = pd.concat([data1, data2, data3, data4, data5, data6, data7, data8, data9, data10, data11, data12, data13, data14, data15, data16, data17, data22])\n",
    "data_cleaned.sort_values(by='started_at', inplace=True)"
   ],
   "outputs": [],
   "metadata": {}
  },
  {
   "cell_type": "code",
   "execution_count": 27,
   "source": [
    "data1_times = data1.drop(data1.columns[[4,5,6,7,8,9,10,11]], axis=1)"
   ],
   "outputs": [],
   "metadata": {}
  },
  {
   "cell_type": "code",
   "execution_count": 30,
   "source": [
    "data1_times['duration'] = pd.to_datetime(data1_times['ended_at']) - pd.to_datetime(data1_times['started_at'])\n"
   ],
   "outputs": [],
   "metadata": {}
  },
  {
   "cell_type": "code",
   "execution_count": 31,
   "source": [
    "data1_times"
   ],
   "outputs": [
    {
     "output_type": "execute_result",
     "data": {
      "text/plain": [
       "                ride_id rideable_type           started_at  \\\n",
       "0      A847FADBBC638E45   docked_bike  2020-04-26 17:45:14   \n",
       "1      5405B80E996FF60D   docked_bike  2020-04-17 17:08:54   \n",
       "2      5DD24A79A4E006F4   docked_bike  2020-04-01 17:54:13   \n",
       "3      2A59BBDF5CDBA725   docked_bike  2020-04-07 12:50:19   \n",
       "4      27AD306C119C6158   docked_bike  2020-04-18 10:22:59   \n",
       "...                 ...           ...                  ...   \n",
       "84771  200E9CDFC5685AA0   docked_bike  2020-04-16 16:10:16   \n",
       "84772  F58A8F2ABCB5D95B   docked_bike  2020-04-30 17:56:12   \n",
       "84773  A3754693A80E4913   docked_bike  2020-04-24 19:57:33   \n",
       "84774  D610CABB67F7B744   docked_bike  2020-04-02 17:59:55   \n",
       "84775  79634521ABE4CF69   docked_bike  2020-04-04 01:31:27   \n",
       "\n",
       "                  ended_at member_casual        duration  \n",
       "0      2020-04-26 18:12:03        member 0 days 00:26:49  \n",
       "1      2020-04-17 17:17:03        member 0 days 00:08:09  \n",
       "2      2020-04-01 18:08:36        member 0 days 00:14:23  \n",
       "3      2020-04-07 13:02:31        member 0 days 00:12:12  \n",
       "4      2020-04-18 11:15:54        casual 0 days 00:52:55  \n",
       "...                    ...           ...             ...  \n",
       "84771  2020-04-16 16:23:11        member 0 days 00:12:55  \n",
       "84772  2020-04-30 18:15:21        casual 0 days 00:19:09  \n",
       "84773  2020-04-24 21:50:43        casual 0 days 01:53:10  \n",
       "84774  2020-04-02 18:42:26        casual 0 days 00:42:31  \n",
       "84775  2020-04-04 01:37:27        casual 0 days 00:06:00  \n",
       "\n",
       "[84776 rows x 6 columns]"
      ],
      "text/html": [
       "<div>\n",
       "<style scoped>\n",
       "    .dataframe tbody tr th:only-of-type {\n",
       "        vertical-align: middle;\n",
       "    }\n",
       "\n",
       "    .dataframe tbody tr th {\n",
       "        vertical-align: top;\n",
       "    }\n",
       "\n",
       "    .dataframe thead th {\n",
       "        text-align: right;\n",
       "    }\n",
       "</style>\n",
       "<table border=\"1\" class=\"dataframe\">\n",
       "  <thead>\n",
       "    <tr style=\"text-align: right;\">\n",
       "      <th></th>\n",
       "      <th>ride_id</th>\n",
       "      <th>rideable_type</th>\n",
       "      <th>started_at</th>\n",
       "      <th>ended_at</th>\n",
       "      <th>member_casual</th>\n",
       "      <th>duration</th>\n",
       "    </tr>\n",
       "  </thead>\n",
       "  <tbody>\n",
       "    <tr>\n",
       "      <th>0</th>\n",
       "      <td>A847FADBBC638E45</td>\n",
       "      <td>docked_bike</td>\n",
       "      <td>2020-04-26 17:45:14</td>\n",
       "      <td>2020-04-26 18:12:03</td>\n",
       "      <td>member</td>\n",
       "      <td>0 days 00:26:49</td>\n",
       "    </tr>\n",
       "    <tr>\n",
       "      <th>1</th>\n",
       "      <td>5405B80E996FF60D</td>\n",
       "      <td>docked_bike</td>\n",
       "      <td>2020-04-17 17:08:54</td>\n",
       "      <td>2020-04-17 17:17:03</td>\n",
       "      <td>member</td>\n",
       "      <td>0 days 00:08:09</td>\n",
       "    </tr>\n",
       "    <tr>\n",
       "      <th>2</th>\n",
       "      <td>5DD24A79A4E006F4</td>\n",
       "      <td>docked_bike</td>\n",
       "      <td>2020-04-01 17:54:13</td>\n",
       "      <td>2020-04-01 18:08:36</td>\n",
       "      <td>member</td>\n",
       "      <td>0 days 00:14:23</td>\n",
       "    </tr>\n",
       "    <tr>\n",
       "      <th>3</th>\n",
       "      <td>2A59BBDF5CDBA725</td>\n",
       "      <td>docked_bike</td>\n",
       "      <td>2020-04-07 12:50:19</td>\n",
       "      <td>2020-04-07 13:02:31</td>\n",
       "      <td>member</td>\n",
       "      <td>0 days 00:12:12</td>\n",
       "    </tr>\n",
       "    <tr>\n",
       "      <th>4</th>\n",
       "      <td>27AD306C119C6158</td>\n",
       "      <td>docked_bike</td>\n",
       "      <td>2020-04-18 10:22:59</td>\n",
       "      <td>2020-04-18 11:15:54</td>\n",
       "      <td>casual</td>\n",
       "      <td>0 days 00:52:55</td>\n",
       "    </tr>\n",
       "    <tr>\n",
       "      <th>...</th>\n",
       "      <td>...</td>\n",
       "      <td>...</td>\n",
       "      <td>...</td>\n",
       "      <td>...</td>\n",
       "      <td>...</td>\n",
       "      <td>...</td>\n",
       "    </tr>\n",
       "    <tr>\n",
       "      <th>84771</th>\n",
       "      <td>200E9CDFC5685AA0</td>\n",
       "      <td>docked_bike</td>\n",
       "      <td>2020-04-16 16:10:16</td>\n",
       "      <td>2020-04-16 16:23:11</td>\n",
       "      <td>member</td>\n",
       "      <td>0 days 00:12:55</td>\n",
       "    </tr>\n",
       "    <tr>\n",
       "      <th>84772</th>\n",
       "      <td>F58A8F2ABCB5D95B</td>\n",
       "      <td>docked_bike</td>\n",
       "      <td>2020-04-30 17:56:12</td>\n",
       "      <td>2020-04-30 18:15:21</td>\n",
       "      <td>casual</td>\n",
       "      <td>0 days 00:19:09</td>\n",
       "    </tr>\n",
       "    <tr>\n",
       "      <th>84773</th>\n",
       "      <td>A3754693A80E4913</td>\n",
       "      <td>docked_bike</td>\n",
       "      <td>2020-04-24 19:57:33</td>\n",
       "      <td>2020-04-24 21:50:43</td>\n",
       "      <td>casual</td>\n",
       "      <td>0 days 01:53:10</td>\n",
       "    </tr>\n",
       "    <tr>\n",
       "      <th>84774</th>\n",
       "      <td>D610CABB67F7B744</td>\n",
       "      <td>docked_bike</td>\n",
       "      <td>2020-04-02 17:59:55</td>\n",
       "      <td>2020-04-02 18:42:26</td>\n",
       "      <td>casual</td>\n",
       "      <td>0 days 00:42:31</td>\n",
       "    </tr>\n",
       "    <tr>\n",
       "      <th>84775</th>\n",
       "      <td>79634521ABE4CF69</td>\n",
       "      <td>docked_bike</td>\n",
       "      <td>2020-04-04 01:31:27</td>\n",
       "      <td>2020-04-04 01:37:27</td>\n",
       "      <td>casual</td>\n",
       "      <td>0 days 00:06:00</td>\n",
       "    </tr>\n",
       "  </tbody>\n",
       "</table>\n",
       "<p>84776 rows × 6 columns</p>\n",
       "</div>"
      ]
     },
     "metadata": {},
     "execution_count": 31
    }
   ],
   "metadata": {}
  },
  {
   "cell_type": "markdown",
   "source": [
    "# Casual vs Member Riders\n",
    "\n",
    "- Differences between the 2 kinds of users\n",
    "    - Who bikes more often?\n",
    "    - Are there differences in the times they bike at? (time of day; day of week; month of year)\n",
    "    - Are there differences in the rideable types?\n",
    "    - Are there differences in duration?\n",
    "    - Differences in Location?"
   ],
   "metadata": {}
  },
  {
   "cell_type": "code",
   "execution_count": 56,
   "source": [
    "# Scatter Plot:\n",
    "# Color to show member vs casual \n",
    "# Opacity to show duration\n",
    "# x-axis plots the time of day\n",
    "# y-axis plots the total ride Time\n",
    "\n",
    "member_data = data1_times[data1_times['member_casual'] == 'member']\n",
    "member_data['hour'] = pd.to_datetime(member_data['started_at']).dt.hour\n",
    "member_data['duration'] = member_data['duration'].dt.seconds\n",
    "member_y = member_data.groupby(['hour'])['duration'].agg('sum')"
   ],
   "outputs": [
    {
     "output_type": "stream",
     "name": "stderr",
     "text": [
      "<ipython-input-56-9d80e1f1b160>:8: SettingWithCopyWarning: \n",
      "A value is trying to be set on a copy of a slice from a DataFrame.\n",
      "Try using .loc[row_indexer,col_indexer] = value instead\n",
      "\n",
      "See the caveats in the documentation: https://pandas.pydata.org/pandas-docs/stable/user_guide/indexing.html#returning-a-view-versus-a-copy\n",
      "  member_data['hour'] = pd.to_datetime(member_data['started_at']).dt.hour\n",
      "<ipython-input-56-9d80e1f1b160>:9: SettingWithCopyWarning: \n",
      "A value is trying to be set on a copy of a slice from a DataFrame.\n",
      "Try using .loc[row_indexer,col_indexer] = value instead\n",
      "\n",
      "See the caveats in the documentation: https://pandas.pydata.org/pandas-docs/stable/user_guide/indexing.html#returning-a-view-versus-a-copy\n",
      "  member_data['duration'] = member_data['duration'].dt.seconds\n"
     ]
    }
   ],
   "metadata": {}
  },
  {
   "cell_type": "code",
   "execution_count": 63,
   "source": [
    "member_y"
   ],
   "outputs": [
    {
     "output_type": "execute_result",
     "data": {
      "text/plain": [
       "hour\n",
       "0      187932\n",
       "1      109729\n",
       "2       83710\n",
       "3       54637\n",
       "4       66279\n",
       "5      295488\n",
       "6     1557758\n",
       "7     2314483\n",
       "8     2313260\n",
       "9     2204751\n",
       "10    2724988\n",
       "11    4151267\n",
       "12    5909259\n",
       "13    6158250\n",
       "14    7061003\n",
       "15    7201200\n",
       "16    7316424\n",
       "17    7463856\n",
       "18    5858689\n",
       "19    3530487\n",
       "20    1571373\n",
       "21     740666\n",
       "22     519673\n",
       "23     380921\n",
       "Name: duration, dtype: int64"
      ]
     },
     "metadata": {},
     "execution_count": 63
    }
   ],
   "metadata": {}
  },
  {
   "cell_type": "code",
   "execution_count": null,
   "source": [],
   "outputs": [],
   "metadata": {}
  },
  {
   "cell_type": "code",
   "execution_count": null,
   "source": [],
   "outputs": [],
   "metadata": {}
  },
  {
   "cell_type": "code",
   "execution_count": null,
   "source": [],
   "outputs": [],
   "metadata": {}
  }
 ],
 "metadata": {
  "orig_nbformat": 4,
  "language_info": {
   "name": "python",
   "version": "3.9.5",
   "mimetype": "text/x-python",
   "codemirror_mode": {
    "name": "ipython",
    "version": 3
   },
   "pygments_lexer": "ipython3",
   "nbconvert_exporter": "python",
   "file_extension": ".py"
  },
  "kernelspec": {
   "name": "python3",
   "display_name": "Python 3.9.5 64-bit ('base': conda)"
  },
  "interpreter": {
   "hash": "8e67d3b4e6e9c5ed82f76a8f7f99679990361e083096766a3b0e6dbb7e4e49b8"
  }
 },
 "nbformat": 4,
 "nbformat_minor": 2
}