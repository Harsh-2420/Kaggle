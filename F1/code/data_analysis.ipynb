{
 "metadata": {
  "language_info": {
   "codemirror_mode": {
    "name": "ipython",
    "version": 3
   },
   "file_extension": ".py",
   "mimetype": "text/x-python",
   "name": "python",
   "nbconvert_exporter": "python",
   "pygments_lexer": "ipython3",
   "version": "3.9.5"
  },
  "orig_nbformat": 4,
  "kernelspec": {
   "name": "python3",
   "display_name": "Python 3.9.5 64-bit ('spotty': conda)"
  },
  "interpreter": {
   "hash": "7931e8312dc353b9fd3185b38fa051918a9bf6719a176afc6cced50dc033cfac"
  }
 },
 "nbformat": 4,
 "nbformat_minor": 2,
 "cells": [
  {
   "cell_type": "code",
   "execution_count": 1,
   "metadata": {},
   "outputs": [],
   "source": [
    "import pandas as pd\n",
    "import numpy as np\n",
    "import matplotlib.pyplot as plt"
   ]
  },
  {
   "cell_type": "code",
   "execution_count": 6,
   "metadata": {},
   "outputs": [],
   "source": [
    "circuits = pd.read_csv('../data/circuits.csv')\n",
    "constructor_results = pd.read_csv('../data/constructor_results.csv')\n",
    "constructor_standings = pd.read_csv('../data/constructor_standings.csv')\n",
    "constructor = pd.read_csv('../data/constructors.csv')\n",
    "drivers = pd.read_csv('../data/drivers.csv')\n",
    "driver_standings = pd.read_csv('../data/driver_standings.csv')\n",
    "lap_times = pd.read_csv('../data/lap_times.csv')\n",
    "pit_stops = pd.read_csv('../data/pit_stops.csv')\n",
    "qualif = pd.read_csv('../data/qualifying.csv')\n",
    "races = pd.read_csv('../data/races.csv')\n",
    "results = pd.read_csv('../data/results.csv')\n",
    "seasons = pd.read_csv('../data/seasons.csv')\n",
    "status = pd.read_csv('../data/status.csv')"
   ]
  },
  {
   "cell_type": "code",
   "execution_count": 11,
   "metadata": {},
   "outputs": [
    {
     "output_type": "error",
     "ename": "NameError",
     "evalue": "name 'circuit' is not defined",
     "traceback": [
      "\u001b[0;31m---------------------------------------------------------------------------\u001b[0m",
      "\u001b[0;31mNameError\u001b[0m                                 Traceback (most recent call last)",
      "\u001b[0;32m<ipython-input-11-c204c19503a9>\u001b[0m in \u001b[0;36m<module>\u001b[0;34m\u001b[0m\n\u001b[0;32m----> 1\u001b[0;31m \u001b[0mcircuit\u001b[0m\u001b[0;34m\u001b[0m\u001b[0;34m\u001b[0m\u001b[0m\n\u001b[0m",
      "\u001b[0;31mNameError\u001b[0m: name 'circuit' is not defined"
     ]
    }
   ],
   "source": []
  },
  {
   "cell_type": "code",
   "execution_count": null,
   "metadata": {},
   "outputs": [],
   "source": []
  }
 ]
}