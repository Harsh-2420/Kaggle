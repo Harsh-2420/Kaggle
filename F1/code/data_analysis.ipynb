{
 "metadata": {
  "language_info": {
   "codemirror_mode": {
    "name": "ipython",
    "version": 3
   },
   "file_extension": ".py",
   "mimetype": "text/x-python",
   "name": "python",
   "nbconvert_exporter": "python",
   "pygments_lexer": "ipython3",
   "version": "3.9.5"
  },
  "orig_nbformat": 4,
  "kernelspec": {
   "name": "python3",
   "display_name": "Python 3.9.5 64-bit ('spotty': conda)"
  },
  "interpreter": {
   "hash": "7931e8312dc353b9fd3185b38fa051918a9bf6719a176afc6cced50dc033cfac"
  }
 },
 "nbformat": 4,
 "nbformat_minor": 2,
 "cells": [
  {
   "cell_type": "code",
   "execution_count": 24,
   "metadata": {},
   "outputs": [],
   "source": [
    "import pandas as pd\n",
    "import numpy as np\n",
    "import matplotlib.pyplot as plt\n",
    "import sqlite3\n",
    "import pandasql\n",
    "from pandasql import sqldf\n",
    "import plotly.express as px\n",
    "\n",
    "pysqldf = lambda q: sqldf(q, globals())"
   ]
  },
  {
   "cell_type": "code",
   "execution_count": 12,
   "metadata": {},
   "outputs": [],
   "source": [
    "circuits = pd.read_csv('../data/circuits.csv')\n",
    "constructor_results = pd.read_csv('../data/constructor_results.csv')\n",
    "constructor_standings = pd.read_csv('../data/constructor_standings.csv')\n",
    "constructor = pd.read_csv('../data/constructors.csv')\n",
    "drivers = pd.read_csv('../data/drivers.csv')\n",
    "driver_standings = pd.read_csv('../data/driver_standings.csv')\n",
    "lap_times = pd.read_csv('../data/lap_times.csv')\n",
    "pit_stops = pd.read_csv('../data/pit_stops.csv')\n",
    "qualif = pd.read_csv('../data/qualifying.csv')\n",
    "races = pd.read_csv('../data/races.csv')\n",
    "results = pd.read_csv('../data/results.csv')\n",
    "seasons = pd.read_csv('../data/seasons.csv')\n",
    "status = pd.read_csv('../data/status.csv')"
   ]
  },
  {
   "source": [
    "# Data Cleaning"
   ],
   "cell_type": "markdown",
   "metadata": {}
  },
  {
   "source": [
    "We remove the url links from the datasets and combine some of the datasets for easier readability."
   ],
   "cell_type": "markdown",
   "metadata": {}
  },
  {
   "cell_type": "code",
   "execution_count": 13,
   "metadata": {},
   "outputs": [],
   "source": [
    "circuits = circuits.drop(\"url\", axis=1)\n",
    "constructor = constructor.drop(\"url\", axis=1)\n",
    "drivers = drivers.drop(\"url\", axis=1)\n",
    "seasons = seasons.drop(\"url\", axis=1)\n",
    "races = races.drop(\"url\", axis=1)"
   ]
  },
  {
   "source": [
    "# Data Exploration"
   ],
   "cell_type": "markdown",
   "metadata": {}
  },
  {
   "source": [
    "- constructor wins by circuit"
   ],
   "cell_type": "markdown",
   "metadata": {}
  },
  {
   "cell_type": "code",
   "execution_count": 14,
   "metadata": {},
   "outputs": [
    {
     "output_type": "execute_result",
     "data": {
      "text/plain": [
       "      raceId  constructorId        name  points  position  wins  circuitId  \\\n",
       "0         18              1     McLaren    14.0         1     1          1   \n",
       "1         18              2  BMW Sauber     8.0         3     0          1   \n",
       "2         18              3    Williams     9.0         2     0          1   \n",
       "3         19              1     McLaren    24.0         1     1          2   \n",
       "4         19              2  BMW Sauber    19.0         2     0          2   \n",
       "...      ...            ...         ...     ...       ...   ...        ...   \n",
       "2923    1054              9    Red Bull    83.0         2     1         75   \n",
       "2924    1054              1     McLaren    53.0         3     0         75   \n",
       "2925    1055            131    Mercedes   141.0         1     3          4   \n",
       "2926    1055              9    Red Bull   112.0         2     1          4   \n",
       "2927    1055              1     McLaren    65.0         3     0          4   \n",
       "\n",
       "                circuitName  \n",
       "0     Australian Grand Prix  \n",
       "1     Australian Grand Prix  \n",
       "2     Australian Grand Prix  \n",
       "3      Malaysian Grand Prix  \n",
       "4      Malaysian Grand Prix  \n",
       "...                     ...  \n",
       "2923  Portuguese Grand Prix  \n",
       "2924  Portuguese Grand Prix  \n",
       "2925     Spanish Grand Prix  \n",
       "2926     Spanish Grand Prix  \n",
       "2927     Spanish Grand Prix  \n",
       "\n",
       "[2928 rows x 8 columns]"
      ],
      "text/html": "<div>\n<style scoped>\n    .dataframe tbody tr th:only-of-type {\n        vertical-align: middle;\n    }\n\n    .dataframe tbody tr th {\n        vertical-align: top;\n    }\n\n    .dataframe thead th {\n        text-align: right;\n    }\n</style>\n<table border=\"1\" class=\"dataframe\">\n  <thead>\n    <tr style=\"text-align: right;\">\n      <th></th>\n      <th>raceId</th>\n      <th>constructorId</th>\n      <th>name</th>\n      <th>points</th>\n      <th>position</th>\n      <th>wins</th>\n      <th>circuitId</th>\n      <th>circuitName</th>\n    </tr>\n  </thead>\n  <tbody>\n    <tr>\n      <th>0</th>\n      <td>18</td>\n      <td>1</td>\n      <td>McLaren</td>\n      <td>14.0</td>\n      <td>1</td>\n      <td>1</td>\n      <td>1</td>\n      <td>Australian Grand Prix</td>\n    </tr>\n    <tr>\n      <th>1</th>\n      <td>18</td>\n      <td>2</td>\n      <td>BMW Sauber</td>\n      <td>8.0</td>\n      <td>3</td>\n      <td>0</td>\n      <td>1</td>\n      <td>Australian Grand Prix</td>\n    </tr>\n    <tr>\n      <th>2</th>\n      <td>18</td>\n      <td>3</td>\n      <td>Williams</td>\n      <td>9.0</td>\n      <td>2</td>\n      <td>0</td>\n      <td>1</td>\n      <td>Australian Grand Prix</td>\n    </tr>\n    <tr>\n      <th>3</th>\n      <td>19</td>\n      <td>1</td>\n      <td>McLaren</td>\n      <td>24.0</td>\n      <td>1</td>\n      <td>1</td>\n      <td>2</td>\n      <td>Malaysian Grand Prix</td>\n    </tr>\n    <tr>\n      <th>4</th>\n      <td>19</td>\n      <td>2</td>\n      <td>BMW Sauber</td>\n      <td>19.0</td>\n      <td>2</td>\n      <td>0</td>\n      <td>2</td>\n      <td>Malaysian Grand Prix</td>\n    </tr>\n    <tr>\n      <th>...</th>\n      <td>...</td>\n      <td>...</td>\n      <td>...</td>\n      <td>...</td>\n      <td>...</td>\n      <td>...</td>\n      <td>...</td>\n      <td>...</td>\n    </tr>\n    <tr>\n      <th>2923</th>\n      <td>1054</td>\n      <td>9</td>\n      <td>Red Bull</td>\n      <td>83.0</td>\n      <td>2</td>\n      <td>1</td>\n      <td>75</td>\n      <td>Portuguese Grand Prix</td>\n    </tr>\n    <tr>\n      <th>2924</th>\n      <td>1054</td>\n      <td>1</td>\n      <td>McLaren</td>\n      <td>53.0</td>\n      <td>3</td>\n      <td>0</td>\n      <td>75</td>\n      <td>Portuguese Grand Prix</td>\n    </tr>\n    <tr>\n      <th>2925</th>\n      <td>1055</td>\n      <td>131</td>\n      <td>Mercedes</td>\n      <td>141.0</td>\n      <td>1</td>\n      <td>3</td>\n      <td>4</td>\n      <td>Spanish Grand Prix</td>\n    </tr>\n    <tr>\n      <th>2926</th>\n      <td>1055</td>\n      <td>9</td>\n      <td>Red Bull</td>\n      <td>112.0</td>\n      <td>2</td>\n      <td>1</td>\n      <td>4</td>\n      <td>Spanish Grand Prix</td>\n    </tr>\n    <tr>\n      <th>2927</th>\n      <td>1055</td>\n      <td>1</td>\n      <td>McLaren</td>\n      <td>65.0</td>\n      <td>3</td>\n      <td>0</td>\n      <td>4</td>\n      <td>Spanish Grand Prix</td>\n    </tr>\n  </tbody>\n</table>\n<p>2928 rows × 8 columns</p>\n</div>"
     },
     "metadata": {},
     "execution_count": 14
    }
   ],
   "source": [
    "q = \"\"\"select \n",
    "C.raceId, \n",
    "C.constructorId,\n",
    "CName.name,\n",
    "C.points,\n",
    "C.position, \n",
    "C.wins,\n",
    "R.circuitID,\n",
    "R.name as circuitName\n",
    "from constructor_standings C\n",
    "inner join races R\n",
    "on C.raceID = R.raceID\n",
    "inner join constructor CName\n",
    "on CName.constructorId = C.constructorId\n",
    "where C.position = 1\n",
    "or C.position = 2\n",
    "or C.position = 3\n",
    ";\"\"\"\n",
    "constructor_standings_cleaned = pysqldf(q)\n",
    "constructor_standings_cleaned"
   ]
  },
  {
   "cell_type": "code",
   "execution_count": 15,
   "metadata": {},
   "outputs": [],
   "source": [
    "def get_win_location_count(constructor_standings_cleaned):\n",
    "    win_locations = {}\n",
    "    for row in constructor_standings_cleaned.iterrows():\n",
    "        constructorID = row[1]['name']\n",
    "        circuitName = row[1]['circuitName']\n",
    "        if constructorID not in win_locations:\n",
    "            win_locations[constructorID] = {}\n",
    "            win_locations[constructorID][circuitName]= 1\n",
    "        else:\n",
    "            if circuitName not in win_locations[constructorID]:\n",
    "                win_locations[constructorID][circuitName]= 1\n",
    "            else:\n",
    "                win_locations[constructorID][circuitName] += 1\n",
    "    location_df = pd.DataFrame(win_locations)\n",
    "    return win_locations, location_df\n",
    "\n",
    "win_locations, location_df = get_win_location_count(constructor_standings_cleaned)\n",
    "location_df.reset_index(inplace=True)"
   ]
  },
  {
   "source": [
    "Questions to answer here:\n",
    "- Is there a particular constructor that dominates a circuit and has most wins?\n",
    "- Is there a circuit that a constructor is relatively better at?"
   ],
   "cell_type": "markdown",
   "metadata": {}
  },
  {
   "cell_type": "code",
   "execution_count": 16,
   "metadata": {},
   "outputs": [],
   "source": [
    "location_na = location_df.T.isna().sum()\n",
    "for k, circuit in enumerate(list(location_na)):\n",
    "    if circuit > 38:\n",
    "        location_df.drop(k, axis=0, inplace=True)\n",
    "\n",
    "constructor_na = location_df.isna().sum()\n",
    "drop_list = []\n",
    "for k, constructor_n in enumerate(list(constructor_na)):\n",
    "    if constructor_n > 20:\n",
    "        drop_list.append(k)\n",
    "location_df.drop(location_df.columns[drop_list], axis=1, inplace=True)"
   ]
  },
  {
   "cell_type": "code",
   "execution_count": null,
   "metadata": {},
   "outputs": [],
   "source": []
  },
  {
   "source": [
    "How big of an effect do pit stops have on winning the race?"
   ],
   "cell_type": "markdown",
   "metadata": {}
  },
  {
   "cell_type": "code",
   "execution_count": 37,
   "metadata": {},
   "outputs": [],
   "source": [
    "# Let's start with the 2020 season:\n",
    "\n",
    "q = \"\"\"select \n",
    "P.raceId,\n",
    "D.driverRef,\n",
    "P.stop,\n",
    "P.lap,\n",
    "P.milliseconds,\n",
    "DS.position\n",
    "from pit_stops P\n",
    "left join drivers D\n",
    "on P.driverId = D.driverId\n",
    "left join driver_standings DS\n",
    "on P.raceId = DS.raceId\n",
    "and P.driverId = DS.driverId\n",
    "where P.raceId > 1030\n",
    "and P.raceId < 1048\n",
    ";\"\"\"\n",
    "pit_stop_corr = pysqldf(q)"
   ]
  },
  {
   "cell_type": "code",
   "execution_count": 38,
   "metadata": {},
   "outputs": [],
   "source": [
    "pit_stop_corr = pit_stop_corr[pit_stop_corr['milliseconds'] < 60000]"
   ]
  },
  {
   "cell_type": "code",
   "execution_count": 39,
   "metadata": {},
   "outputs": [
    {
     "output_type": "display_data",
     "data": {
      "application/vnd.plotly.v1+json": {
       "config": {
        "plotlyServerURL": "https://plot.ly"
       },
       "data": [
        {
         "hovertemplate": "driverRef=grosjean<br>milliseconds=%{x}<br>raceId=%{y}<br>position=%{z}<extra></extra>",
         "legendgroup": "grosjean",
         "marker": {
          "color": "#636efa",
          "symbol": "circle"
         },
         "mode": "markers",
         "name": "grosjean",
         "scene": "scene",
         "showlegend": true,
         "type": "scatter3d",
         "x": [
          23280,
          22444,
          22591,
          33816,
          29377,
          29803,
          23212,
          24010,
          23636,
          25936,
          24781,
          23720,
          24002,
          30054,
          29988,
          23635,
          26985,
          30422,
          31199,
          26686,
          31422
         ],
         "y": [
          1031,
          1032,
          1033,
          1034,
          1035,
          1035,
          1036,
          1036,
          1037,
          1038,
          1039,
          1039,
          1039,
          1040,
          1040,
          1041,
          1042,
          1043,
          1043,
          1044,
          1044
         ],
         "z": [
          16,
          19,
          19,
          20,
          21,
          21,
          21,
          21,
          21,
          20,
          21,
          21,
          21,
          21,
          21,
          18,
          18,
          18,
          18,
          18,
          18
         ]
        },
        {
         "hovertemplate": "driverRef=raikkonen<br>milliseconds=%{x}<br>raceId=%{y}<br>position=%{z}<extra></extra>",
         "legendgroup": "raikkonen",
         "marker": {
          "color": "#EF553B",
          "symbol": "circle"
         },
         "mode": "markers",
         "name": "raikkonen",
         "scene": "scene",
         "showlegend": true,
         "type": "scatter3d",
         "x": [
          23229,
          21569,
          21459,
          22299,
          27128,
          36590,
          44085,
          29296,
          22314,
          22197,
          22960,
          24454,
          17594,
          30623,
          33281,
          28960,
          33317,
          22865,
          33016,
          29061,
          29863,
          30765,
          31356,
          23180,
          32278,
          25270,
          28518,
          24401,
          24686,
          22012
         ],
         "y": [
          1031,
          1031,
          1032,
          1033,
          1033,
          1034,
          1034,
          1035,
          1036,
          1036,
          1037,
          1038,
          1039,
          1039,
          1039,
          1039,
          1040,
          1041,
          1041,
          1042,
          1043,
          1044,
          1044,
          1044,
          1045,
          1045,
          1046,
          1046,
          1046,
          1047
         ],
         "z": [
          14,
          14,
          17,
          17,
          17,
          18,
          18,
          18,
          18,
          18,
          18,
          19,
          16,
          16,
          16,
          16,
          16,
          17,
          17,
          17,
          16,
          16,
          16,
          16,
          16,
          16,
          16,
          16,
          16,
          16
         ]
        },
        {
         "hovertemplate": "driverRef=giovinazzi<br>milliseconds=%{x}<br>raceId=%{y}<br>position=%{z}<extra></extra>",
         "legendgroup": "giovinazzi",
         "marker": {
          "color": "#00cc96",
          "symbol": "circle"
         },
         "mode": "markers",
         "name": "giovinazzi",
         "scene": "scene",
         "showlegend": true,
         "type": "scatter3d",
         "x": [
          23659,
          22800,
          19678,
          21667,
          22283,
          23082,
          21831,
          28355,
          27892,
          27693,
          22243,
          21794,
          23998,
          31480,
          29767,
          22482,
          22772,
          26473,
          29745,
          25432,
          24145,
          24836,
          24810,
          24551,
          21480
         ],
         "y": [
          1031,
          1031,
          1031,
          1032,
          1033,
          1033,
          1033,
          1034,
          1035,
          1035,
          1036,
          1036,
          1038,
          1038,
          1040,
          1041,
          1041,
          1042,
          1043,
          1044,
          1045,
          1045,
          1046,
          1046,
          1047
         ],
         "z": [
          9,
          9,
          9,
          13,
          14,
          14,
          14,
          14,
          15,
          15,
          15,
          15,
          16,
          16,
          17,
          16,
          16,
          16,
          17,
          17,
          17,
          17,
          17,
          17,
          17
         ]
        },
        {
         "hovertemplate": "driverRef=russell<br>milliseconds=%{x}<br>raceId=%{y}<br>position=%{z}<extra></extra>",
         "legendgroup": "russell",
         "marker": {
          "color": "#ab63fa",
          "symbol": "circle"
         },
         "mode": "markers",
         "name": "russell",
         "scene": "scene",
         "showlegend": true,
         "type": "scatter3d",
         "x": [
          21417,
          21697,
          21184,
          21367,
          22048,
          29302,
          28391,
          28331,
          28692,
          22708,
          21889,
          25249,
          18399,
          23638,
          23367,
          30165,
          29433,
          29675,
          22496,
          32991,
          29707,
          22692,
          22888,
          24029,
          27146,
          24708,
          28765,
          24724,
          24235,
          22085
         ],
         "y": [
          1031,
          1032,
          1033,
          1033,
          1033,
          1034,
          1035,
          1035,
          1035,
          1036,
          1036,
          1038,
          1039,
          1039,
          1039,
          1040,
          1040,
          1040,
          1041,
          1042,
          1043,
          1044,
          1044,
          1045,
          1045,
          1046,
          1046,
          1046,
          1046,
          1047
         ],
         "z": [
          15,
          20,
          20,
          20,
          20,
          19,
          20,
          20,
          20,
          20,
          20,
          21,
          20,
          20,
          20,
          20,
          20,
          20,
          21,
          21,
          21,
          21,
          21,
          21,
          21,
          18,
          18,
          18,
          18,
          18
         ]
        },
        {
         "hovertemplate": "driverRef=bottas<br>milliseconds=%{x}<br>raceId=%{y}<br>position=%{z}<extra></extra>",
         "legendgroup": "bottas",
         "marker": {
          "color": "#FFA15A",
          "symbol": "circle"
         },
         "mode": "markers",
         "name": "bottas",
         "scene": "scene",
         "showlegend": true,
         "type": "scatter3d",
         "x": [
          21937,
          16407,
          21376,
          21906,
          21644,
          21572,
          30571,
          33602,
          28408,
          28188,
          22310,
          22143,
          22607,
          25548,
          24410,
          17560,
          23111,
          23199,
          29750,
          22625,
          26512,
          29600,
          30129,
          23398,
          22853,
          24936,
          24734,
          24675,
          24552,
          52874,
          21587
         ],
         "y": [
          1031,
          1031,
          1032,
          1033,
          1033,
          1033,
          1034,
          1034,
          1035,
          1035,
          1036,
          1036,
          1036,
          1037,
          1038,
          1039,
          1039,
          1039,
          1040,
          1041,
          1042,
          1043,
          1043,
          1044,
          1044,
          1045,
          1045,
          1045,
          1046,
          1046,
          1047
         ],
         "z": [
          1,
          1,
          1,
          2,
          2,
          2,
          2,
          2,
          3,
          3,
          3,
          3,
          3,
          3,
          2,
          2,
          2,
          2,
          2,
          2,
          2,
          2,
          2,
          2,
          2,
          2,
          2,
          2,
          2,
          2,
          2
         ]
        },
        {
         "hovertemplate": "driverRef=hamilton<br>milliseconds=%{x}<br>raceId=%{y}<br>position=%{z}<extra></extra>",
         "legendgroup": "hamilton",
         "marker": {
          "color": "#19d3f3",
          "symbol": "circle"
         },
         "mode": "markers",
         "name": "hamilton",
         "scene": "scene",
         "showlegend": true,
         "type": "scatter3d",
         "x": [
          21850,
          16365,
          21729,
          22320,
          22264,
          22426,
          28805,
          28406,
          29402,
          23377,
          21853,
          23298,
          24671,
          17536,
          22445,
          22800,
          31643,
          41352,
          23983,
          23180,
          27162,
          30382,
          30925,
          23860,
          24061,
          24345,
          22406
         ],
         "y": [
          1031,
          1031,
          1032,
          1033,
          1033,
          1033,
          1034,
          1035,
          1035,
          1036,
          1036,
          1037,
          1038,
          1039,
          1039,
          1039,
          1038,
          1040,
          1041,
          1041,
          1042,
          1043,
          1043,
          1044,
          1045,
          1045,
          1047
         ],
         "z": [
          4,
          4,
          2,
          1,
          1,
          1,
          1,
          1,
          1,
          1,
          1,
          1,
          1,
          1,
          1,
          1,
          1,
          1,
          1,
          1,
          1,
          1,
          1,
          1,
          1,
          1,
          1
         ]
        },
        {
         "hovertemplate": "driverRef=albon<br>milliseconds=%{x}<br>raceId=%{y}<br>position=%{z}<extra></extra>",
         "legendgroup": "albon",
         "marker": {
          "color": "#FF6692",
          "symbol": "circle"
         },
         "mode": "markers",
         "name": "albon",
         "scene": "scene",
         "showlegend": true,
         "type": "scatter3d",
         "x": [
          21279,
          21842,
          17035,
          21505,
          23046,
          22174,
          28834,
          33308,
          28417,
          27858,
          21663,
          21804,
          22738,
          29661,
          17591,
          22387,
          22822,
          30211,
          30111,
          23562,
          26287,
          25882,
          29770,
          29552,
          22602,
          22490,
          24172,
          23848,
          23874,
          23645,
          21508
         ],
         "y": [
          1031,
          1031,
          1031,
          1032,
          1033,
          1033,
          1034,
          1034,
          1035,
          1035,
          1036,
          1036,
          1037,
          1038,
          1039,
          1039,
          1039,
          1040,
          1040,
          1041,
          1042,
          1042,
          1043,
          1043,
          1044,
          1044,
          1045,
          1045,
          1046,
          1046,
          1047
         ],
         "z": [
          13,
          13,
          13,
          8,
          5,
          5,
          6,
          6,
          6,
          6,
          6,
          6,
          4,
          6,
          5,
          5,
          5,
          5,
          5,
          7,
          8,
          8,
          9,
          9,
          9,
          9,
          9,
          9,
          8,
          8,
          7
         ]
        },
        {
         "hovertemplate": "driverRef=norris<br>milliseconds=%{x}<br>raceId=%{y}<br>position=%{z}<extra></extra>",
         "legendgroup": "norris",
         "marker": {
          "color": "#B6E880",
          "symbol": "circle"
         },
         "mode": "markers",
         "name": "norris",
         "scene": "scene",
         "showlegend": true,
         "type": "scatter3d",
         "x": [
          23637,
          21921,
          18163,
          22406,
          23012,
          22742,
          30289,
          27949,
          28874,
          22099,
          21761,
          23046,
          24612,
          17845,
          24137,
          24820,
          37108,
          31368,
          21991,
          34807,
          27750,
          29683,
          30203,
          22684,
          23686,
          24679,
          24666,
          24885,
          24245,
          21840
         ],
         "y": [
          1031,
          1031,
          1031,
          1032,
          1033,
          1033,
          1034,
          1035,
          1035,
          1036,
          1036,
          1037,
          1038,
          1039,
          1039,
          1039,
          1040,
          1040,
          1041,
          1042,
          1042,
          1043,
          1043,
          1044,
          1044,
          1045,
          1045,
          1046,
          1046,
          1047
         ],
         "z": [
          3,
          3,
          3,
          3,
          4,
          4,
          4,
          5,
          5,
          7,
          7,
          6,
          5,
          4,
          4,
          4,
          4,
          4,
          6,
          7,
          7,
          7,
          7,
          8,
          8,
          7,
          7,
          9,
          9,
          9
         ]
        },
        {
         "hovertemplate": "driverRef=perez<br>milliseconds=%{x}<br>raceId=%{y}<br>position=%{z}<extra></extra>",
         "legendgroup": "perez",
         "marker": {
          "color": "#FF97FF",
          "symbol": "circle"
         },
         "mode": "markers",
         "name": "perez",
         "scene": "scene",
         "showlegend": true,
         "type": "scatter3d",
         "x": [
          22383,
          16546,
          22761,
          23263,
          22051,
          22641,
          23175,
          26693,
          17531,
          23088,
          23002,
          29602,
          22880,
          22612,
          26177,
          26635,
          29985,
          30555,
          25163,
          24317,
          24589,
          24214,
          24507
         ],
         "y": [
          1031,
          1031,
          1032,
          1033,
          1033,
          1036,
          1037,
          1038,
          1039,
          1039,
          1039,
          1040,
          1041,
          1041,
          1042,
          1042,
          1043,
          1043,
          1044,
          1045,
          1045,
          1046,
          1046
         ],
         "z": [
          6,
          6,
          5,
          6,
          6,
          8,
          9,
          11,
          9,
          9,
          9,
          9,
          5,
          5,
          6,
          6,
          6,
          6,
          4,
          5,
          5,
          4,
          4
         ]
        },
        {
         "hovertemplate": "driverRef=leclerc<br>milliseconds=%{x}<br>raceId=%{y}<br>position=%{z}<extra></extra>",
         "legendgroup": "leclerc",
         "marker": {
          "color": "#FECB52",
          "symbol": "circle"
         },
         "mode": "markers",
         "name": "leclerc",
         "scene": "scene",
         "showlegend": true,
         "type": "scatter3d",
         "x": [
          22756,
          21972,
          18748,
          39715,
          22266,
          22564,
          29520,
          29419,
          22274,
          30678,
          25100,
          24344,
          17516,
          23469,
          23367,
          30261,
          22560,
          23111,
          26940,
          30243,
          24275,
          23687,
          25199,
          24855,
          22178
         ],
         "y": [
          1031,
          1031,
          1031,
          1032,
          1033,
          1033,
          1034,
          1035,
          1036,
          1037,
          1037,
          1038,
          1039,
          1039,
          1039,
          1040,
          1041,
          1041,
          1042,
          1043,
          1044,
          1044,
          1045,
          1045,
          1047
         ],
         "z": [
          2,
          2,
          2,
          4,
          7,
          7,
          5,
          4,
          4,
          5,
          5,
          7,
          8,
          8,
          8,
          7,
          8,
          8,
          5,
          5,
          5,
          5,
          6,
          6,
          8
         ]
        },
        {
         "hovertemplate": "driverRef=sainz<br>milliseconds=%{x}<br>raceId=%{y}<br>position=%{z}<extra></extra>",
         "legendgroup": "sainz",
         "marker": {
          "color": "#636efa",
          "symbol": "circle"
         },
         "mode": "markers",
         "name": "sainz",
         "scene": "scene",
         "showlegend": true,
         "type": "scatter3d",
         "x": [
          23827,
          21805,
          20064,
          25983,
          21873,
          27131,
          22438,
          28487,
          36278,
          35864,
          28772,
          22078,
          22166,
          24398,
          22641,
          22503,
          27299,
          29950,
          30614,
          23910,
          23537,
          24511,
          25502,
          24162,
          24853,
          22140
         ],
         "y": [
          1031,
          1031,
          1031,
          1032,
          1032,
          1033,
          1033,
          1034,
          1034,
          1035,
          1035,
          1036,
          1036,
          1038,
          1041,
          1041,
          1042,
          1043,
          1043,
          1044,
          1044,
          1045,
          1045,
          1046,
          1046,
          1047
         ],
         "z": [
          5,
          5,
          5,
          7,
          7,
          9,
          9,
          10,
          10,
          11,
          11,
          9,
          9,
          9,
          11,
          11,
          10,
          8,
          8,
          7,
          7,
          8,
          8,
          7,
          7,
          6
         ]
        },
        {
         "hovertemplate": "driverRef=vettel<br>milliseconds=%{x}<br>raceId=%{y}<br>position=%{z}<extra></extra>",
         "legendgroup": "vettel",
         "marker": {
          "color": "#EF553B",
          "symbol": "circle"
         },
         "mode": "markers",
         "name": "vettel",
         "scene": "scene",
         "showlegend": true,
         "type": "scatter3d",
         "x": [
          22231,
          22738,
          19330,
          28286,
          21880,
          29439,
          28167,
          28352,
          21820,
          22982,
          17516,
          33583,
          22995,
          22489,
          29395,
          22616,
          24366,
          26666,
          40497,
          29934,
          24022,
          25401,
          24774,
          25444,
          26216,
          28080,
          24809,
          22040
         ],
         "y": [
          1031,
          1031,
          1031,
          1033,
          1033,
          1034,
          1035,
          1035,
          1036,
          1037,
          1039,
          1039,
          1039,
          1039,
          1040,
          1041,
          1041,
          1042,
          1043,
          1043,
          1044,
          1044,
          1045,
          1045,
          1046,
          1046,
          1046,
          1047
         ],
         "z": [
          10,
          10,
          10,
          10,
          10,
          13,
          13,
          13,
          11,
          13,
          13,
          13,
          13,
          13,
          13,
          13,
          13,
          13,
          14,
          14,
          13,
          13,
          13,
          13,
          13,
          13,
          13,
          13
         ]
        },
        {
         "hovertemplate": "driverRef=gasly<br>milliseconds=%{x}<br>raceId=%{y}<br>position=%{z}<extra></extra>",
         "legendgroup": "gasly",
         "marker": {
          "color": "#00cc96",
          "symbol": "circle"
         },
         "mode": "markers",
         "name": "gasly",
         "scene": "scene",
         "showlegend": true,
         "type": "scatter3d",
         "x": [
          22466,
          19911,
          21950,
          22280,
          22740,
          29414,
          28356,
          28306,
          22241,
          22394,
          22681,
          24096,
          29770,
          29409,
          22625,
          22917,
          27204,
          23669,
          23288,
          24398,
          25077,
          24577,
          22000
         ],
         "y": [
          1031,
          1031,
          1032,
          1032,
          1033,
          1034,
          1035,
          1035,
          1036,
          1036,
          1037,
          1038,
          1040,
          1040,
          1041,
          1041,
          1042,
          1044,
          1044,
          1045,
          1046,
          1046,
          1047
         ],
         "z": [
          7,
          7,
          9,
          9,
          12,
          12,
          12,
          12,
          13,
          13,
          12,
          8,
          10,
          10,
          10,
          10,
          9,
          10,
          10,
          10,
          11,
          11,
          10
         ]
        },
        {
         "hovertemplate": "driverRef=kvyat<br>milliseconds=%{x}<br>raceId=%{y}<br>position=%{z}<extra></extra>",
         "legendgroup": "kvyat",
         "marker": {
          "color": "#ab63fa",
          "symbol": "circle"
         },
         "mode": "markers",
         "name": "kvyat",
         "scene": "scene",
         "showlegend": true,
         "type": "scatter3d",
         "x": [
          22769,
          21622,
          19656,
          22197,
          23568,
          22685,
          28036,
          28365,
          23036,
          22079,
          23769,
          25920,
          17522,
          23113,
          22745,
          29662,
          30826,
          22527,
          27211,
          32943,
          30277,
          29809,
          23417,
          37317,
          24135,
          24101,
          24232,
          25724
         ],
         "y": [
          1031,
          1031,
          1031,
          1032,
          1033,
          1033,
          1035,
          1035,
          1036,
          1036,
          1037,
          1038,
          1039,
          1039,
          1039,
          1040,
          1041,
          1041,
          1042,
          1042,
          1043,
          1043,
          1044,
          1045,
          1045,
          1046,
          1046,
          1047
         ],
         "z": [
          12,
          12,
          12,
          14,
          15,
          15,
          16,
          16,
          16,
          16,
          16,
          15,
          14,
          14,
          14,
          14,
          14,
          14,
          14,
          14,
          13,
          13,
          14,
          14,
          14,
          14,
          14,
          14
         ]
        },
        {
         "hovertemplate": "driverRef=ocon<br>milliseconds=%{x}<br>raceId=%{y}<br>position=%{z}<extra></extra>",
         "legendgroup": "ocon",
         "marker": {
          "color": "#FFA15A",
          "symbol": "circle"
         },
         "mode": "markers",
         "name": "ocon",
         "scene": "scene",
         "showlegend": true,
         "type": "scatter3d",
         "x": [
          21683,
          19626,
          24281,
          21860,
          30768,
          28093,
          22366,
          24305,
          25290,
          17455,
          30068,
          28535,
          30559,
          25719,
          23475,
          24076,
          25254,
          24414,
          21615
         ],
         "y": [
          1031,
          1031,
          1033,
          1033,
          1034,
          1035,
          1036,
          1037,
          1038,
          1039,
          1040,
          1042,
          1043,
          1044,
          1044,
          1045,
          1045,
          1046,
          1047
         ],
         "z": [
          8,
          8,
          13,
          13,
          11,
          10,
          12,
          10,
          12,
          12,
          12,
          12,
          12,
          12,
          12,
          12,
          12,
          12,
          12
         ]
        },
        {
         "hovertemplate": "driverRef=latifi<br>milliseconds=%{x}<br>raceId=%{y}<br>position=%{z}<extra></extra>",
         "legendgroup": "latifi",
         "marker": {
          "color": "#19d3f3",
          "symbol": "circle"
         },
         "mode": "markers",
         "name": "latifi",
         "scene": "scene",
         "showlegend": true,
         "type": "scatter3d",
         "x": [
          22058,
          21918,
          19488,
          22745,
          21596,
          36335,
          28367,
          21802,
          25767,
          31371,
          28696,
          28086,
          29049,
          22322,
          22475,
          23532,
          23477,
          26335,
          29862,
          24737,
          24063,
          26739,
          29892,
          24738,
          36599,
          24248,
          24024,
          24297,
          21357,
          22384
         ],
         "y": [
          1031,
          1031,
          1031,
          1032,
          1033,
          1033,
          1033,
          1033,
          1033,
          1034,
          1035,
          1035,
          1035,
          1036,
          1036,
          1037,
          1037,
          1038,
          1040,
          1041,
          1041,
          1042,
          1043,
          1044,
          1044,
          1045,
          1045,
          1046,
          1047,
          1047
         ],
         "z": [
          11,
          11,
          11,
          16,
          18,
          18,
          18,
          18,
          18,
          17,
          19,
          19,
          19,
          19,
          19,
          19,
          19,
          18,
          19,
          20,
          20,
          20,
          20,
          20,
          20,
          20,
          20,
          21,
          21,
          21
         ]
        },
        {
         "hovertemplate": "driverRef=max_verstappen<br>milliseconds=%{x}<br>raceId=%{y}<br>position=%{z}<extra></extra>",
         "legendgroup": "max_verstappen",
         "marker": {
          "color": "#FF6692",
          "symbol": "circle"
         },
         "mode": "markers",
         "name": "max_verstappen",
         "scene": "scene",
         "showlegend": true,
         "type": "scatter3d",
         "x": [
          20937,
          21091,
          21529,
          21268,
          28208,
          28273,
          29115,
          28986,
          21532,
          21601,
          23314,
          26149,
          28748,
          22106,
          22568,
          26394,
          29427,
          24256,
          22518,
          22787,
          24622,
          26950,
          23906,
          21289
         ],
         "y": [
          1032,
          1032,
          1033,
          1033,
          1034,
          1034,
          1035,
          1035,
          1036,
          1036,
          1037,
          1038,
          1040,
          1041,
          1041,
          1042,
          1043,
          1044,
          1044,
          1044,
          1045,
          1045,
          1045,
          1047
         ],
         "z": [
          6,
          6,
          3,
          3,
          3,
          3,
          2,
          2,
          2,
          2,
          2,
          3,
          3,
          3,
          3,
          3,
          3,
          3,
          3,
          3,
          3,
          3,
          3,
          3
         ]
        },
        {
         "hovertemplate": "driverRef=kevin_magnussen<br>milliseconds=%{x}<br>raceId=%{y}<br>position=%{z}<extra></extra>",
         "legendgroup": "kevin_magnussen",
         "marker": {
          "color": "#B6E880",
          "symbol": "circle"
         },
         "mode": "markers",
         "name": "kevin_magnussen",
         "scene": "scene",
         "showlegend": true,
         "type": "scatter3d",
         "x": [
          21977,
          23621,
          28934,
          29389,
          24148,
          26156,
          24339,
          40078,
          30188,
          23016,
          23114,
          27300,
          30708,
          24552,
          38297,
          25924,
          25793,
          25474,
          25466,
          22714,
          23098
         ],
         "y": [
          1032,
          1033,
          1035,
          1035,
          1036,
          1037,
          1037,
          1038,
          1040,
          1041,
          1041,
          1042,
          1043,
          1044,
          1045,
          1045,
          1045,
          1046,
          1046,
          1047,
          1047
         ],
         "z": [
          18,
          16,
          17,
          17,
          17,
          17,
          17,
          17,
          18,
          19,
          19,
          19,
          19,
          19,
          19,
          19,
          19,
          20,
          20,
          20,
          20
         ]
        },
        {
         "hovertemplate": "driverRef=stroll<br>milliseconds=%{x}<br>raceId=%{y}<br>position=%{z}<extra></extra>",
         "legendgroup": "stroll",
         "marker": {
          "color": "#FF97FF",
          "symbol": "circle"
         },
         "mode": "markers",
         "name": "stroll",
         "scene": "scene",
         "showlegend": true,
         "type": "scatter3d",
         "x": [
          22118,
          23081,
          22534,
          22057,
          28716,
          28235,
          27974,
          22351,
          22388,
          23689,
          17625,
          22846,
          36314,
          37483,
          36189,
          30566,
          36630,
          23730,
          23650,
          24684,
          22036
         ],
         "y": [
          1032,
          1033,
          1033,
          1033,
          1034,
          1035,
          1035,
          1036,
          1036,
          1037,
          1039,
          1039,
          1042,
          1042,
          1043,
          1043,
          1043,
          1044,
          1044,
          1046,
          1047
         ],
         "z": [
          10,
          8,
          8,
          8,
          8,
          7,
          7,
          5,
          5,
          7,
          6,
          6,
          11,
          11,
          11,
          11,
          11,
          11,
          11,
          10,
          11
         ]
        },
        {
         "hovertemplate": "driverRef=ricciardo<br>milliseconds=%{x}<br>raceId=%{y}<br>position=%{z}<extra></extra>",
         "legendgroup": "ricciardo",
         "marker": {
          "color": "#FECB52",
          "symbol": "circle"
         },
         "mode": "markers",
         "name": "ricciardo",
         "scene": "scene",
         "showlegend": true,
         "type": "scatter3d",
         "x": [
          21603,
          21920,
          22073,
          29559,
          28587,
          28167,
          28057,
          21837,
          23586,
          25498,
          17464,
          22777,
          22963,
          30112,
          22159,
          22530,
          26999,
          30204,
          23470,
          23208,
          24617,
          24817,
          24474,
          24695,
          22123
         ],
         "y": [
          1032,
          1033,
          1033,
          1034,
          1035,
          1035,
          1035,
          1036,
          1037,
          1038,
          1039,
          1039,
          1039,
          1040,
          1041,
          1041,
          1042,
          1043,
          1044,
          1044,
          1045,
          1045,
          1046,
          1046,
          1047
         ],
         "z": [
          12,
          11,
          11,
          9,
          9,
          9,
          9,
          10,
          8,
          10,
          7,
          7,
          7,
          6,
          4,
          4,
          4,
          4,
          6,
          6,
          4,
          4,
          5,
          5,
          5
         ]
        },
        {
         "hovertemplate": "driverRef=hulkenberg<br>milliseconds=%{x}<br>raceId=%{y}<br>position=%{z}<extra></extra>",
         "legendgroup": "hulkenberg",
         "marker": {
          "color": "#636efa",
          "symbol": "circle"
         },
         "mode": "markers",
         "name": "hulkenberg",
         "scene": "scene",
         "showlegend": true,
         "type": "scatter3d",
         "x": [
          28981,
          28386,
          28736,
          22700,
          22686
         ],
         "y": [
          1035,
          1035,
          1035,
          1041,
          1041
         ],
         "z": [
          14,
          14,
          14,
          15,
          15
         ]
        },
        {
         "hovertemplate": "driverRef=aitken<br>milliseconds=%{x}<br>raceId=%{y}<br>position=%{z}<extra></extra>",
         "legendgroup": "aitken",
         "marker": {
          "color": "#EF553B",
          "symbol": "circle"
         },
         "mode": "markers",
         "name": "aitken",
         "scene": "scene",
         "showlegend": true,
         "type": "scatter3d",
         "x": [
          24863,
          25688,
          40028
         ],
         "y": [
          1046,
          1046,
          1046
         ],
         "z": [
          22,
          22,
          22
         ]
        },
        {
         "hovertemplate": "driverRef=pietro_fittipaldi<br>milliseconds=%{x}<br>raceId=%{y}<br>position=%{z}<extra></extra>",
         "legendgroup": "pietro_fittipaldi",
         "marker": {
          "color": "#00cc96",
          "symbol": "circle"
         },
         "mode": "markers",
         "name": "pietro_fittipaldi",
         "scene": "scene",
         "showlegend": true,
         "type": "scatter3d",
         "x": [
          27681,
          26393,
          25780,
          26329,
          28501,
          23217
         ],
         "y": [
          1046,
          1046,
          1046,
          1047,
          1047,
          1047
         ],
         "z": [
          23,
          23,
          23,
          23,
          23,
          23
         ]
        }
       ],
       "layout": {
        "legend": {
         "title": {
          "text": "driverRef"
         },
         "tracegroupgap": 0
        },
        "margin": {
         "t": 60
        },
        "scene": {
         "domain": {
          "x": [
           0,
           1
          ],
          "y": [
           0,
           1
          ]
         },
         "xaxis": {
          "title": {
           "text": "milliseconds"
          }
         },
         "yaxis": {
          "title": {
           "text": "raceId"
          }
         },
         "zaxis": {
          "title": {
           "text": "position"
          }
         }
        },
        "template": {
         "data": {
          "bar": [
           {
            "error_x": {
             "color": "#2a3f5f"
            },
            "error_y": {
             "color": "#2a3f5f"
            },
            "marker": {
             "line": {
              "color": "#E5ECF6",
              "width": 0.5
             }
            },
            "type": "bar"
           }
          ],
          "barpolar": [
           {
            "marker": {
             "line": {
              "color": "#E5ECF6",
              "width": 0.5
             }
            },
            "type": "barpolar"
           }
          ],
          "carpet": [
           {
            "aaxis": {
             "endlinecolor": "#2a3f5f",
             "gridcolor": "white",
             "linecolor": "white",
             "minorgridcolor": "white",
             "startlinecolor": "#2a3f5f"
            },
            "baxis": {
             "endlinecolor": "#2a3f5f",
             "gridcolor": "white",
             "linecolor": "white",
             "minorgridcolor": "white",
             "startlinecolor": "#2a3f5f"
            },
            "type": "carpet"
           }
          ],
          "choropleth": [
           {
            "colorbar": {
             "outlinewidth": 0,
             "ticks": ""
            },
            "type": "choropleth"
           }
          ],
          "contour": [
           {
            "colorbar": {
             "outlinewidth": 0,
             "ticks": ""
            },
            "colorscale": [
             [
              0,
              "#0d0887"
             ],
             [
              0.1111111111111111,
              "#46039f"
             ],
             [
              0.2222222222222222,
              "#7201a8"
             ],
             [
              0.3333333333333333,
              "#9c179e"
             ],
             [
              0.4444444444444444,
              "#bd3786"
             ],
             [
              0.5555555555555556,
              "#d8576b"
             ],
             [
              0.6666666666666666,
              "#ed7953"
             ],
             [
              0.7777777777777778,
              "#fb9f3a"
             ],
             [
              0.8888888888888888,
              "#fdca26"
             ],
             [
              1,
              "#f0f921"
             ]
            ],
            "type": "contour"
           }
          ],
          "contourcarpet": [
           {
            "colorbar": {
             "outlinewidth": 0,
             "ticks": ""
            },
            "type": "contourcarpet"
           }
          ],
          "heatmap": [
           {
            "colorbar": {
             "outlinewidth": 0,
             "ticks": ""
            },
            "colorscale": [
             [
              0,
              "#0d0887"
             ],
             [
              0.1111111111111111,
              "#46039f"
             ],
             [
              0.2222222222222222,
              "#7201a8"
             ],
             [
              0.3333333333333333,
              "#9c179e"
             ],
             [
              0.4444444444444444,
              "#bd3786"
             ],
             [
              0.5555555555555556,
              "#d8576b"
             ],
             [
              0.6666666666666666,
              "#ed7953"
             ],
             [
              0.7777777777777778,
              "#fb9f3a"
             ],
             [
              0.8888888888888888,
              "#fdca26"
             ],
             [
              1,
              "#f0f921"
             ]
            ],
            "type": "heatmap"
           }
          ],
          "heatmapgl": [
           {
            "colorbar": {
             "outlinewidth": 0,
             "ticks": ""
            },
            "colorscale": [
             [
              0,
              "#0d0887"
             ],
             [
              0.1111111111111111,
              "#46039f"
             ],
             [
              0.2222222222222222,
              "#7201a8"
             ],
             [
              0.3333333333333333,
              "#9c179e"
             ],
             [
              0.4444444444444444,
              "#bd3786"
             ],
             [
              0.5555555555555556,
              "#d8576b"
             ],
             [
              0.6666666666666666,
              "#ed7953"
             ],
             [
              0.7777777777777778,
              "#fb9f3a"
             ],
             [
              0.8888888888888888,
              "#fdca26"
             ],
             [
              1,
              "#f0f921"
             ]
            ],
            "type": "heatmapgl"
           }
          ],
          "histogram": [
           {
            "marker": {
             "colorbar": {
              "outlinewidth": 0,
              "ticks": ""
             }
            },
            "type": "histogram"
           }
          ],
          "histogram2d": [
           {
            "colorbar": {
             "outlinewidth": 0,
             "ticks": ""
            },
            "colorscale": [
             [
              0,
              "#0d0887"
             ],
             [
              0.1111111111111111,
              "#46039f"
             ],
             [
              0.2222222222222222,
              "#7201a8"
             ],
             [
              0.3333333333333333,
              "#9c179e"
             ],
             [
              0.4444444444444444,
              "#bd3786"
             ],
             [
              0.5555555555555556,
              "#d8576b"
             ],
             [
              0.6666666666666666,
              "#ed7953"
             ],
             [
              0.7777777777777778,
              "#fb9f3a"
             ],
             [
              0.8888888888888888,
              "#fdca26"
             ],
             [
              1,
              "#f0f921"
             ]
            ],
            "type": "histogram2d"
           }
          ],
          "histogram2dcontour": [
           {
            "colorbar": {
             "outlinewidth": 0,
             "ticks": ""
            },
            "colorscale": [
             [
              0,
              "#0d0887"
             ],
             [
              0.1111111111111111,
              "#46039f"
             ],
             [
              0.2222222222222222,
              "#7201a8"
             ],
             [
              0.3333333333333333,
              "#9c179e"
             ],
             [
              0.4444444444444444,
              "#bd3786"
             ],
             [
              0.5555555555555556,
              "#d8576b"
             ],
             [
              0.6666666666666666,
              "#ed7953"
             ],
             [
              0.7777777777777778,
              "#fb9f3a"
             ],
             [
              0.8888888888888888,
              "#fdca26"
             ],
             [
              1,
              "#f0f921"
             ]
            ],
            "type": "histogram2dcontour"
           }
          ],
          "mesh3d": [
           {
            "colorbar": {
             "outlinewidth": 0,
             "ticks": ""
            },
            "type": "mesh3d"
           }
          ],
          "parcoords": [
           {
            "line": {
             "colorbar": {
              "outlinewidth": 0,
              "ticks": ""
             }
            },
            "type": "parcoords"
           }
          ],
          "pie": [
           {
            "automargin": true,
            "type": "pie"
           }
          ],
          "scatter": [
           {
            "marker": {
             "colorbar": {
              "outlinewidth": 0,
              "ticks": ""
             }
            },
            "type": "scatter"
           }
          ],
          "scatter3d": [
           {
            "line": {
             "colorbar": {
              "outlinewidth": 0,
              "ticks": ""
             }
            },
            "marker": {
             "colorbar": {
              "outlinewidth": 0,
              "ticks": ""
             }
            },
            "type": "scatter3d"
           }
          ],
          "scattercarpet": [
           {
            "marker": {
             "colorbar": {
              "outlinewidth": 0,
              "ticks": ""
             }
            },
            "type": "scattercarpet"
           }
          ],
          "scattergeo": [
           {
            "marker": {
             "colorbar": {
              "outlinewidth": 0,
              "ticks": ""
             }
            },
            "type": "scattergeo"
           }
          ],
          "scattergl": [
           {
            "marker": {
             "colorbar": {
              "outlinewidth": 0,
              "ticks": ""
             }
            },
            "type": "scattergl"
           }
          ],
          "scattermapbox": [
           {
            "marker": {
             "colorbar": {
              "outlinewidth": 0,
              "ticks": ""
             }
            },
            "type": "scattermapbox"
           }
          ],
          "scatterpolar": [
           {
            "marker": {
             "colorbar": {
              "outlinewidth": 0,
              "ticks": ""
             }
            },
            "type": "scatterpolar"
           }
          ],
          "scatterpolargl": [
           {
            "marker": {
             "colorbar": {
              "outlinewidth": 0,
              "ticks": ""
             }
            },
            "type": "scatterpolargl"
           }
          ],
          "scatterternary": [
           {
            "marker": {
             "colorbar": {
              "outlinewidth": 0,
              "ticks": ""
             }
            },
            "type": "scatterternary"
           }
          ],
          "surface": [
           {
            "colorbar": {
             "outlinewidth": 0,
             "ticks": ""
            },
            "colorscale": [
             [
              0,
              "#0d0887"
             ],
             [
              0.1111111111111111,
              "#46039f"
             ],
             [
              0.2222222222222222,
              "#7201a8"
             ],
             [
              0.3333333333333333,
              "#9c179e"
             ],
             [
              0.4444444444444444,
              "#bd3786"
             ],
             [
              0.5555555555555556,
              "#d8576b"
             ],
             [
              0.6666666666666666,
              "#ed7953"
             ],
             [
              0.7777777777777778,
              "#fb9f3a"
             ],
             [
              0.8888888888888888,
              "#fdca26"
             ],
             [
              1,
              "#f0f921"
             ]
            ],
            "type": "surface"
           }
          ],
          "table": [
           {
            "cells": {
             "fill": {
              "color": "#EBF0F8"
             },
             "line": {
              "color": "white"
             }
            },
            "header": {
             "fill": {
              "color": "#C8D4E3"
             },
             "line": {
              "color": "white"
             }
            },
            "type": "table"
           }
          ]
         },
         "layout": {
          "annotationdefaults": {
           "arrowcolor": "#2a3f5f",
           "arrowhead": 0,
           "arrowwidth": 1
          },
          "autotypenumbers": "strict",
          "coloraxis": {
           "colorbar": {
            "outlinewidth": 0,
            "ticks": ""
           }
          },
          "colorscale": {
           "diverging": [
            [
             0,
             "#8e0152"
            ],
            [
             0.1,
             "#c51b7d"
            ],
            [
             0.2,
             "#de77ae"
            ],
            [
             0.3,
             "#f1b6da"
            ],
            [
             0.4,
             "#fde0ef"
            ],
            [
             0.5,
             "#f7f7f7"
            ],
            [
             0.6,
             "#e6f5d0"
            ],
            [
             0.7,
             "#b8e186"
            ],
            [
             0.8,
             "#7fbc41"
            ],
            [
             0.9,
             "#4d9221"
            ],
            [
             1,
             "#276419"
            ]
           ],
           "sequential": [
            [
             0,
             "#0d0887"
            ],
            [
             0.1111111111111111,
             "#46039f"
            ],
            [
             0.2222222222222222,
             "#7201a8"
            ],
            [
             0.3333333333333333,
             "#9c179e"
            ],
            [
             0.4444444444444444,
             "#bd3786"
            ],
            [
             0.5555555555555556,
             "#d8576b"
            ],
            [
             0.6666666666666666,
             "#ed7953"
            ],
            [
             0.7777777777777778,
             "#fb9f3a"
            ],
            [
             0.8888888888888888,
             "#fdca26"
            ],
            [
             1,
             "#f0f921"
            ]
           ],
           "sequentialminus": [
            [
             0,
             "#0d0887"
            ],
            [
             0.1111111111111111,
             "#46039f"
            ],
            [
             0.2222222222222222,
             "#7201a8"
            ],
            [
             0.3333333333333333,
             "#9c179e"
            ],
            [
             0.4444444444444444,
             "#bd3786"
            ],
            [
             0.5555555555555556,
             "#d8576b"
            ],
            [
             0.6666666666666666,
             "#ed7953"
            ],
            [
             0.7777777777777778,
             "#fb9f3a"
            ],
            [
             0.8888888888888888,
             "#fdca26"
            ],
            [
             1,
             "#f0f921"
            ]
           ]
          },
          "colorway": [
           "#636efa",
           "#EF553B",
           "#00cc96",
           "#ab63fa",
           "#FFA15A",
           "#19d3f3",
           "#FF6692",
           "#B6E880",
           "#FF97FF",
           "#FECB52"
          ],
          "font": {
           "color": "#2a3f5f"
          },
          "geo": {
           "bgcolor": "white",
           "lakecolor": "white",
           "landcolor": "#E5ECF6",
           "showlakes": true,
           "showland": true,
           "subunitcolor": "white"
          },
          "hoverlabel": {
           "align": "left"
          },
          "hovermode": "closest",
          "mapbox": {
           "style": "light"
          },
          "paper_bgcolor": "white",
          "plot_bgcolor": "#E5ECF6",
          "polar": {
           "angularaxis": {
            "gridcolor": "white",
            "linecolor": "white",
            "ticks": ""
           },
           "bgcolor": "#E5ECF6",
           "radialaxis": {
            "gridcolor": "white",
            "linecolor": "white",
            "ticks": ""
           }
          },
          "scene": {
           "xaxis": {
            "backgroundcolor": "#E5ECF6",
            "gridcolor": "white",
            "gridwidth": 2,
            "linecolor": "white",
            "showbackground": true,
            "ticks": "",
            "zerolinecolor": "white"
           },
           "yaxis": {
            "backgroundcolor": "#E5ECF6",
            "gridcolor": "white",
            "gridwidth": 2,
            "linecolor": "white",
            "showbackground": true,
            "ticks": "",
            "zerolinecolor": "white"
           },
           "zaxis": {
            "backgroundcolor": "#E5ECF6",
            "gridcolor": "white",
            "gridwidth": 2,
            "linecolor": "white",
            "showbackground": true,
            "ticks": "",
            "zerolinecolor": "white"
           }
          },
          "shapedefaults": {
           "line": {
            "color": "#2a3f5f"
           }
          },
          "ternary": {
           "aaxis": {
            "gridcolor": "white",
            "linecolor": "white",
            "ticks": ""
           },
           "baxis": {
            "gridcolor": "white",
            "linecolor": "white",
            "ticks": ""
           },
           "bgcolor": "#E5ECF6",
           "caxis": {
            "gridcolor": "white",
            "linecolor": "white",
            "ticks": ""
           }
          },
          "title": {
           "x": 0.05
          },
          "xaxis": {
           "automargin": true,
           "gridcolor": "white",
           "linecolor": "white",
           "ticks": "",
           "title": {
            "standoff": 15
           },
           "zerolinecolor": "white",
           "zerolinewidth": 2
          },
          "yaxis": {
           "automargin": true,
           "gridcolor": "white",
           "linecolor": "white",
           "ticks": "",
           "title": {
            "standoff": 15
           },
           "zerolinecolor": "white",
           "zerolinewidth": 2
          }
         }
        }
       }
      }
     },
     "metadata": {}
    }
   ],
   "source": [
    "df = px.data.iris()\n",
    "# fig = px.scatter_3d(df, x='sepal_length', y='sepal_width', z='petal_width',\n",
    "#                     color='petal_length', symbol='species')\n",
    "# fig.show()\n",
    "\n",
    "fig = px.scatter_3d(pit_stop_corr, x='milliseconds', y='raceId', z='position',\n",
    "                    color='driverRef')\n",
    "fig.show()"
   ]
  },
  {
   "cell_type": "code",
   "execution_count": 19,
   "metadata": {},
   "outputs": [
    {
     "output_type": "execute_result",
     "data": {
      "text/plain": [
       "      raceId  year  round  circuitId                         name        date  \\\n",
       "1018    1031  2020      1         70          Austrian Grand Prix  2020-07-05   \n",
       "1019    1032  2020      2         70           Styrian Grand Prix  2020-07-12   \n",
       "1020    1033  2020      3         11         Hungarian Grand Prix  2020-07-19   \n",
       "1021    1034  2020      4          9           British Grand Prix  2020-08-02   \n",
       "1022    1035  2020      5          9  70th Anniversary Grand Prix  2020-08-09   \n",
       "1023    1036  2020      6          4           Spanish Grand Prix  2020-08-16   \n",
       "1024    1037  2020      7         13           Belgian Grand Prix  2020-08-30   \n",
       "1025    1038  2020      8         14           Italian Grand Prix  2020-09-06   \n",
       "1026    1039  2020      9         76            Tuscan Grand Prix  2020-09-13   \n",
       "1027    1040  2020     10         71           Russian Grand Prix  2020-09-27   \n",
       "1028    1041  2020     11         20             Eifel Grand Prix  2020-10-11   \n",
       "1029    1042  2020     12         75        Portuguese Grand Prix  2020-10-25   \n",
       "1030    1043  2020     13         21    Emilia Romagna Grand Prix  2020-11-01   \n",
       "1031    1044  2020     14          5           Turkish Grand Prix  2020-11-15   \n",
       "1032    1045  2020     15          3           Bahrain Grand Prix  2020-11-29   \n",
       "1033    1046  2020     16          3            Sakhir Grand Prix  2020-12-06   \n",
       "1034    1047  2020     17         24         Abu Dhabi Grand Prix  2020-12-13   \n",
       "\n",
       "          time  \n",
       "1018  13:10:00  \n",
       "1019  13:10:00  \n",
       "1020  13:10:00  \n",
       "1021  13:10:00  \n",
       "1022  13:10:00  \n",
       "1023  13:10:00  \n",
       "1024  13:10:00  \n",
       "1025  13:10:00  \n",
       "1026  13:10:00  \n",
       "1027  11:10:00  \n",
       "1028  13:10:00  \n",
       "1029  12:10:00  \n",
       "1030  12:10:00  \n",
       "1031  10:10:00  \n",
       "1032  14:10:00  \n",
       "1033  17:10:00  \n",
       "1034  13:10:00  "
      ],
      "text/html": "<div>\n<style scoped>\n    .dataframe tbody tr th:only-of-type {\n        vertical-align: middle;\n    }\n\n    .dataframe tbody tr th {\n        vertical-align: top;\n    }\n\n    .dataframe thead th {\n        text-align: right;\n    }\n</style>\n<table border=\"1\" class=\"dataframe\">\n  <thead>\n    <tr style=\"text-align: right;\">\n      <th></th>\n      <th>raceId</th>\n      <th>year</th>\n      <th>round</th>\n      <th>circuitId</th>\n      <th>name</th>\n      <th>date</th>\n      <th>time</th>\n    </tr>\n  </thead>\n  <tbody>\n    <tr>\n      <th>1018</th>\n      <td>1031</td>\n      <td>2020</td>\n      <td>1</td>\n      <td>70</td>\n      <td>Austrian Grand Prix</td>\n      <td>2020-07-05</td>\n      <td>13:10:00</td>\n    </tr>\n    <tr>\n      <th>1019</th>\n      <td>1032</td>\n      <td>2020</td>\n      <td>2</td>\n      <td>70</td>\n      <td>Styrian Grand Prix</td>\n      <td>2020-07-12</td>\n      <td>13:10:00</td>\n    </tr>\n    <tr>\n      <th>1020</th>\n      <td>1033</td>\n      <td>2020</td>\n      <td>3</td>\n      <td>11</td>\n      <td>Hungarian Grand Prix</td>\n      <td>2020-07-19</td>\n      <td>13:10:00</td>\n    </tr>\n    <tr>\n      <th>1021</th>\n      <td>1034</td>\n      <td>2020</td>\n      <td>4</td>\n      <td>9</td>\n      <td>British Grand Prix</td>\n      <td>2020-08-02</td>\n      <td>13:10:00</td>\n    </tr>\n    <tr>\n      <th>1022</th>\n      <td>1035</td>\n      <td>2020</td>\n      <td>5</td>\n      <td>9</td>\n      <td>70th Anniversary Grand Prix</td>\n      <td>2020-08-09</td>\n      <td>13:10:00</td>\n    </tr>\n    <tr>\n      <th>1023</th>\n      <td>1036</td>\n      <td>2020</td>\n      <td>6</td>\n      <td>4</td>\n      <td>Spanish Grand Prix</td>\n      <td>2020-08-16</td>\n      <td>13:10:00</td>\n    </tr>\n    <tr>\n      <th>1024</th>\n      <td>1037</td>\n      <td>2020</td>\n      <td>7</td>\n      <td>13</td>\n      <td>Belgian Grand Prix</td>\n      <td>2020-08-30</td>\n      <td>13:10:00</td>\n    </tr>\n    <tr>\n      <th>1025</th>\n      <td>1038</td>\n      <td>2020</td>\n      <td>8</td>\n      <td>14</td>\n      <td>Italian Grand Prix</td>\n      <td>2020-09-06</td>\n      <td>13:10:00</td>\n    </tr>\n    <tr>\n      <th>1026</th>\n      <td>1039</td>\n      <td>2020</td>\n      <td>9</td>\n      <td>76</td>\n      <td>Tuscan Grand Prix</td>\n      <td>2020-09-13</td>\n      <td>13:10:00</td>\n    </tr>\n    <tr>\n      <th>1027</th>\n      <td>1040</td>\n      <td>2020</td>\n      <td>10</td>\n      <td>71</td>\n      <td>Russian Grand Prix</td>\n      <td>2020-09-27</td>\n      <td>11:10:00</td>\n    </tr>\n    <tr>\n      <th>1028</th>\n      <td>1041</td>\n      <td>2020</td>\n      <td>11</td>\n      <td>20</td>\n      <td>Eifel Grand Prix</td>\n      <td>2020-10-11</td>\n      <td>13:10:00</td>\n    </tr>\n    <tr>\n      <th>1029</th>\n      <td>1042</td>\n      <td>2020</td>\n      <td>12</td>\n      <td>75</td>\n      <td>Portuguese Grand Prix</td>\n      <td>2020-10-25</td>\n      <td>12:10:00</td>\n    </tr>\n    <tr>\n      <th>1030</th>\n      <td>1043</td>\n      <td>2020</td>\n      <td>13</td>\n      <td>21</td>\n      <td>Emilia Romagna Grand Prix</td>\n      <td>2020-11-01</td>\n      <td>12:10:00</td>\n    </tr>\n    <tr>\n      <th>1031</th>\n      <td>1044</td>\n      <td>2020</td>\n      <td>14</td>\n      <td>5</td>\n      <td>Turkish Grand Prix</td>\n      <td>2020-11-15</td>\n      <td>10:10:00</td>\n    </tr>\n    <tr>\n      <th>1032</th>\n      <td>1045</td>\n      <td>2020</td>\n      <td>15</td>\n      <td>3</td>\n      <td>Bahrain Grand Prix</td>\n      <td>2020-11-29</td>\n      <td>14:10:00</td>\n    </tr>\n    <tr>\n      <th>1033</th>\n      <td>1046</td>\n      <td>2020</td>\n      <td>16</td>\n      <td>3</td>\n      <td>Sakhir Grand Prix</td>\n      <td>2020-12-06</td>\n      <td>17:10:00</td>\n    </tr>\n    <tr>\n      <th>1034</th>\n      <td>1047</td>\n      <td>2020</td>\n      <td>17</td>\n      <td>24</td>\n      <td>Abu Dhabi Grand Prix</td>\n      <td>2020-12-13</td>\n      <td>13:10:00</td>\n    </tr>\n  </tbody>\n</table>\n</div>"
     },
     "metadata": {},
     "execution_count": 19
    }
   ],
   "source": []
  },
  {
   "cell_type": "code",
   "execution_count": 20,
   "metadata": {},
   "outputs": [
    {
     "output_type": "execute_result",
     "data": {
      "text/plain": [
       "      raceId  driverId  stop  lap      time duration  milliseconds\n",
       "0        841       153     1    1  17:05:23   26.898         26898\n",
       "1        841        30     1    1  17:05:52   25.021         25021\n",
       "2        841        17     1   11  17:20:48   23.426         23426\n",
       "3        841         4     1   12  17:22:34   23.251         23251\n",
       "4        841        13     1   13  17:24:10   23.842         23842\n",
       "...      ...       ...   ...  ...       ...      ...           ...\n",
       "8218    1055       822     2   53  16:18:52   21.638         21638\n",
       "8219    1055       815     2   57  16:24:55   21.345         21345\n",
       "8220    1055       844     2   58  16:26:05   22.292         22292\n",
       "8221    1055       830     2   60  16:28:18   21.592         21592\n",
       "8222    1055         4     2   61  16:31:41   23.479         23479\n",
       "\n",
       "[8223 rows x 7 columns]"
      ],
      "text/html": "<div>\n<style scoped>\n    .dataframe tbody tr th:only-of-type {\n        vertical-align: middle;\n    }\n\n    .dataframe tbody tr th {\n        vertical-align: top;\n    }\n\n    .dataframe thead th {\n        text-align: right;\n    }\n</style>\n<table border=\"1\" class=\"dataframe\">\n  <thead>\n    <tr style=\"text-align: right;\">\n      <th></th>\n      <th>raceId</th>\n      <th>driverId</th>\n      <th>stop</th>\n      <th>lap</th>\n      <th>time</th>\n      <th>duration</th>\n      <th>milliseconds</th>\n    </tr>\n  </thead>\n  <tbody>\n    <tr>\n      <th>0</th>\n      <td>841</td>\n      <td>153</td>\n      <td>1</td>\n      <td>1</td>\n      <td>17:05:23</td>\n      <td>26.898</td>\n      <td>26898</td>\n    </tr>\n    <tr>\n      <th>1</th>\n      <td>841</td>\n      <td>30</td>\n      <td>1</td>\n      <td>1</td>\n      <td>17:05:52</td>\n      <td>25.021</td>\n      <td>25021</td>\n    </tr>\n    <tr>\n      <th>2</th>\n      <td>841</td>\n      <td>17</td>\n      <td>1</td>\n      <td>11</td>\n      <td>17:20:48</td>\n      <td>23.426</td>\n      <td>23426</td>\n    </tr>\n    <tr>\n      <th>3</th>\n      <td>841</td>\n      <td>4</td>\n      <td>1</td>\n      <td>12</td>\n      <td>17:22:34</td>\n      <td>23.251</td>\n      <td>23251</td>\n    </tr>\n    <tr>\n      <th>4</th>\n      <td>841</td>\n      <td>13</td>\n      <td>1</td>\n      <td>13</td>\n      <td>17:24:10</td>\n      <td>23.842</td>\n      <td>23842</td>\n    </tr>\n    <tr>\n      <th>...</th>\n      <td>...</td>\n      <td>...</td>\n      <td>...</td>\n      <td>...</td>\n      <td>...</td>\n      <td>...</td>\n      <td>...</td>\n    </tr>\n    <tr>\n      <th>8218</th>\n      <td>1055</td>\n      <td>822</td>\n      <td>2</td>\n      <td>53</td>\n      <td>16:18:52</td>\n      <td>21.638</td>\n      <td>21638</td>\n    </tr>\n    <tr>\n      <th>8219</th>\n      <td>1055</td>\n      <td>815</td>\n      <td>2</td>\n      <td>57</td>\n      <td>16:24:55</td>\n      <td>21.345</td>\n      <td>21345</td>\n    </tr>\n    <tr>\n      <th>8220</th>\n      <td>1055</td>\n      <td>844</td>\n      <td>2</td>\n      <td>58</td>\n      <td>16:26:05</td>\n      <td>22.292</td>\n      <td>22292</td>\n    </tr>\n    <tr>\n      <th>8221</th>\n      <td>1055</td>\n      <td>830</td>\n      <td>2</td>\n      <td>60</td>\n      <td>16:28:18</td>\n      <td>21.592</td>\n      <td>21592</td>\n    </tr>\n    <tr>\n      <th>8222</th>\n      <td>1055</td>\n      <td>4</td>\n      <td>2</td>\n      <td>61</td>\n      <td>16:31:41</td>\n      <td>23.479</td>\n      <td>23479</td>\n    </tr>\n  </tbody>\n</table>\n<p>8223 rows × 7 columns</p>\n</div>"
     },
     "metadata": {},
     "execution_count": 20
    }
   ],
   "source": [
    "pit_stops"
   ]
  },
  {
   "cell_type": "code",
   "execution_count": null,
   "metadata": {},
   "outputs": [],
   "source": []
  },
  {
   "cell_type": "code",
   "execution_count": null,
   "metadata": {},
   "outputs": [],
   "source": []
  },
  {
   "cell_type": "code",
   "execution_count": null,
   "metadata": {},
   "outputs": [],
   "source": [
    "# Pit-Stop Corr\n",
    "# Lap-Time Correlation\n",
    "# Lap Time changes over the years and correlation with FIA regulations -- FIA ban on Williams cars 1990s\n",
    "# Which seasons did drivers/constructors completely dominate?\n",
    "# 1 stop vs 2 stop strategy for circuits"
   ]
  }
 ]
}