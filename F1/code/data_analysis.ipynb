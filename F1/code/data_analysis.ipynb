{
 "metadata": {
  "language_info": {
   "codemirror_mode": {
    "name": "ipython",
    "version": 3
   },
   "file_extension": ".py",
   "mimetype": "text/x-python",
   "name": "python",
   "nbconvert_exporter": "python",
   "pygments_lexer": "ipython3",
   "version": "3.9.5"
  },
  "orig_nbformat": 4,
  "kernelspec": {
   "name": "python3",
   "display_name": "Python 3.9.5 64-bit ('spotty': conda)"
  },
  "interpreter": {
   "hash": "7931e8312dc353b9fd3185b38fa051918a9bf6719a176afc6cced50dc033cfac"
  }
 },
 "nbformat": 4,
 "nbformat_minor": 2,
 "cells": [
  {
   "cell_type": "code",
   "execution_count": 87,
   "metadata": {},
   "outputs": [],
   "source": [
    "import pandas as pd\n",
    "import numpy as np\n",
    "import matplotlib.pyplot as plt\n",
    "import sqlite3\n",
    "import pandasql\n",
    "from pandasql import sqldf\n",
    "\n",
    "pysqldf = lambda q: sqldf(q, globals())"
   ]
  },
  {
   "cell_type": "code",
   "execution_count": 81,
   "metadata": {},
   "outputs": [],
   "source": [
    "circuits = pd.read_csv('../data/circuits.csv')\n",
    "constructor_results = pd.read_csv('../data/constructor_results.csv')\n",
    "constructor_standings = pd.read_csv('../data/constructor_standings.csv')\n",
    "constructor = pd.read_csv('../data/constructors.csv')\n",
    "drivers = pd.read_csv('../data/drivers.csv')\n",
    "driver_standings = pd.read_csv('../data/driver_standings.csv')\n",
    "lap_times = pd.read_csv('../data/lap_times.csv')\n",
    "pit_stops = pd.read_csv('../data/pit_stops.csv')\n",
    "qualif = pd.read_csv('../data/qualifying.csv')\n",
    "races = pd.read_csv('../data/races.csv')\n",
    "results = pd.read_csv('../data/results.csv')\n",
    "seasons = pd.read_csv('../data/seasons.csv')\n",
    "status = pd.read_csv('../data/status.csv')"
   ]
  },
  {
   "source": [
    "# Data Cleaning"
   ],
   "cell_type": "markdown",
   "metadata": {}
  },
  {
   "source": [
    "We remove the url links from the datasets and combine some of the datasets for easier readability."
   ],
   "cell_type": "markdown",
   "metadata": {}
  },
  {
   "cell_type": "code",
   "execution_count": 82,
   "metadata": {},
   "outputs": [],
   "source": [
    "circuits = circuits.drop(\"url\", axis=1)\n",
    "constructor = constructor.drop(\"url\", axis=1)\n",
    "drivers = drivers.drop(\"url\", axis=1)\n",
    "seasons = seasons.drop(\"url\", axis=1)\n",
    "races = races.drop(\"url\", axis=1)"
   ]
  },
  {
   "source": [
    "# Data Exploration"
   ],
   "cell_type": "markdown",
   "metadata": {}
  },
  {
   "source": [
    "- constructor wins by circuit"
   ],
   "cell_type": "markdown",
   "metadata": {}
  },
  {
   "cell_type": "code",
   "execution_count": 147,
   "metadata": {},
   "outputs": [
    {
     "output_type": "execute_result",
     "data": {
      "text/plain": [
       "      raceId  constructorId        name  points  position  wins  circuitId  \\\n",
       "0         18              1     McLaren    14.0         1     1          1   \n",
       "1         18              2  BMW Sauber     8.0         3     0          1   \n",
       "2         18              3    Williams     9.0         2     0          1   \n",
       "3         19              1     McLaren    24.0         1     1          2   \n",
       "4         19              2  BMW Sauber    19.0         2     0          2   \n",
       "...      ...            ...         ...     ...       ...   ...        ...   \n",
       "2923    1054              9    Red Bull    83.0         2     1         75   \n",
       "2924    1054              1     McLaren    53.0         3     0         75   \n",
       "2925    1055            131    Mercedes   141.0         1     3          4   \n",
       "2926    1055              9    Red Bull   112.0         2     1          4   \n",
       "2927    1055              1     McLaren    65.0         3     0          4   \n",
       "\n",
       "                circuitName  \n",
       "0     Australian Grand Prix  \n",
       "1     Australian Grand Prix  \n",
       "2     Australian Grand Prix  \n",
       "3      Malaysian Grand Prix  \n",
       "4      Malaysian Grand Prix  \n",
       "...                     ...  \n",
       "2923  Portuguese Grand Prix  \n",
       "2924  Portuguese Grand Prix  \n",
       "2925     Spanish Grand Prix  \n",
       "2926     Spanish Grand Prix  \n",
       "2927     Spanish Grand Prix  \n",
       "\n",
       "[2928 rows x 8 columns]"
      ],
      "text/html": "<div>\n<style scoped>\n    .dataframe tbody tr th:only-of-type {\n        vertical-align: middle;\n    }\n\n    .dataframe tbody tr th {\n        vertical-align: top;\n    }\n\n    .dataframe thead th {\n        text-align: right;\n    }\n</style>\n<table border=\"1\" class=\"dataframe\">\n  <thead>\n    <tr style=\"text-align: right;\">\n      <th></th>\n      <th>raceId</th>\n      <th>constructorId</th>\n      <th>name</th>\n      <th>points</th>\n      <th>position</th>\n      <th>wins</th>\n      <th>circuitId</th>\n      <th>circuitName</th>\n    </tr>\n  </thead>\n  <tbody>\n    <tr>\n      <th>0</th>\n      <td>18</td>\n      <td>1</td>\n      <td>McLaren</td>\n      <td>14.0</td>\n      <td>1</td>\n      <td>1</td>\n      <td>1</td>\n      <td>Australian Grand Prix</td>\n    </tr>\n    <tr>\n      <th>1</th>\n      <td>18</td>\n      <td>2</td>\n      <td>BMW Sauber</td>\n      <td>8.0</td>\n      <td>3</td>\n      <td>0</td>\n      <td>1</td>\n      <td>Australian Grand Prix</td>\n    </tr>\n    <tr>\n      <th>2</th>\n      <td>18</td>\n      <td>3</td>\n      <td>Williams</td>\n      <td>9.0</td>\n      <td>2</td>\n      <td>0</td>\n      <td>1</td>\n      <td>Australian Grand Prix</td>\n    </tr>\n    <tr>\n      <th>3</th>\n      <td>19</td>\n      <td>1</td>\n      <td>McLaren</td>\n      <td>24.0</td>\n      <td>1</td>\n      <td>1</td>\n      <td>2</td>\n      <td>Malaysian Grand Prix</td>\n    </tr>\n    <tr>\n      <th>4</th>\n      <td>19</td>\n      <td>2</td>\n      <td>BMW Sauber</td>\n      <td>19.0</td>\n      <td>2</td>\n      <td>0</td>\n      <td>2</td>\n      <td>Malaysian Grand Prix</td>\n    </tr>\n    <tr>\n      <th>...</th>\n      <td>...</td>\n      <td>...</td>\n      <td>...</td>\n      <td>...</td>\n      <td>...</td>\n      <td>...</td>\n      <td>...</td>\n      <td>...</td>\n    </tr>\n    <tr>\n      <th>2923</th>\n      <td>1054</td>\n      <td>9</td>\n      <td>Red Bull</td>\n      <td>83.0</td>\n      <td>2</td>\n      <td>1</td>\n      <td>75</td>\n      <td>Portuguese Grand Prix</td>\n    </tr>\n    <tr>\n      <th>2924</th>\n      <td>1054</td>\n      <td>1</td>\n      <td>McLaren</td>\n      <td>53.0</td>\n      <td>3</td>\n      <td>0</td>\n      <td>75</td>\n      <td>Portuguese Grand Prix</td>\n    </tr>\n    <tr>\n      <th>2925</th>\n      <td>1055</td>\n      <td>131</td>\n      <td>Mercedes</td>\n      <td>141.0</td>\n      <td>1</td>\n      <td>3</td>\n      <td>4</td>\n      <td>Spanish Grand Prix</td>\n    </tr>\n    <tr>\n      <th>2926</th>\n      <td>1055</td>\n      <td>9</td>\n      <td>Red Bull</td>\n      <td>112.0</td>\n      <td>2</td>\n      <td>1</td>\n      <td>4</td>\n      <td>Spanish Grand Prix</td>\n    </tr>\n    <tr>\n      <th>2927</th>\n      <td>1055</td>\n      <td>1</td>\n      <td>McLaren</td>\n      <td>65.0</td>\n      <td>3</td>\n      <td>0</td>\n      <td>4</td>\n      <td>Spanish Grand Prix</td>\n    </tr>\n  </tbody>\n</table>\n<p>2928 rows × 8 columns</p>\n</div>"
     },
     "metadata": {},
     "execution_count": 147
    }
   ],
   "source": [
    "q = \"\"\"select \n",
    "C.raceId, \n",
    "C.constructorId,\n",
    "CName.name,\n",
    "C.points,\n",
    "C.position, \n",
    "C.wins,\n",
    "R.circuitID,\n",
    "R.name as circuitName\n",
    "from constructor_standings C\n",
    "inner join races R\n",
    "on C.raceID = R.raceID\n",
    "inner join constructor CName\n",
    "on CName.constructorId = C.constructorId\n",
    "where C.position = 1\n",
    "or C.position = 2\n",
    "or C.position = 3\n",
    ";\"\"\"\n",
    "constructor_standings_cleaned = pysqldf(q)\n",
    "constructor_standings_cleaned"
   ]
  },
  {
   "cell_type": "code",
   "execution_count": 294,
   "metadata": {},
   "outputs": [],
   "source": [
    "def get_win_location_count(constructor_standings_cleaned):\n",
    "    win_locations = {}\n",
    "    for row in constructor_standings_cleaned.iterrows():\n",
    "        constructorID = row[1]['name']\n",
    "        circuitName = row[1]['circuitName']\n",
    "        if constructorID not in win_locations:\n",
    "            win_locations[constructorID] = {}\n",
    "            win_locations[constructorID][circuitName]= 1\n",
    "        else:\n",
    "            if circuitName not in win_locations[constructorID]:\n",
    "                win_locations[constructorID][circuitName]= 1\n",
    "            else:\n",
    "                win_locations[constructorID][circuitName] += 1\n",
    "    location_df = pd.DataFrame(win_locations)\n",
    "    return win_locations, location_df\n",
    "\n",
    "win_locations, location_df = get_win_location_count(constructor_standings_cleaned)\n",
    "location_df.reset_index(inplace=True)"
   ]
  },
  {
   "source": [
    "Questions to answer here:\n",
    "- Is there a particular constructor that dominates a circuit and has most wins?\n",
    "- Is there a circuit that a constructor is relatively better at?"
   ],
   "cell_type": "markdown",
   "metadata": {}
  },
  {
   "cell_type": "code",
   "execution_count": 296,
   "metadata": {},
   "outputs": [],
   "source": [
    "location_na = location_df.T.isna().sum()\n",
    "for k, circuit in enumerate(list(location_na)):\n",
    "    if circuit > 38:\n",
    "        location_df.drop(k, axis=0, inplace=True)\n",
    "\n",
    "constructor_na = location_df.isna().sum()\n",
    "drop_list = []\n",
    "for k, constructor_n in enumerate(list(constructor_na)):\n",
    "    if constructor_n > 20:\n",
    "        drop_list.append(k)\n",
    "location_df.drop(location_df.columns[drop_list], axis=1, inplace=True)"
   ]
  },
  {
   "cell_type": "code",
   "execution_count": null,
   "metadata": {},
   "outputs": [],
   "source": []
  },
  {
   "source": [
    "How big of an effect do pit stops have on winning the race?"
   ],
   "cell_type": "markdown",
   "metadata": {}
  },
  {
   "cell_type": "code",
   "execution_count": 328,
   "metadata": {},
   "outputs": [],
   "source": [
    "# Let's start with the 2020 season:\n",
    "\n",
    "q = \"\"\"select \n",
    "P.raceId,\n",
    "D.driverRef,\n",
    "P.stop,\n",
    "P.lap,\n",
    "P.time,\n",
    "P.milliseconds,\n",
    "DS.position\n",
    "from pit_stops P\n",
    "inner join drivers D\n",
    "on P.driverId = D.driverId\n",
    "inner join driver_standings DS\n",
    "on DS.raceId = P.raceId\n",
    "and DS.driverId = P.driverId\n",
    "where P.raceId > 1030\n",
    "and P.raceId < 1048\n",
    ";\"\"\"\n",
    "pit_stop_corr = pysqldf(q)"
   ]
  },
  {
   "cell_type": "code",
   "execution_count": 330,
   "metadata": {},
   "outputs": [
    {
     "output_type": "execute_result",
     "data": {
      "text/plain": [
       "    raceId   driverRef  stop  lap      time  milliseconds  position\n",
       "0     1031    grosjean     1   20  15:37:03         23280        16\n",
       "1     1031   raikkonen     1   24  15:41:31         23229        14\n",
       "2     1031  giovinazzi     1   25  15:42:49         23659         9\n",
       "3     1031     russell     1   25  15:42:53         21417        15\n",
       "4     1031      bottas     1   26  15:43:06         21937         1\n",
       "5     1031    hamilton     1   26  15:43:14         21850         4\n",
       "6     1031       albon     1   26  15:43:25         21279        13\n",
       "7     1031      norris     1   26  15:43:33         23637         3\n",
       "8     1031       perez     1   26  15:43:34         22383         6\n",
       "9     1031     leclerc     1   26  15:43:38         22756         2\n",
       "10    1031       sainz     1   26  15:43:41         23827         5\n",
       "11    1031      vettel     1   26  15:43:55         22231        10\n",
       "12    1031       gasly     1   26  15:44:02         22466         7\n",
       "13    1031       kvyat     1   26  15:44:12         22769        12\n",
       "14    1031        ocon     1   26  15:44:17         21683         8\n",
       "15    1031      latifi     1   26  15:45:08         22058        11\n",
       "16    1031       albon     2   51  16:15:09         21842        13\n",
       "17    1031      norris     2   51  16:15:19         21921         3\n",
       "18    1031     leclerc     2   51  16:15:24         21972         2\n",
       "19    1031       kvyat     2   51  16:15:41         21622        12\n",
       "20    1031   raikkonen     2   51  16:15:48         21569        14\n",
       "21    1031      vettel     2   51  16:15:55         22738        10\n",
       "22    1031      latifi     2   51  16:16:23         21918        11\n",
       "23    1031       sainz     2   52  16:17:02         21805         5\n",
       "24    1031  giovinazzi     2   55  16:22:14         22800         9\n",
       "25    1031      bottas     2   56  16:23:58         16407         1\n",
       "26    1031    hamilton     2   56  16:24:00         16365         4\n",
       "27    1031       perez     2   56  16:24:01         16546         6\n",
       "28    1031       albon     3   56  16:24:03         17035        13\n",
       "29    1031      norris     3   56  16:24:03         18163         3"
      ],
      "text/html": "<div>\n<style scoped>\n    .dataframe tbody tr th:only-of-type {\n        vertical-align: middle;\n    }\n\n    .dataframe tbody tr th {\n        vertical-align: top;\n    }\n\n    .dataframe thead th {\n        text-align: right;\n    }\n</style>\n<table border=\"1\" class=\"dataframe\">\n  <thead>\n    <tr style=\"text-align: right;\">\n      <th></th>\n      <th>raceId</th>\n      <th>driverRef</th>\n      <th>stop</th>\n      <th>lap</th>\n      <th>time</th>\n      <th>milliseconds</th>\n      <th>position</th>\n    </tr>\n  </thead>\n  <tbody>\n    <tr>\n      <th>0</th>\n      <td>1031</td>\n      <td>grosjean</td>\n      <td>1</td>\n      <td>20</td>\n      <td>15:37:03</td>\n      <td>23280</td>\n      <td>16</td>\n    </tr>\n    <tr>\n      <th>1</th>\n      <td>1031</td>\n      <td>raikkonen</td>\n      <td>1</td>\n      <td>24</td>\n      <td>15:41:31</td>\n      <td>23229</td>\n      <td>14</td>\n    </tr>\n    <tr>\n      <th>2</th>\n      <td>1031</td>\n      <td>giovinazzi</td>\n      <td>1</td>\n      <td>25</td>\n      <td>15:42:49</td>\n      <td>23659</td>\n      <td>9</td>\n    </tr>\n    <tr>\n      <th>3</th>\n      <td>1031</td>\n      <td>russell</td>\n      <td>1</td>\n      <td>25</td>\n      <td>15:42:53</td>\n      <td>21417</td>\n      <td>15</td>\n    </tr>\n    <tr>\n      <th>4</th>\n      <td>1031</td>\n      <td>bottas</td>\n      <td>1</td>\n      <td>26</td>\n      <td>15:43:06</td>\n      <td>21937</td>\n      <td>1</td>\n    </tr>\n    <tr>\n      <th>5</th>\n      <td>1031</td>\n      <td>hamilton</td>\n      <td>1</td>\n      <td>26</td>\n      <td>15:43:14</td>\n      <td>21850</td>\n      <td>4</td>\n    </tr>\n    <tr>\n      <th>6</th>\n      <td>1031</td>\n      <td>albon</td>\n      <td>1</td>\n      <td>26</td>\n      <td>15:43:25</td>\n      <td>21279</td>\n      <td>13</td>\n    </tr>\n    <tr>\n      <th>7</th>\n      <td>1031</td>\n      <td>norris</td>\n      <td>1</td>\n      <td>26</td>\n      <td>15:43:33</td>\n      <td>23637</td>\n      <td>3</td>\n    </tr>\n    <tr>\n      <th>8</th>\n      <td>1031</td>\n      <td>perez</td>\n      <td>1</td>\n      <td>26</td>\n      <td>15:43:34</td>\n      <td>22383</td>\n      <td>6</td>\n    </tr>\n    <tr>\n      <th>9</th>\n      <td>1031</td>\n      <td>leclerc</td>\n      <td>1</td>\n      <td>26</td>\n      <td>15:43:38</td>\n      <td>22756</td>\n      <td>2</td>\n    </tr>\n    <tr>\n      <th>10</th>\n      <td>1031</td>\n      <td>sainz</td>\n      <td>1</td>\n      <td>26</td>\n      <td>15:43:41</td>\n      <td>23827</td>\n      <td>5</td>\n    </tr>\n    <tr>\n      <th>11</th>\n      <td>1031</td>\n      <td>vettel</td>\n      <td>1</td>\n      <td>26</td>\n      <td>15:43:55</td>\n      <td>22231</td>\n      <td>10</td>\n    </tr>\n    <tr>\n      <th>12</th>\n      <td>1031</td>\n      <td>gasly</td>\n      <td>1</td>\n      <td>26</td>\n      <td>15:44:02</td>\n      <td>22466</td>\n      <td>7</td>\n    </tr>\n    <tr>\n      <th>13</th>\n      <td>1031</td>\n      <td>kvyat</td>\n      <td>1</td>\n      <td>26</td>\n      <td>15:44:12</td>\n      <td>22769</td>\n      <td>12</td>\n    </tr>\n    <tr>\n      <th>14</th>\n      <td>1031</td>\n      <td>ocon</td>\n      <td>1</td>\n      <td>26</td>\n      <td>15:44:17</td>\n      <td>21683</td>\n      <td>8</td>\n    </tr>\n    <tr>\n      <th>15</th>\n      <td>1031</td>\n      <td>latifi</td>\n      <td>1</td>\n      <td>26</td>\n      <td>15:45:08</td>\n      <td>22058</td>\n      <td>11</td>\n    </tr>\n    <tr>\n      <th>16</th>\n      <td>1031</td>\n      <td>albon</td>\n      <td>2</td>\n      <td>51</td>\n      <td>16:15:09</td>\n      <td>21842</td>\n      <td>13</td>\n    </tr>\n    <tr>\n      <th>17</th>\n      <td>1031</td>\n      <td>norris</td>\n      <td>2</td>\n      <td>51</td>\n      <td>16:15:19</td>\n      <td>21921</td>\n      <td>3</td>\n    </tr>\n    <tr>\n      <th>18</th>\n      <td>1031</td>\n      <td>leclerc</td>\n      <td>2</td>\n      <td>51</td>\n      <td>16:15:24</td>\n      <td>21972</td>\n      <td>2</td>\n    </tr>\n    <tr>\n      <th>19</th>\n      <td>1031</td>\n      <td>kvyat</td>\n      <td>2</td>\n      <td>51</td>\n      <td>16:15:41</td>\n      <td>21622</td>\n      <td>12</td>\n    </tr>\n    <tr>\n      <th>20</th>\n      <td>1031</td>\n      <td>raikkonen</td>\n      <td>2</td>\n      <td>51</td>\n      <td>16:15:48</td>\n      <td>21569</td>\n      <td>14</td>\n    </tr>\n    <tr>\n      <th>21</th>\n      <td>1031</td>\n      <td>vettel</td>\n      <td>2</td>\n      <td>51</td>\n      <td>16:15:55</td>\n      <td>22738</td>\n      <td>10</td>\n    </tr>\n    <tr>\n      <th>22</th>\n      <td>1031</td>\n      <td>latifi</td>\n      <td>2</td>\n      <td>51</td>\n      <td>16:16:23</td>\n      <td>21918</td>\n      <td>11</td>\n    </tr>\n    <tr>\n      <th>23</th>\n      <td>1031</td>\n      <td>sainz</td>\n      <td>2</td>\n      <td>52</td>\n      <td>16:17:02</td>\n      <td>21805</td>\n      <td>5</td>\n    </tr>\n    <tr>\n      <th>24</th>\n      <td>1031</td>\n      <td>giovinazzi</td>\n      <td>2</td>\n      <td>55</td>\n      <td>16:22:14</td>\n      <td>22800</td>\n      <td>9</td>\n    </tr>\n    <tr>\n      <th>25</th>\n      <td>1031</td>\n      <td>bottas</td>\n      <td>2</td>\n      <td>56</td>\n      <td>16:23:58</td>\n      <td>16407</td>\n      <td>1</td>\n    </tr>\n    <tr>\n      <th>26</th>\n      <td>1031</td>\n      <td>hamilton</td>\n      <td>2</td>\n      <td>56</td>\n      <td>16:24:00</td>\n      <td>16365</td>\n      <td>4</td>\n    </tr>\n    <tr>\n      <th>27</th>\n      <td>1031</td>\n      <td>perez</td>\n      <td>2</td>\n      <td>56</td>\n      <td>16:24:01</td>\n      <td>16546</td>\n      <td>6</td>\n    </tr>\n    <tr>\n      <th>28</th>\n      <td>1031</td>\n      <td>albon</td>\n      <td>3</td>\n      <td>56</td>\n      <td>16:24:03</td>\n      <td>17035</td>\n      <td>13</td>\n    </tr>\n    <tr>\n      <th>29</th>\n      <td>1031</td>\n      <td>norris</td>\n      <td>3</td>\n      <td>56</td>\n      <td>16:24:03</td>\n      <td>18163</td>\n      <td>3</td>\n    </tr>\n  </tbody>\n</table>\n</div>"
     },
     "metadata": {},
     "execution_count": 330
    }
   ],
   "source": [
    "pit_stop_corr.head(30)"
   ]
  },
  {
   "cell_type": "code",
   "execution_count": 327,
   "metadata": {},
   "outputs": [
    {
     "output_type": "execute_result",
     "data": {
      "text/plain": [
       "      raceId  year  round  circuitId                         name        date  \\\n",
       "1018    1031  2020      1         70          Austrian Grand Prix  2020-07-05   \n",
       "1019    1032  2020      2         70           Styrian Grand Prix  2020-07-12   \n",
       "1020    1033  2020      3         11         Hungarian Grand Prix  2020-07-19   \n",
       "1021    1034  2020      4          9           British Grand Prix  2020-08-02   \n",
       "1022    1035  2020      5          9  70th Anniversary Grand Prix  2020-08-09   \n",
       "1023    1036  2020      6          4           Spanish Grand Prix  2020-08-16   \n",
       "1024    1037  2020      7         13           Belgian Grand Prix  2020-08-30   \n",
       "1025    1038  2020      8         14           Italian Grand Prix  2020-09-06   \n",
       "1026    1039  2020      9         76            Tuscan Grand Prix  2020-09-13   \n",
       "1027    1040  2020     10         71           Russian Grand Prix  2020-09-27   \n",
       "1028    1041  2020     11         20             Eifel Grand Prix  2020-10-11   \n",
       "1029    1042  2020     12         75        Portuguese Grand Prix  2020-10-25   \n",
       "1030    1043  2020     13         21    Emilia Romagna Grand Prix  2020-11-01   \n",
       "1031    1044  2020     14          5           Turkish Grand Prix  2020-11-15   \n",
       "1032    1045  2020     15          3           Bahrain Grand Prix  2020-11-29   \n",
       "1033    1046  2020     16          3            Sakhir Grand Prix  2020-12-06   \n",
       "1034    1047  2020     17         24         Abu Dhabi Grand Prix  2020-12-13   \n",
       "\n",
       "          time  \n",
       "1018  13:10:00  \n",
       "1019  13:10:00  \n",
       "1020  13:10:00  \n",
       "1021  13:10:00  \n",
       "1022  13:10:00  \n",
       "1023  13:10:00  \n",
       "1024  13:10:00  \n",
       "1025  13:10:00  \n",
       "1026  13:10:00  \n",
       "1027  11:10:00  \n",
       "1028  13:10:00  \n",
       "1029  12:10:00  \n",
       "1030  12:10:00  \n",
       "1031  10:10:00  \n",
       "1032  14:10:00  \n",
       "1033  17:10:00  \n",
       "1034  13:10:00  "
      ],
      "text/html": "<div>\n<style scoped>\n    .dataframe tbody tr th:only-of-type {\n        vertical-align: middle;\n    }\n\n    .dataframe tbody tr th {\n        vertical-align: top;\n    }\n\n    .dataframe thead th {\n        text-align: right;\n    }\n</style>\n<table border=\"1\" class=\"dataframe\">\n  <thead>\n    <tr style=\"text-align: right;\">\n      <th></th>\n      <th>raceId</th>\n      <th>year</th>\n      <th>round</th>\n      <th>circuitId</th>\n      <th>name</th>\n      <th>date</th>\n      <th>time</th>\n    </tr>\n  </thead>\n  <tbody>\n    <tr>\n      <th>1018</th>\n      <td>1031</td>\n      <td>2020</td>\n      <td>1</td>\n      <td>70</td>\n      <td>Austrian Grand Prix</td>\n      <td>2020-07-05</td>\n      <td>13:10:00</td>\n    </tr>\n    <tr>\n      <th>1019</th>\n      <td>1032</td>\n      <td>2020</td>\n      <td>2</td>\n      <td>70</td>\n      <td>Styrian Grand Prix</td>\n      <td>2020-07-12</td>\n      <td>13:10:00</td>\n    </tr>\n    <tr>\n      <th>1020</th>\n      <td>1033</td>\n      <td>2020</td>\n      <td>3</td>\n      <td>11</td>\n      <td>Hungarian Grand Prix</td>\n      <td>2020-07-19</td>\n      <td>13:10:00</td>\n    </tr>\n    <tr>\n      <th>1021</th>\n      <td>1034</td>\n      <td>2020</td>\n      <td>4</td>\n      <td>9</td>\n      <td>British Grand Prix</td>\n      <td>2020-08-02</td>\n      <td>13:10:00</td>\n    </tr>\n    <tr>\n      <th>1022</th>\n      <td>1035</td>\n      <td>2020</td>\n      <td>5</td>\n      <td>9</td>\n      <td>70th Anniversary Grand Prix</td>\n      <td>2020-08-09</td>\n      <td>13:10:00</td>\n    </tr>\n    <tr>\n      <th>1023</th>\n      <td>1036</td>\n      <td>2020</td>\n      <td>6</td>\n      <td>4</td>\n      <td>Spanish Grand Prix</td>\n      <td>2020-08-16</td>\n      <td>13:10:00</td>\n    </tr>\n    <tr>\n      <th>1024</th>\n      <td>1037</td>\n      <td>2020</td>\n      <td>7</td>\n      <td>13</td>\n      <td>Belgian Grand Prix</td>\n      <td>2020-08-30</td>\n      <td>13:10:00</td>\n    </tr>\n    <tr>\n      <th>1025</th>\n      <td>1038</td>\n      <td>2020</td>\n      <td>8</td>\n      <td>14</td>\n      <td>Italian Grand Prix</td>\n      <td>2020-09-06</td>\n      <td>13:10:00</td>\n    </tr>\n    <tr>\n      <th>1026</th>\n      <td>1039</td>\n      <td>2020</td>\n      <td>9</td>\n      <td>76</td>\n      <td>Tuscan Grand Prix</td>\n      <td>2020-09-13</td>\n      <td>13:10:00</td>\n    </tr>\n    <tr>\n      <th>1027</th>\n      <td>1040</td>\n      <td>2020</td>\n      <td>10</td>\n      <td>71</td>\n      <td>Russian Grand Prix</td>\n      <td>2020-09-27</td>\n      <td>11:10:00</td>\n    </tr>\n    <tr>\n      <th>1028</th>\n      <td>1041</td>\n      <td>2020</td>\n      <td>11</td>\n      <td>20</td>\n      <td>Eifel Grand Prix</td>\n      <td>2020-10-11</td>\n      <td>13:10:00</td>\n    </tr>\n    <tr>\n      <th>1029</th>\n      <td>1042</td>\n      <td>2020</td>\n      <td>12</td>\n      <td>75</td>\n      <td>Portuguese Grand Prix</td>\n      <td>2020-10-25</td>\n      <td>12:10:00</td>\n    </tr>\n    <tr>\n      <th>1030</th>\n      <td>1043</td>\n      <td>2020</td>\n      <td>13</td>\n      <td>21</td>\n      <td>Emilia Romagna Grand Prix</td>\n      <td>2020-11-01</td>\n      <td>12:10:00</td>\n    </tr>\n    <tr>\n      <th>1031</th>\n      <td>1044</td>\n      <td>2020</td>\n      <td>14</td>\n      <td>5</td>\n      <td>Turkish Grand Prix</td>\n      <td>2020-11-15</td>\n      <td>10:10:00</td>\n    </tr>\n    <tr>\n      <th>1032</th>\n      <td>1045</td>\n      <td>2020</td>\n      <td>15</td>\n      <td>3</td>\n      <td>Bahrain Grand Prix</td>\n      <td>2020-11-29</td>\n      <td>14:10:00</td>\n    </tr>\n    <tr>\n      <th>1033</th>\n      <td>1046</td>\n      <td>2020</td>\n      <td>16</td>\n      <td>3</td>\n      <td>Sakhir Grand Prix</td>\n      <td>2020-12-06</td>\n      <td>17:10:00</td>\n    </tr>\n    <tr>\n      <th>1034</th>\n      <td>1047</td>\n      <td>2020</td>\n      <td>17</td>\n      <td>24</td>\n      <td>Abu Dhabi Grand Prix</td>\n      <td>2020-12-13</td>\n      <td>13:10:00</td>\n    </tr>\n  </tbody>\n</table>\n</div>"
     },
     "metadata": {},
     "execution_count": 327
    }
   ],
   "source": [
    "races[races['year']==2020]"
   ]
  },
  {
   "cell_type": "code",
   "execution_count": 321,
   "metadata": {},
   "outputs": [
    {
     "output_type": "execute_result",
     "data": {
      "text/plain": [
       "      raceId  driverId  stop  lap      time duration  milliseconds\n",
       "0        841       153     1    1  17:05:23   26.898         26898\n",
       "1        841        30     1    1  17:05:52   25.021         25021\n",
       "2        841        17     1   11  17:20:48   23.426         23426\n",
       "3        841         4     1   12  17:22:34   23.251         23251\n",
       "4        841        13     1   13  17:24:10   23.842         23842\n",
       "...      ...       ...   ...  ...       ...      ...           ...\n",
       "8218    1055       822     2   53  16:18:52   21.638         21638\n",
       "8219    1055       815     2   57  16:24:55   21.345         21345\n",
       "8220    1055       844     2   58  16:26:05   22.292         22292\n",
       "8221    1055       830     2   60  16:28:18   21.592         21592\n",
       "8222    1055         4     2   61  16:31:41   23.479         23479\n",
       "\n",
       "[8223 rows x 7 columns]"
      ],
      "text/html": "<div>\n<style scoped>\n    .dataframe tbody tr th:only-of-type {\n        vertical-align: middle;\n    }\n\n    .dataframe tbody tr th {\n        vertical-align: top;\n    }\n\n    .dataframe thead th {\n        text-align: right;\n    }\n</style>\n<table border=\"1\" class=\"dataframe\">\n  <thead>\n    <tr style=\"text-align: right;\">\n      <th></th>\n      <th>raceId</th>\n      <th>driverId</th>\n      <th>stop</th>\n      <th>lap</th>\n      <th>time</th>\n      <th>duration</th>\n      <th>milliseconds</th>\n    </tr>\n  </thead>\n  <tbody>\n    <tr>\n      <th>0</th>\n      <td>841</td>\n      <td>153</td>\n      <td>1</td>\n      <td>1</td>\n      <td>17:05:23</td>\n      <td>26.898</td>\n      <td>26898</td>\n    </tr>\n    <tr>\n      <th>1</th>\n      <td>841</td>\n      <td>30</td>\n      <td>1</td>\n      <td>1</td>\n      <td>17:05:52</td>\n      <td>25.021</td>\n      <td>25021</td>\n    </tr>\n    <tr>\n      <th>2</th>\n      <td>841</td>\n      <td>17</td>\n      <td>1</td>\n      <td>11</td>\n      <td>17:20:48</td>\n      <td>23.426</td>\n      <td>23426</td>\n    </tr>\n    <tr>\n      <th>3</th>\n      <td>841</td>\n      <td>4</td>\n      <td>1</td>\n      <td>12</td>\n      <td>17:22:34</td>\n      <td>23.251</td>\n      <td>23251</td>\n    </tr>\n    <tr>\n      <th>4</th>\n      <td>841</td>\n      <td>13</td>\n      <td>1</td>\n      <td>13</td>\n      <td>17:24:10</td>\n      <td>23.842</td>\n      <td>23842</td>\n    </tr>\n    <tr>\n      <th>...</th>\n      <td>...</td>\n      <td>...</td>\n      <td>...</td>\n      <td>...</td>\n      <td>...</td>\n      <td>...</td>\n      <td>...</td>\n    </tr>\n    <tr>\n      <th>8218</th>\n      <td>1055</td>\n      <td>822</td>\n      <td>2</td>\n      <td>53</td>\n      <td>16:18:52</td>\n      <td>21.638</td>\n      <td>21638</td>\n    </tr>\n    <tr>\n      <th>8219</th>\n      <td>1055</td>\n      <td>815</td>\n      <td>2</td>\n      <td>57</td>\n      <td>16:24:55</td>\n      <td>21.345</td>\n      <td>21345</td>\n    </tr>\n    <tr>\n      <th>8220</th>\n      <td>1055</td>\n      <td>844</td>\n      <td>2</td>\n      <td>58</td>\n      <td>16:26:05</td>\n      <td>22.292</td>\n      <td>22292</td>\n    </tr>\n    <tr>\n      <th>8221</th>\n      <td>1055</td>\n      <td>830</td>\n      <td>2</td>\n      <td>60</td>\n      <td>16:28:18</td>\n      <td>21.592</td>\n      <td>21592</td>\n    </tr>\n    <tr>\n      <th>8222</th>\n      <td>1055</td>\n      <td>4</td>\n      <td>2</td>\n      <td>61</td>\n      <td>16:31:41</td>\n      <td>23.479</td>\n      <td>23479</td>\n    </tr>\n  </tbody>\n</table>\n<p>8223 rows × 7 columns</p>\n</div>"
     },
     "metadata": {},
     "execution_count": 321
    }
   ],
   "source": [
    "pit_stops"
   ]
  },
  {
   "cell_type": "code",
   "execution_count": null,
   "metadata": {},
   "outputs": [],
   "source": []
  }
 ]
}