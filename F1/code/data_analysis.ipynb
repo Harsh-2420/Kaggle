{
 "metadata": {
  "language_info": {
   "codemirror_mode": {
    "name": "ipython",
    "version": 3
   },
   "file_extension": ".py",
   "mimetype": "text/x-python",
   "name": "python",
   "nbconvert_exporter": "python",
   "pygments_lexer": "ipython3",
   "version": "3.9.5"
  },
  "orig_nbformat": 4,
  "kernelspec": {
   "name": "python3",
   "display_name": "Python 3.9.5 64-bit ('spotty': conda)"
  },
  "interpreter": {
   "hash": "7931e8312dc353b9fd3185b38fa051918a9bf6719a176afc6cced50dc033cfac"
  }
 },
 "nbformat": 4,
 "nbformat_minor": 2,
 "cells": [
  {
   "cell_type": "code",
   "execution_count": 87,
   "metadata": {},
   "outputs": [],
   "source": [
    "import pandas as pd\n",
    "import numpy as np\n",
    "import matplotlib.pyplot as plt\n",
    "import sqlite3\n",
    "import pandasql\n",
    "from pandasql import sqldf\n",
    "\n",
    "pysqldf = lambda q: sqldf(q, globals())"
   ]
  },
  {
   "cell_type": "code",
   "execution_count": 81,
   "metadata": {},
   "outputs": [],
   "source": [
    "circuits = pd.read_csv('../data/circuits.csv')\n",
    "constructor_results = pd.read_csv('../data/constructor_results.csv')\n",
    "constructor_standings = pd.read_csv('../data/constructor_standings.csv')\n",
    "constructor = pd.read_csv('../data/constructors.csv')\n",
    "drivers = pd.read_csv('../data/drivers.csv')\n",
    "driver_standings = pd.read_csv('../data/driver_standings.csv')\n",
    "lap_times = pd.read_csv('../data/lap_times.csv')\n",
    "pit_stops = pd.read_csv('../data/pit_stops.csv')\n",
    "qualif = pd.read_csv('../data/qualifying.csv')\n",
    "races = pd.read_csv('../data/races.csv')\n",
    "results = pd.read_csv('../data/results.csv')\n",
    "seasons = pd.read_csv('../data/seasons.csv')\n",
    "status = pd.read_csv('../data/status.csv')"
   ]
  },
  {
   "source": [
    "# Data Cleaning"
   ],
   "cell_type": "markdown",
   "metadata": {}
  },
  {
   "source": [
    "We remove the url links from the datasets and combine some of the datasets for easier readability."
   ],
   "cell_type": "markdown",
   "metadata": {}
  },
  {
   "cell_type": "code",
   "execution_count": 82,
   "metadata": {},
   "outputs": [],
   "source": [
    "circuits = circuits.drop(\"url\", axis=1)\n",
    "constructor = constructor.drop(\"url\", axis=1)\n",
    "drivers = drivers.drop(\"url\", axis=1)\n",
    "seasons = seasons.drop(\"url\", axis=1)\n",
    "races = races.drop(\"url\", axis=1)"
   ]
  },
  {
   "source": [
    "# Data Exploration"
   ],
   "cell_type": "markdown",
   "metadata": {}
  },
  {
   "source": [
    "- constructor wins by circuit"
   ],
   "cell_type": "markdown",
   "metadata": {}
  },
  {
   "cell_type": "code",
   "execution_count": 147,
   "metadata": {},
   "outputs": [
    {
     "output_type": "execute_result",
     "data": {
      "text/plain": [
       "      raceId  constructorId        name  points  position  wins  circuitId  \\\n",
       "0         18              1     McLaren    14.0         1     1          1   \n",
       "1         18              2  BMW Sauber     8.0         3     0          1   \n",
       "2         18              3    Williams     9.0         2     0          1   \n",
       "3         19              1     McLaren    24.0         1     1          2   \n",
       "4         19              2  BMW Sauber    19.0         2     0          2   \n",
       "...      ...            ...         ...     ...       ...   ...        ...   \n",
       "2923    1054              9    Red Bull    83.0         2     1         75   \n",
       "2924    1054              1     McLaren    53.0         3     0         75   \n",
       "2925    1055            131    Mercedes   141.0         1     3          4   \n",
       "2926    1055              9    Red Bull   112.0         2     1          4   \n",
       "2927    1055              1     McLaren    65.0         3     0          4   \n",
       "\n",
       "                circuitName  \n",
       "0     Australian Grand Prix  \n",
       "1     Australian Grand Prix  \n",
       "2     Australian Grand Prix  \n",
       "3      Malaysian Grand Prix  \n",
       "4      Malaysian Grand Prix  \n",
       "...                     ...  \n",
       "2923  Portuguese Grand Prix  \n",
       "2924  Portuguese Grand Prix  \n",
       "2925     Spanish Grand Prix  \n",
       "2926     Spanish Grand Prix  \n",
       "2927     Spanish Grand Prix  \n",
       "\n",
       "[2928 rows x 8 columns]"
      ],
      "text/html": "<div>\n<style scoped>\n    .dataframe tbody tr th:only-of-type {\n        vertical-align: middle;\n    }\n\n    .dataframe tbody tr th {\n        vertical-align: top;\n    }\n\n    .dataframe thead th {\n        text-align: right;\n    }\n</style>\n<table border=\"1\" class=\"dataframe\">\n  <thead>\n    <tr style=\"text-align: right;\">\n      <th></th>\n      <th>raceId</th>\n      <th>constructorId</th>\n      <th>name</th>\n      <th>points</th>\n      <th>position</th>\n      <th>wins</th>\n      <th>circuitId</th>\n      <th>circuitName</th>\n    </tr>\n  </thead>\n  <tbody>\n    <tr>\n      <th>0</th>\n      <td>18</td>\n      <td>1</td>\n      <td>McLaren</td>\n      <td>14.0</td>\n      <td>1</td>\n      <td>1</td>\n      <td>1</td>\n      <td>Australian Grand Prix</td>\n    </tr>\n    <tr>\n      <th>1</th>\n      <td>18</td>\n      <td>2</td>\n      <td>BMW Sauber</td>\n      <td>8.0</td>\n      <td>3</td>\n      <td>0</td>\n      <td>1</td>\n      <td>Australian Grand Prix</td>\n    </tr>\n    <tr>\n      <th>2</th>\n      <td>18</td>\n      <td>3</td>\n      <td>Williams</td>\n      <td>9.0</td>\n      <td>2</td>\n      <td>0</td>\n      <td>1</td>\n      <td>Australian Grand Prix</td>\n    </tr>\n    <tr>\n      <th>3</th>\n      <td>19</td>\n      <td>1</td>\n      <td>McLaren</td>\n      <td>24.0</td>\n      <td>1</td>\n      <td>1</td>\n      <td>2</td>\n      <td>Malaysian Grand Prix</td>\n    </tr>\n    <tr>\n      <th>4</th>\n      <td>19</td>\n      <td>2</td>\n      <td>BMW Sauber</td>\n      <td>19.0</td>\n      <td>2</td>\n      <td>0</td>\n      <td>2</td>\n      <td>Malaysian Grand Prix</td>\n    </tr>\n    <tr>\n      <th>...</th>\n      <td>...</td>\n      <td>...</td>\n      <td>...</td>\n      <td>...</td>\n      <td>...</td>\n      <td>...</td>\n      <td>...</td>\n      <td>...</td>\n    </tr>\n    <tr>\n      <th>2923</th>\n      <td>1054</td>\n      <td>9</td>\n      <td>Red Bull</td>\n      <td>83.0</td>\n      <td>2</td>\n      <td>1</td>\n      <td>75</td>\n      <td>Portuguese Grand Prix</td>\n    </tr>\n    <tr>\n      <th>2924</th>\n      <td>1054</td>\n      <td>1</td>\n      <td>McLaren</td>\n      <td>53.0</td>\n      <td>3</td>\n      <td>0</td>\n      <td>75</td>\n      <td>Portuguese Grand Prix</td>\n    </tr>\n    <tr>\n      <th>2925</th>\n      <td>1055</td>\n      <td>131</td>\n      <td>Mercedes</td>\n      <td>141.0</td>\n      <td>1</td>\n      <td>3</td>\n      <td>4</td>\n      <td>Spanish Grand Prix</td>\n    </tr>\n    <tr>\n      <th>2926</th>\n      <td>1055</td>\n      <td>9</td>\n      <td>Red Bull</td>\n      <td>112.0</td>\n      <td>2</td>\n      <td>1</td>\n      <td>4</td>\n      <td>Spanish Grand Prix</td>\n    </tr>\n    <tr>\n      <th>2927</th>\n      <td>1055</td>\n      <td>1</td>\n      <td>McLaren</td>\n      <td>65.0</td>\n      <td>3</td>\n      <td>0</td>\n      <td>4</td>\n      <td>Spanish Grand Prix</td>\n    </tr>\n  </tbody>\n</table>\n<p>2928 rows × 8 columns</p>\n</div>"
     },
     "metadata": {},
     "execution_count": 147
    }
   ],
   "source": [
    "q = \"\"\"select \n",
    "C.raceId, \n",
    "C.constructorId,\n",
    "CName.name,\n",
    "C.points,\n",
    "C.position, \n",
    "C.wins,\n",
    "R.circuitID,\n",
    "R.name as circuitName\n",
    "from constructor_standings C\n",
    "inner join races R\n",
    "on C.raceID = R.raceID\n",
    "inner join constructor CName\n",
    "on CName.constructorId = C.constructorId\n",
    "where C.position = 1\n",
    "or C.position = 2\n",
    "or C.position = 3\n",
    ";\"\"\"\n",
    "constructor_standings_cleaned = pysqldf(q)\n",
    "constructor_standings_cleaned"
   ]
  },
  {
   "cell_type": "code",
   "execution_count": 294,
   "metadata": {},
   "outputs": [],
   "source": [
    "def get_win_location_count(constructor_standings_cleaned):\n",
    "    win_locations = {}\n",
    "    for row in constructor_standings_cleaned.iterrows():\n",
    "        constructorID = row[1]['name']\n",
    "        circuitName = row[1]['circuitName']\n",
    "        if constructorID not in win_locations:\n",
    "            win_locations[constructorID] = {}\n",
    "            win_locations[constructorID][circuitName]= 1\n",
    "        else:\n",
    "            if circuitName not in win_locations[constructorID]:\n",
    "                win_locations[constructorID][circuitName]= 1\n",
    "            else:\n",
    "                win_locations[constructorID][circuitName] += 1\n",
    "    location_df = pd.DataFrame(win_locations)\n",
    "    return win_locations, location_df\n",
    "\n",
    "win_locations, location_df = get_win_location_count(constructor_standings_cleaned)\n",
    "location_df.reset_index(inplace=True)"
   ]
  },
  {
   "source": [
    "Questions to answer here:\n",
    "- Is there a particular constructor that dominates a circuit and has most wins?\n",
    "- Is there a circuit that a constructor is relatively better at?"
   ],
   "cell_type": "markdown",
   "metadata": {}
  },
  {
   "cell_type": "code",
   "execution_count": 295,
   "metadata": {},
   "outputs": [
    {
     "output_type": "execute_result",
     "data": {
      "text/plain": [
       "                            index  McLaren  BMW Sauber  Williams  Ferrari  \\\n",
       "0           Australian Grand Prix     20.0         2.0      18.0     27.0   \n",
       "1            Malaysian Grand Prix     11.0         3.0       4.0     17.0   \n",
       "2              Bahrain Grand Prix      9.0         2.0       2.0     11.0   \n",
       "3              Spanish Grand Prix     26.0         2.0      17.0     35.0   \n",
       "5               Monaco Grand Prix     30.0         2.0      16.0     48.0   \n",
       "6             Canadian Grand Prix     26.0         2.0      19.0     36.0   \n",
       "7               French Grand Prix     26.0         2.0      15.0     38.0   \n",
       "8              British Grand Prix     29.0         2.0      19.0     48.0   \n",
       "9               German Grand Prix     27.0         1.0      18.0     46.0   \n",
       "10           Hungarian Grand Prix     21.0         2.0      16.0     29.0   \n",
       "11            European Grand Prix     14.0         2.0       9.0     20.0   \n",
       "12             Belgian Grand Prix     27.0         2.0      19.0     44.0   \n",
       "13             Italian Grand Prix     29.0         2.0      21.0     49.0   \n",
       "15            Japanese Grand Prix     21.0         2.0      16.0     31.0   \n",
       "16             Chinese Grand Prix      6.0         2.0       1.0     14.0   \n",
       "17           Brazilian Grand Prix     28.0         2.0      18.0     33.0   \n",
       "18          San Marino Grand Prix     21.0         NaN      14.0     20.0   \n",
       "19       United States Grand Prix     16.0         1.0      10.0     31.0   \n",
       "20            Austrian Grand Prix     17.0         NaN      11.0     25.0   \n",
       "21           Argentine Grand Prix      6.0         NaN       6.0     10.0   \n",
       "23       South African Grand Prix     11.0         NaN       5.0     10.0   \n",
       "24          Portuguese Grand Prix     11.0         NaN      10.0     12.0   \n",
       "25             Mexican Grand Prix      7.0         NaN       6.0     12.0   \n",
       "27               Dutch Grand Prix      7.0         NaN       3.0     19.0   \n",
       "29  United States Grand Prix West      3.0         NaN       3.0      5.0   \n",
       "\n",
       "    Renault  Red Bull  Toyota  BAR  Jordan  ...  Brabham-Repco  Cooper-Climax  \\\n",
       "0       6.0       7.0     1.0  1.0     1.0  ...            NaN            NaN   \n",
       "1       5.0       7.0     2.0  NaN     2.0  ...            NaN            NaN   \n",
       "2       4.0       8.0     2.0  NaN     NaN  ...            NaN            NaN   \n",
       "3       5.0      12.0     2.0  1.0     1.0  ...            NaN            NaN   \n",
       "5       7.0      10.0     2.0  1.0     1.0  ...            1.0            5.0   \n",
       "6       7.0       9.0     NaN  1.0     1.0  ...            1.0            NaN   \n",
       "7       7.0       2.0     NaN  1.0     1.0  ...            2.0            4.0   \n",
       "8       5.0      11.0     1.0  1.0     1.0  ...            2.0            4.0   \n",
       "9       5.0       9.0     1.0  1.0     1.0  ...            2.0            2.0   \n",
       "10      4.0      11.0     NaN  1.0     1.0  ...            NaN            NaN   \n",
       "11      5.0       5.0     1.0  1.0     1.0  ...            NaN            NaN   \n",
       "12      7.0      11.0     NaN  1.0     1.0  ...            1.0            4.0   \n",
       "13      7.0      11.0     NaN  1.0     1.0  ...            2.0            3.0   \n",
       "15      4.0      10.0     NaN  1.0     1.0  ...            NaN            NaN   \n",
       "16      4.0      10.0     1.0  1.0     NaN  ...            NaN            NaN   \n",
       "17      7.0      10.0     NaN  1.0     2.0  ...            NaN            NaN   \n",
       "18      7.0       NaN     1.0  1.0     1.0  ...            NaN            NaN   \n",
       "19      4.0       7.0     NaN  1.0     NaN  ...            2.0            3.0   \n",
       "20      2.0       5.0     NaN  NaN     1.0  ...            NaN            NaN   \n",
       "21      1.0       NaN     NaN  NaN     NaN  ...            NaN            1.0   \n",
       "23      4.0       NaN     NaN  NaN     NaN  ...            1.0            2.0   \n",
       "24      NaN       2.0     NaN  NaN     NaN  ...            NaN            2.0   \n",
       "25      NaN       4.0     NaN  NaN     NaN  ...            2.0            NaN   \n",
       "27      2.0       NaN     NaN  NaN     NaN  ...            2.0            3.0   \n",
       "29      2.0       NaN     NaN  NaN     NaN  ...            NaN            NaN   \n",
       "\n",
       "    Cooper-Maserati  Lotus-Climax  Porsche  Vanwall  Cooper  Brabham-Ford  \\\n",
       "0               NaN           NaN      NaN      NaN     NaN           NaN   \n",
       "1               NaN           NaN      NaN      NaN     NaN           NaN   \n",
       "2               NaN           NaN      NaN      NaN     NaN           NaN   \n",
       "3               NaN           NaN      NaN      NaN     NaN           NaN   \n",
       "5               3.0           3.0      1.0      NaN     1.0           NaN   \n",
       "6               1.0           NaN      NaN      NaN     NaN           1.0   \n",
       "7               1.0           5.0      1.0      1.0     1.0           NaN   \n",
       "8               1.0           5.0      1.0      1.0     1.0           NaN   \n",
       "9               1.0           5.0      1.0      1.0     1.0           1.0   \n",
       "10              NaN           NaN      NaN      NaN     NaN           NaN   \n",
       "11              NaN           NaN      NaN      NaN     NaN           NaN   \n",
       "12              2.0           5.0      NaN      1.0     1.0           NaN   \n",
       "13              1.0           5.0      1.0      1.0     1.0           1.0   \n",
       "15              NaN           NaN      NaN      NaN     NaN           NaN   \n",
       "16              NaN           NaN      NaN      NaN     NaN           NaN   \n",
       "17              NaN           NaN      NaN      NaN     NaN           NaN   \n",
       "18              NaN           NaN      NaN      NaN     NaN           NaN   \n",
       "19              2.0           5.0      1.0      NaN     NaN           1.0   \n",
       "20              NaN           1.0      NaN      NaN     NaN           NaN   \n",
       "21              1.0           NaN      NaN      NaN     1.0           NaN   \n",
       "23              1.0           3.0      NaN      NaN     NaN           NaN   \n",
       "24              NaN           NaN      NaN      1.0     1.0           NaN   \n",
       "25              2.0           3.0      NaN      NaN     NaN           1.0   \n",
       "27              1.0           5.0      1.0      1.0     1.0           NaN   \n",
       "29              NaN           NaN      NaN      NaN     NaN           NaN   \n",
       "\n",
       "    Mercedes  Lotus F1  \n",
       "0        7.0       1.0  \n",
       "1        4.0       1.0  \n",
       "2        9.0       2.0  \n",
       "3        8.0       2.0  \n",
       "5        6.0       1.0  \n",
       "6        7.0       1.0  \n",
       "7        2.0       NaN  \n",
       "8        8.0       1.0  \n",
       "9        5.0       NaN  \n",
       "10       8.0       1.0  \n",
       "11       1.0       1.0  \n",
       "12       8.0       1.0  \n",
       "13       8.0       NaN  \n",
       "15       7.0       NaN  \n",
       "16       6.0       1.0  \n",
       "17       7.0       NaN  \n",
       "18       NaN       NaN  \n",
       "19       7.0       NaN  \n",
       "20       7.0       NaN  \n",
       "21       NaN       NaN  \n",
       "23       NaN       NaN  \n",
       "24       2.0       NaN  \n",
       "25       5.0       NaN  \n",
       "27       NaN       NaN  \n",
       "29       NaN       NaN  \n",
       "\n",
       "[25 rows x 32 columns]"
      ],
      "text/html": "<div>\n<style scoped>\n    .dataframe tbody tr th:only-of-type {\n        vertical-align: middle;\n    }\n\n    .dataframe tbody tr th {\n        vertical-align: top;\n    }\n\n    .dataframe thead th {\n        text-align: right;\n    }\n</style>\n<table border=\"1\" class=\"dataframe\">\n  <thead>\n    <tr style=\"text-align: right;\">\n      <th></th>\n      <th>index</th>\n      <th>McLaren</th>\n      <th>BMW Sauber</th>\n      <th>Williams</th>\n      <th>Ferrari</th>\n      <th>Renault</th>\n      <th>Red Bull</th>\n      <th>Toyota</th>\n      <th>BAR</th>\n      <th>Jordan</th>\n      <th>...</th>\n      <th>Brabham-Repco</th>\n      <th>Cooper-Climax</th>\n      <th>Cooper-Maserati</th>\n      <th>Lotus-Climax</th>\n      <th>Porsche</th>\n      <th>Vanwall</th>\n      <th>Cooper</th>\n      <th>Brabham-Ford</th>\n      <th>Mercedes</th>\n      <th>Lotus F1</th>\n    </tr>\n  </thead>\n  <tbody>\n    <tr>\n      <th>0</th>\n      <td>Australian Grand Prix</td>\n      <td>20.0</td>\n      <td>2.0</td>\n      <td>18.0</td>\n      <td>27.0</td>\n      <td>6.0</td>\n      <td>7.0</td>\n      <td>1.0</td>\n      <td>1.0</td>\n      <td>1.0</td>\n      <td>...</td>\n      <td>NaN</td>\n      <td>NaN</td>\n      <td>NaN</td>\n      <td>NaN</td>\n      <td>NaN</td>\n      <td>NaN</td>\n      <td>NaN</td>\n      <td>NaN</td>\n      <td>7.0</td>\n      <td>1.0</td>\n    </tr>\n    <tr>\n      <th>1</th>\n      <td>Malaysian Grand Prix</td>\n      <td>11.0</td>\n      <td>3.0</td>\n      <td>4.0</td>\n      <td>17.0</td>\n      <td>5.0</td>\n      <td>7.0</td>\n      <td>2.0</td>\n      <td>NaN</td>\n      <td>2.0</td>\n      <td>...</td>\n      <td>NaN</td>\n      <td>NaN</td>\n      <td>NaN</td>\n      <td>NaN</td>\n      <td>NaN</td>\n      <td>NaN</td>\n      <td>NaN</td>\n      <td>NaN</td>\n      <td>4.0</td>\n      <td>1.0</td>\n    </tr>\n    <tr>\n      <th>2</th>\n      <td>Bahrain Grand Prix</td>\n      <td>9.0</td>\n      <td>2.0</td>\n      <td>2.0</td>\n      <td>11.0</td>\n      <td>4.0</td>\n      <td>8.0</td>\n      <td>2.0</td>\n      <td>NaN</td>\n      <td>NaN</td>\n      <td>...</td>\n      <td>NaN</td>\n      <td>NaN</td>\n      <td>NaN</td>\n      <td>NaN</td>\n      <td>NaN</td>\n      <td>NaN</td>\n      <td>NaN</td>\n      <td>NaN</td>\n      <td>9.0</td>\n      <td>2.0</td>\n    </tr>\n    <tr>\n      <th>3</th>\n      <td>Spanish Grand Prix</td>\n      <td>26.0</td>\n      <td>2.0</td>\n      <td>17.0</td>\n      <td>35.0</td>\n      <td>5.0</td>\n      <td>12.0</td>\n      <td>2.0</td>\n      <td>1.0</td>\n      <td>1.0</td>\n      <td>...</td>\n      <td>NaN</td>\n      <td>NaN</td>\n      <td>NaN</td>\n      <td>NaN</td>\n      <td>NaN</td>\n      <td>NaN</td>\n      <td>NaN</td>\n      <td>NaN</td>\n      <td>8.0</td>\n      <td>2.0</td>\n    </tr>\n    <tr>\n      <th>5</th>\n      <td>Monaco Grand Prix</td>\n      <td>30.0</td>\n      <td>2.0</td>\n      <td>16.0</td>\n      <td>48.0</td>\n      <td>7.0</td>\n      <td>10.0</td>\n      <td>2.0</td>\n      <td>1.0</td>\n      <td>1.0</td>\n      <td>...</td>\n      <td>1.0</td>\n      <td>5.0</td>\n      <td>3.0</td>\n      <td>3.0</td>\n      <td>1.0</td>\n      <td>NaN</td>\n      <td>1.0</td>\n      <td>NaN</td>\n      <td>6.0</td>\n      <td>1.0</td>\n    </tr>\n    <tr>\n      <th>6</th>\n      <td>Canadian Grand Prix</td>\n      <td>26.0</td>\n      <td>2.0</td>\n      <td>19.0</td>\n      <td>36.0</td>\n      <td>7.0</td>\n      <td>9.0</td>\n      <td>NaN</td>\n      <td>1.0</td>\n      <td>1.0</td>\n      <td>...</td>\n      <td>1.0</td>\n      <td>NaN</td>\n      <td>1.0</td>\n      <td>NaN</td>\n      <td>NaN</td>\n      <td>NaN</td>\n      <td>NaN</td>\n      <td>1.0</td>\n      <td>7.0</td>\n      <td>1.0</td>\n    </tr>\n    <tr>\n      <th>7</th>\n      <td>French Grand Prix</td>\n      <td>26.0</td>\n      <td>2.0</td>\n      <td>15.0</td>\n      <td>38.0</td>\n      <td>7.0</td>\n      <td>2.0</td>\n      <td>NaN</td>\n      <td>1.0</td>\n      <td>1.0</td>\n      <td>...</td>\n      <td>2.0</td>\n      <td>4.0</td>\n      <td>1.0</td>\n      <td>5.0</td>\n      <td>1.0</td>\n      <td>1.0</td>\n      <td>1.0</td>\n      <td>NaN</td>\n      <td>2.0</td>\n      <td>NaN</td>\n    </tr>\n    <tr>\n      <th>8</th>\n      <td>British Grand Prix</td>\n      <td>29.0</td>\n      <td>2.0</td>\n      <td>19.0</td>\n      <td>48.0</td>\n      <td>5.0</td>\n      <td>11.0</td>\n      <td>1.0</td>\n      <td>1.0</td>\n      <td>1.0</td>\n      <td>...</td>\n      <td>2.0</td>\n      <td>4.0</td>\n      <td>1.0</td>\n      <td>5.0</td>\n      <td>1.0</td>\n      <td>1.0</td>\n      <td>1.0</td>\n      <td>NaN</td>\n      <td>8.0</td>\n      <td>1.0</td>\n    </tr>\n    <tr>\n      <th>9</th>\n      <td>German Grand Prix</td>\n      <td>27.0</td>\n      <td>1.0</td>\n      <td>18.0</td>\n      <td>46.0</td>\n      <td>5.0</td>\n      <td>9.0</td>\n      <td>1.0</td>\n      <td>1.0</td>\n      <td>1.0</td>\n      <td>...</td>\n      <td>2.0</td>\n      <td>2.0</td>\n      <td>1.0</td>\n      <td>5.0</td>\n      <td>1.0</td>\n      <td>1.0</td>\n      <td>1.0</td>\n      <td>1.0</td>\n      <td>5.0</td>\n      <td>NaN</td>\n    </tr>\n    <tr>\n      <th>10</th>\n      <td>Hungarian Grand Prix</td>\n      <td>21.0</td>\n      <td>2.0</td>\n      <td>16.0</td>\n      <td>29.0</td>\n      <td>4.0</td>\n      <td>11.0</td>\n      <td>NaN</td>\n      <td>1.0</td>\n      <td>1.0</td>\n      <td>...</td>\n      <td>NaN</td>\n      <td>NaN</td>\n      <td>NaN</td>\n      <td>NaN</td>\n      <td>NaN</td>\n      <td>NaN</td>\n      <td>NaN</td>\n      <td>NaN</td>\n      <td>8.0</td>\n      <td>1.0</td>\n    </tr>\n    <tr>\n      <th>11</th>\n      <td>European Grand Prix</td>\n      <td>14.0</td>\n      <td>2.0</td>\n      <td>9.0</td>\n      <td>20.0</td>\n      <td>5.0</td>\n      <td>5.0</td>\n      <td>1.0</td>\n      <td>1.0</td>\n      <td>1.0</td>\n      <td>...</td>\n      <td>NaN</td>\n      <td>NaN</td>\n      <td>NaN</td>\n      <td>NaN</td>\n      <td>NaN</td>\n      <td>NaN</td>\n      <td>NaN</td>\n      <td>NaN</td>\n      <td>1.0</td>\n      <td>1.0</td>\n    </tr>\n    <tr>\n      <th>12</th>\n      <td>Belgian Grand Prix</td>\n      <td>27.0</td>\n      <td>2.0</td>\n      <td>19.0</td>\n      <td>44.0</td>\n      <td>7.0</td>\n      <td>11.0</td>\n      <td>NaN</td>\n      <td>1.0</td>\n      <td>1.0</td>\n      <td>...</td>\n      <td>1.0</td>\n      <td>4.0</td>\n      <td>2.0</td>\n      <td>5.0</td>\n      <td>NaN</td>\n      <td>1.0</td>\n      <td>1.0</td>\n      <td>NaN</td>\n      <td>8.0</td>\n      <td>1.0</td>\n    </tr>\n    <tr>\n      <th>13</th>\n      <td>Italian Grand Prix</td>\n      <td>29.0</td>\n      <td>2.0</td>\n      <td>21.0</td>\n      <td>49.0</td>\n      <td>7.0</td>\n      <td>11.0</td>\n      <td>NaN</td>\n      <td>1.0</td>\n      <td>1.0</td>\n      <td>...</td>\n      <td>2.0</td>\n      <td>3.0</td>\n      <td>1.0</td>\n      <td>5.0</td>\n      <td>1.0</td>\n      <td>1.0</td>\n      <td>1.0</td>\n      <td>1.0</td>\n      <td>8.0</td>\n      <td>NaN</td>\n    </tr>\n    <tr>\n      <th>15</th>\n      <td>Japanese Grand Prix</td>\n      <td>21.0</td>\n      <td>2.0</td>\n      <td>16.0</td>\n      <td>31.0</td>\n      <td>4.0</td>\n      <td>10.0</td>\n      <td>NaN</td>\n      <td>1.0</td>\n      <td>1.0</td>\n      <td>...</td>\n      <td>NaN</td>\n      <td>NaN</td>\n      <td>NaN</td>\n      <td>NaN</td>\n      <td>NaN</td>\n      <td>NaN</td>\n      <td>NaN</td>\n      <td>NaN</td>\n      <td>7.0</td>\n      <td>NaN</td>\n    </tr>\n    <tr>\n      <th>16</th>\n      <td>Chinese Grand Prix</td>\n      <td>6.0</td>\n      <td>2.0</td>\n      <td>1.0</td>\n      <td>14.0</td>\n      <td>4.0</td>\n      <td>10.0</td>\n      <td>1.0</td>\n      <td>1.0</td>\n      <td>NaN</td>\n      <td>...</td>\n      <td>NaN</td>\n      <td>NaN</td>\n      <td>NaN</td>\n      <td>NaN</td>\n      <td>NaN</td>\n      <td>NaN</td>\n      <td>NaN</td>\n      <td>NaN</td>\n      <td>6.0</td>\n      <td>1.0</td>\n    </tr>\n    <tr>\n      <th>17</th>\n      <td>Brazilian Grand Prix</td>\n      <td>28.0</td>\n      <td>2.0</td>\n      <td>18.0</td>\n      <td>33.0</td>\n      <td>7.0</td>\n      <td>10.0</td>\n      <td>NaN</td>\n      <td>1.0</td>\n      <td>2.0</td>\n      <td>...</td>\n      <td>NaN</td>\n      <td>NaN</td>\n      <td>NaN</td>\n      <td>NaN</td>\n      <td>NaN</td>\n      <td>NaN</td>\n      <td>NaN</td>\n      <td>NaN</td>\n      <td>7.0</td>\n      <td>NaN</td>\n    </tr>\n    <tr>\n      <th>18</th>\n      <td>San Marino Grand Prix</td>\n      <td>21.0</td>\n      <td>NaN</td>\n      <td>14.0</td>\n      <td>20.0</td>\n      <td>7.0</td>\n      <td>NaN</td>\n      <td>1.0</td>\n      <td>1.0</td>\n      <td>1.0</td>\n      <td>...</td>\n      <td>NaN</td>\n      <td>NaN</td>\n      <td>NaN</td>\n      <td>NaN</td>\n      <td>NaN</td>\n      <td>NaN</td>\n      <td>NaN</td>\n      <td>NaN</td>\n      <td>NaN</td>\n      <td>NaN</td>\n    </tr>\n    <tr>\n      <th>19</th>\n      <td>United States Grand Prix</td>\n      <td>16.0</td>\n      <td>1.0</td>\n      <td>10.0</td>\n      <td>31.0</td>\n      <td>4.0</td>\n      <td>7.0</td>\n      <td>NaN</td>\n      <td>1.0</td>\n      <td>NaN</td>\n      <td>...</td>\n      <td>2.0</td>\n      <td>3.0</td>\n      <td>2.0</td>\n      <td>5.0</td>\n      <td>1.0</td>\n      <td>NaN</td>\n      <td>NaN</td>\n      <td>1.0</td>\n      <td>7.0</td>\n      <td>NaN</td>\n    </tr>\n    <tr>\n      <th>20</th>\n      <td>Austrian Grand Prix</td>\n      <td>17.0</td>\n      <td>NaN</td>\n      <td>11.0</td>\n      <td>25.0</td>\n      <td>2.0</td>\n      <td>5.0</td>\n      <td>NaN</td>\n      <td>NaN</td>\n      <td>1.0</td>\n      <td>...</td>\n      <td>NaN</td>\n      <td>NaN</td>\n      <td>NaN</td>\n      <td>1.0</td>\n      <td>NaN</td>\n      <td>NaN</td>\n      <td>NaN</td>\n      <td>NaN</td>\n      <td>7.0</td>\n      <td>NaN</td>\n    </tr>\n    <tr>\n      <th>21</th>\n      <td>Argentine Grand Prix</td>\n      <td>6.0</td>\n      <td>NaN</td>\n      <td>6.0</td>\n      <td>10.0</td>\n      <td>1.0</td>\n      <td>NaN</td>\n      <td>NaN</td>\n      <td>NaN</td>\n      <td>NaN</td>\n      <td>...</td>\n      <td>NaN</td>\n      <td>1.0</td>\n      <td>1.0</td>\n      <td>NaN</td>\n      <td>NaN</td>\n      <td>NaN</td>\n      <td>1.0</td>\n      <td>NaN</td>\n      <td>NaN</td>\n      <td>NaN</td>\n    </tr>\n    <tr>\n      <th>23</th>\n      <td>South African Grand Prix</td>\n      <td>11.0</td>\n      <td>NaN</td>\n      <td>5.0</td>\n      <td>10.0</td>\n      <td>4.0</td>\n      <td>NaN</td>\n      <td>NaN</td>\n      <td>NaN</td>\n      <td>NaN</td>\n      <td>...</td>\n      <td>1.0</td>\n      <td>2.0</td>\n      <td>1.0</td>\n      <td>3.0</td>\n      <td>NaN</td>\n      <td>NaN</td>\n      <td>NaN</td>\n      <td>NaN</td>\n      <td>NaN</td>\n      <td>NaN</td>\n    </tr>\n    <tr>\n      <th>24</th>\n      <td>Portuguese Grand Prix</td>\n      <td>11.0</td>\n      <td>NaN</td>\n      <td>10.0</td>\n      <td>12.0</td>\n      <td>NaN</td>\n      <td>2.0</td>\n      <td>NaN</td>\n      <td>NaN</td>\n      <td>NaN</td>\n      <td>...</td>\n      <td>NaN</td>\n      <td>2.0</td>\n      <td>NaN</td>\n      <td>NaN</td>\n      <td>NaN</td>\n      <td>1.0</td>\n      <td>1.0</td>\n      <td>NaN</td>\n      <td>2.0</td>\n      <td>NaN</td>\n    </tr>\n    <tr>\n      <th>25</th>\n      <td>Mexican Grand Prix</td>\n      <td>7.0</td>\n      <td>NaN</td>\n      <td>6.0</td>\n      <td>12.0</td>\n      <td>NaN</td>\n      <td>4.0</td>\n      <td>NaN</td>\n      <td>NaN</td>\n      <td>NaN</td>\n      <td>...</td>\n      <td>2.0</td>\n      <td>NaN</td>\n      <td>2.0</td>\n      <td>3.0</td>\n      <td>NaN</td>\n      <td>NaN</td>\n      <td>NaN</td>\n      <td>1.0</td>\n      <td>5.0</td>\n      <td>NaN</td>\n    </tr>\n    <tr>\n      <th>27</th>\n      <td>Dutch Grand Prix</td>\n      <td>7.0</td>\n      <td>NaN</td>\n      <td>3.0</td>\n      <td>19.0</td>\n      <td>2.0</td>\n      <td>NaN</td>\n      <td>NaN</td>\n      <td>NaN</td>\n      <td>NaN</td>\n      <td>...</td>\n      <td>2.0</td>\n      <td>3.0</td>\n      <td>1.0</td>\n      <td>5.0</td>\n      <td>1.0</td>\n      <td>1.0</td>\n      <td>1.0</td>\n      <td>NaN</td>\n      <td>NaN</td>\n      <td>NaN</td>\n    </tr>\n    <tr>\n      <th>29</th>\n      <td>United States Grand Prix West</td>\n      <td>3.0</td>\n      <td>NaN</td>\n      <td>3.0</td>\n      <td>5.0</td>\n      <td>2.0</td>\n      <td>NaN</td>\n      <td>NaN</td>\n      <td>NaN</td>\n      <td>NaN</td>\n      <td>...</td>\n      <td>NaN</td>\n      <td>NaN</td>\n      <td>NaN</td>\n      <td>NaN</td>\n      <td>NaN</td>\n      <td>NaN</td>\n      <td>NaN</td>\n      <td>NaN</td>\n      <td>NaN</td>\n      <td>NaN</td>\n    </tr>\n  </tbody>\n</table>\n<p>25 rows × 32 columns</p>\n</div>"
     },
     "metadata": {},
     "execution_count": 295
    }
   ],
   "source": [
    "location_na = location_df.T.isna().sum()\n",
    "for k, circuit in enumerate(list(location_na)):\n",
    "    if circuit > 38:\n",
    "        location_df.drop(k, axis=0, inplace=True)\n",
    "\n",
    "constructor_na = location_df.isna().sum()\n",
    "drop_list = []\n",
    "for k, constructor_n in enumerate(list(constructor_na)):\n",
    "    if constructor_n > 20:\n",
    "        drop_list.append(k)\n",
    "location_df.drop(location_df.columns[drop_list], axis=1, inplace=True)\n",
    "location_df\n"
   ]
  },
  {
   "cell_type": "code",
   "execution_count": null,
   "metadata": {},
   "outputs": [],
   "source": []
  }
 ]
}